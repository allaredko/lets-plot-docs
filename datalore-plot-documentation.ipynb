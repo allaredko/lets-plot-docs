{
 "cells": [
  {
   "cell_type": "markdown",
   "metadata": {
    "collapsed": true,
    "pycharm": {
     "name": "#%% md\n"
    }
   },
   "source": [
    "# Lets-Plot User's Guide\n",
    "\n",
    "<a href=\"https://opensource.org/licenses/MIT\">\n",
    "<img src=\"https://img.shields.io/badge/License-MIT-yellow.svg\" alt=\"Couldn't load MIT license svg\"/>\n",
    "</a>\n",
    "\n",
    "- [System requirements](#sys)\n",
    "- [Installation](#install)\n",
    "- [Understanding architecture](#implementation)\n",
    "- [Learning API](#api)\n",
    "- [Getting started](#gsg)\n",
    "\n",
    "\n",
    "**Lets-Plot** is an open-source plotting library for statistical data. It is implemented using the \n",
    "[Kotlin programming language](https://kotlinlang.org/) that has the multi-platform nature.\n",
    "That's why Lets-Plot provides the plotting functionality that \n",
    "is packaged as a JavaScript library, a JVM library, and a native Python extension.\n",
    "\n",
    "The design of Lets-Plot library is heavily influenced by Leland Wilkinson work \n",
    "[The Grammar of Graphics](https://www.goodreads.com/book/show/2549408.The_Grammar_of_Graphics) describing the deep features \n",
    "that underlie all statistical graphics.\n",
    "\n",
    "<a name=\"SystemRequirementa\" id=\"sys\"></a>\n",
    "## System requirements\n",
    "\n",
    "Supported operating systems:\n",
    "- macOS\n",
    "- Linux\n",
    "\n",
    "Supported Python versions:\n",
    "- 3.7\n",
    "- 3.8\n",
    "\n",
    "<a name=\"Installation\" id=\"install\"></a>\n",
    "## Installation\n",
    "\n",
    "The `lets-plot` package is available in the [pypi.org](https://pypi.org) repository.\n",
    "Execute the following command to add the `lets-plot` package to your Python interpreter:\n",
    "\n",
    "`pip install lets-plot`\n",
    "\n",
    "<a name=\"Implementation\" id=\"implementation\"></a>\n",
    "## Understanding Lets-Plot architecture\n",
    "In `lets-plot`, the **plot** is represented at least by one\n",
    "**layer**. It can be built based on the default dataset with the aesthetics mappings, set of scales, or additional \n",
    "features applied.\n",
    "\n",
    "The **Layer** is responsible for creating the objects painted on the ‘canvas’ and it contains the following elements:\n",
    "- **Data** - the set of data specified either once for all layers or on per layer basis.\n",
    "One plot can combine multiple different datasets (one per layer).\n",
    "- **Aesthetic mapping** - describes how variables in the dataset are mapped to visual properties of the layer, such as color, shape, size, or position.\n",
    "- **Geometric object** - a geometric object used draw observations.\n",
    "- **Statistical transformation** - computes some kind of statistical summary on the raw input data. \n",
    "For example, ‘bin’ statistic is used for histograms and `smooth` stat is used for regression lines. \n",
    "Most stats take additional parameters to specify details of statistical transformation of data.\n",
    "- **Position adjustment** - method used compute the final coordinates of geometry. \n",
    "Used to build variants of the same geom object or to avoid overplotting.\n",
    "\n",
    "![layer diagram](layer-small.png)\n",
    "\n",
    "<a name=\"API\" id=\"api\"></a>\n",
    "## Learning API\n",
    "\n",
    "```\n",
    "p = ggplot(data=df) \n",
    "p + layer(geom='point', stat='identity', mapping=aes('x', 'y', size='x'), position='identity')\n",
    "```\n",
    "\n",
    "### Geometric objects\n",
    "- Area chart: [`geom_area()`](https://github.com/JetBrains/lets-plot/blob/master/docs/ref/python/geoms.md#geom_area-geom_ribbon)\n",
    "- Bar chart: [`geom_bar()`](https://github.com/JetBrains/lets-plot/blob/master/docs/ref/python/geoms.md#geom_bar--bar-chart)\n",
    "- Boxplot chart: [`geom_boxplot()`](https://github.com/JetBrains/lets-plot/blob/master/docs/ref/python/geoms.md#geom_boxplot)\n",
    "- Contour chart: [`geom_contour(), geom_contourf()`](https://github.com/JetBrains/lets-plot/blob/master/docs/ref/python/geoms.md#geom_contour-geom_contourf)\n",
    "- Density chart: [`geom_density()`](https://github.com/JetBrains/lets-plot/blob/master/docs/ref/python/geoms.md#geom_density)\n",
    "- Error bar chart: [`geom_errorbar()`](https://github.com/JetBrains/lets-plot/blob/master/docs/ref/python/geoms.md#geom_errorbar)\n",
    "- Historgam: [`geom_histogram()`](https://github.com/JetBrains/lets-plot/blob/master/docs/ref/python/geoms.md#geom_freqpoly-geom_histogram)\n",
    "- Line chart[`geom_line()`](https://github.com/JetBrains/lets-plot/blob/master/docs/ref/python/geoms.md#geom_path-geom_line-geom_step)\n",
    "- Scatter chart[`geom_point()`](https://github.com/JetBrains/lets-plot/blob/master/docs/ref/python/geoms.md#geom_point)\n",
    "- Polygon chart [`geom_polygon`](https://github.com/JetBrains/lets-plot/blob/master/docs/ref/python/geoms.md#geom_polygon)\n",
    "- Rectangle chart, Tile chart: [`geom_rect()`, `geom_tile()`](https://github.com/JetBrains/lets-plot/blob/master/docs/ref/python/geoms.md#geom_raster-geom_tile-geom_rect)"
   ]
  },
  {
   "cell_type": "code",
   "execution_count": 16,
   "outputs": [
    {
     "data": {
      "text/plain": "   Unnamed: 0 manufacturer model  displ  year  cyl       trans drv  cty  hwy  \\\n0           1         audi    a4    1.8  1999    4    auto(l5)   f   18   29   \n1           2         audi    a4    1.8  1999    4  manual(m5)   f   21   29   \n2           3         audi    a4    2.0  2008    4  manual(m6)   f   20   31   \n3           4         audi    a4    2.0  2008    4    auto(av)   f   21   30   \n4           5         audi    a4    2.8  1999    6    auto(l5)   f   16   26   \n\n  fl    class  \n0  p  compact  \n1  p  compact  \n2  p  compact  \n3  p  compact  \n4  p  compact  ",
      "text/html": "<div>\n<style scoped>\n    .dataframe tbody tr th:only-of-type {\n        vertical-align: middle;\n    }\n\n    .dataframe tbody tr th {\n        vertical-align: top;\n    }\n\n    .dataframe thead th {\n        text-align: right;\n    }\n</style>\n<table border=\"1\" class=\"dataframe\">\n  <thead>\n    <tr style=\"text-align: right;\">\n      <th></th>\n      <th>Unnamed: 0</th>\n      <th>manufacturer</th>\n      <th>model</th>\n      <th>displ</th>\n      <th>year</th>\n      <th>cyl</th>\n      <th>trans</th>\n      <th>drv</th>\n      <th>cty</th>\n      <th>hwy</th>\n      <th>fl</th>\n      <th>class</th>\n    </tr>\n  </thead>\n  <tbody>\n    <tr>\n      <th>0</th>\n      <td>1</td>\n      <td>audi</td>\n      <td>a4</td>\n      <td>1.8</td>\n      <td>1999</td>\n      <td>4</td>\n      <td>auto(l5)</td>\n      <td>f</td>\n      <td>18</td>\n      <td>29</td>\n      <td>p</td>\n      <td>compact</td>\n    </tr>\n    <tr>\n      <th>1</th>\n      <td>2</td>\n      <td>audi</td>\n      <td>a4</td>\n      <td>1.8</td>\n      <td>1999</td>\n      <td>4</td>\n      <td>manual(m5)</td>\n      <td>f</td>\n      <td>21</td>\n      <td>29</td>\n      <td>p</td>\n      <td>compact</td>\n    </tr>\n    <tr>\n      <th>2</th>\n      <td>3</td>\n      <td>audi</td>\n      <td>a4</td>\n      <td>2.0</td>\n      <td>2008</td>\n      <td>4</td>\n      <td>manual(m6)</td>\n      <td>f</td>\n      <td>20</td>\n      <td>31</td>\n      <td>p</td>\n      <td>compact</td>\n    </tr>\n    <tr>\n      <th>3</th>\n      <td>4</td>\n      <td>audi</td>\n      <td>a4</td>\n      <td>2.0</td>\n      <td>2008</td>\n      <td>4</td>\n      <td>auto(av)</td>\n      <td>f</td>\n      <td>21</td>\n      <td>30</td>\n      <td>p</td>\n      <td>compact</td>\n    </tr>\n    <tr>\n      <th>4</th>\n      <td>5</td>\n      <td>audi</td>\n      <td>a4</td>\n      <td>2.8</td>\n      <td>1999</td>\n      <td>6</td>\n      <td>auto(l5)</td>\n      <td>f</td>\n      <td>16</td>\n      <td>26</td>\n      <td>p</td>\n      <td>compact</td>\n    </tr>\n  </tbody>\n</table>\n</div>"
     },
     "metadata": {},
     "output_type": "execute_result",
     "execution_count": 16
    }
   ],
   "source": [
    "# Data set\n",
    "\n",
    "import pandas as pd\n",
    "from datalore_plot import *\n",
    "mpg = pd.read_csv('http://jetbrains.bintray.com/datalore-plot/mpg.csv')\n",
    "mpg.head()"
   ],
   "metadata": {
    "collapsed": false,
    "pycharm": {
     "name": "#%%\n",
     "is_executing": false
    }
   }
  },
  {
   "cell_type": "code",
   "execution_count": 17,
   "outputs": [],
   "source": [
    "# Data mapping\n",
    "p = ggplot(mpg, aes('cty', 'hwy'))"
   ],
   "metadata": {
    "collapsed": false,
    "pycharm": {
     "name": "#%%\n",
     "is_executing": false
    }
   }
  },
  {
   "cell_type": "code",
   "execution_count": 18,
   "outputs": [
    {
     "data": {
      "text/plain": "<datalore_plot.plot.core.PlotSpec at 0x122ebd0d0>",
      "text/html": "\n            <div id=\"plot_output_bgAoea\"></div>\n            <script type=\"text/javascript\">\n                (function() {\n                    var plotSpec={\n'data':{\n},\n'mapping':{\n'x':\"cty\",\n'y':\"hwy\"\n},\n'kind':\"plot\",\n'scales':[],\n'layers':[{\n'geom':\"bar\",\n'data':{\n'cty':[18.0,21.0,20.0,16.0,19.0,15.0,17.0,14.0,11.0,13.0,12.0,22.0,9.0,28.0,24.0,25.0,23.0,26.0,33.0,35.0,29.0],\n'hwy':[26.0,23.0,11.0,19.0,20.0,24.0,16.0,19.0,20.0,21.0,8.0,4.0,5.0,2.0,5.0,2.0,3.0,3.0,1.0,1.0,1.0]\n}\n}]\n};\n                    var plotContainer = document.getElementById(\"plot_output_bgAoea\");\n                    window.datalorePlotCall(function() {{\n                        DatalorePlot.buildPlotFromProcessedSpecs(plotSpec, -1, -1, plotContainer);\n                    }});\n                })();    \n            </script>\n        "
     },
     "metadata": {},
     "output_type": "execute_result",
     "execution_count": 18
    }
   ],
   "source": [
    "# Basic plotting\n",
    "p + geom_bar()"
   ],
   "metadata": {
    "collapsed": false,
    "pycharm": {
     "name": "#%%\n",
     "is_executing": false
    }
   }
  },
  {
   "cell_type": "code",
   "execution_count": 19,
   "outputs": [
    {
     "data": {
      "text/plain": "<datalore_plot.plot.core.PlotSpec at 0x123513eb0>",
      "text/html": "\n            <div id=\"plot_output_5pF872\"></div>\n            <script type=\"text/javascript\">\n                (function() {\n                    var plotSpec={\n'data':{\n'cyl':[4.0,4.0,4.0,4.0,6.0,6.0,6.0,4.0,4.0,4.0,4.0,6.0,6.0,6.0,6.0,6.0,6.0,8.0,8.0,8.0,8.0,8.0,8.0,8.0,8.0,8.0,8.0,8.0,8.0,8.0,8.0,8.0,4.0,4.0,6.0,6.0,6.0,4.0,6.0,6.0,6.0,6.0,6.0,6.0,6.0,6.0,6.0,6.0,6.0,6.0,6.0,6.0,8.0,8.0,8.0,8.0,8.0,6.0,8.0,8.0,8.0,8.0,8.0,8.0,8.0,8.0,8.0,8.0,8.0,8.0,8.0,8.0,8.0,8.0,8.0,8.0,8.0,6.0,6.0,6.0,6.0,8.0,8.0,6.0,6.0,8.0,8.0,8.0,8.0,8.0,6.0,6.0,6.0,6.0,8.0,8.0,8.0,8.0,8.0,4.0,4.0,4.0,4.0,4.0,4.0,4.0,4.0,4.0,4.0,4.0,4.0,4.0,6.0,6.0,6.0,4.0,4.0,4.0,4.0,6.0,6.0,6.0,6.0,6.0,6.0,8.0,8.0,8.0,8.0,8.0,8.0,8.0,8.0,8.0,8.0,8.0,8.0,6.0,6.0,8.0,8.0,4.0,4.0,4.0,4.0,6.0,6.0,6.0,6.0,6.0,6.0,6.0,6.0,8.0,6.0,6.0,6.0,6.0,8.0,4.0,4.0,4.0,4.0,4.0,4.0,4.0,4.0,4.0,4.0,4.0,4.0,4.0,4.0,4.0,4.0,6.0,6.0,6.0,8.0,4.0,4.0,4.0,4.0,6.0,6.0,6.0,4.0,4.0,4.0,4.0,6.0,6.0,6.0,4.0,4.0,4.0,4.0,4.0,8.0,8.0,4.0,4.0,4.0,6.0,6.0,6.0,6.0,4.0,4.0,4.0,4.0,6.0,4.0,4.0,4.0,4.0,4.0,5.0,5.0,6.0,6.0,4.0,4.0,4.0,4.0,5.0,5.0,4.0,4.0,4.0,4.0,6.0,6.0,6.0],\n'cty':[18.0,21.0,20.0,21.0,16.0,18.0,18.0,18.0,16.0,20.0,19.0,15.0,17.0,17.0,15.0,15.0,17.0,16.0,14.0,11.0,14.0,13.0,12.0,16.0,15.0,16.0,15.0,15.0,14.0,11.0,11.0,14.0,19.0,22.0,18.0,18.0,17.0,18.0,17.0,16.0,16.0,17.0,17.0,11.0,15.0,15.0,16.0,16.0,15.0,14.0,13.0,14.0,14.0,14.0,9.0,11.0,11.0,13.0,13.0,9.0,13.0,11.0,13.0,11.0,12.0,9.0,13.0,13.0,12.0,9.0,11.0,11.0,13.0,11.0,11.0,11.0,12.0,14.0,15.0,14.0,13.0,13.0,13.0,14.0,14.0,13.0,13.0,13.0,11.0,13.0,18.0,18.0,17.0,16.0,15.0,15.0,15.0,15.0,14.0,28.0,24.0,25.0,23.0,24.0,26.0,25.0,24.0,21.0,18.0,18.0,21.0,21.0,18.0,18.0,19.0,19.0,19.0,20.0,20.0,17.0,16.0,17.0,17.0,15.0,15.0,14.0,9.0,14.0,13.0,11.0,11.0,12.0,12.0,11.0,11.0,11.0,12.0,14.0,13.0,13.0,13.0,21.0,19.0,23.0,23.0,19.0,19.0,18.0,19.0,19.0,14.0,15.0,14.0,12.0,18.0,16.0,17.0,18.0,16.0,18.0,18.0,20.0,19.0,20.0,18.0,21.0,19.0,19.0,19.0,20.0,20.0,19.0,20.0,15.0,16.0,15.0,15.0,16.0,14.0,21.0,21.0,21.0,21.0,18.0,18.0,19.0,21.0,21.0,21.0,22.0,18.0,18.0,18.0,24.0,24.0,26.0,28.0,26.0,11.0,13.0,15.0,16.0,17.0,15.0,15.0,15.0,16.0,21.0,19.0,21.0,22.0,17.0,33.0,21.0,19.0,22.0,21.0,21.0,21.0,16.0,17.0,35.0,29.0,21.0,19.0,20.0,20.0,21.0,18.0,19.0,21.0,16.0,18.0,17.0],\n'hwy':[29.0,29.0,31.0,30.0,26.0,26.0,27.0,26.0,25.0,28.0,27.0,25.0,25.0,25.0,25.0,24.0,25.0,23.0,20.0,15.0,20.0,17.0,17.0,26.0,23.0,26.0,25.0,24.0,19.0,14.0,15.0,17.0,27.0,30.0,26.0,29.0,26.0,24.0,24.0,22.0,22.0,24.0,24.0,17.0,22.0,21.0,23.0,23.0,19.0,18.0,17.0,17.0,19.0,19.0,12.0,17.0,15.0,17.0,17.0,12.0,17.0,16.0,18.0,15.0,16.0,12.0,17.0,17.0,16.0,12.0,15.0,16.0,17.0,15.0,17.0,17.0,18.0,17.0,19.0,17.0,19.0,19.0,17.0,17.0,17.0,16.0,16.0,17.0,15.0,17.0,26.0,25.0,26.0,24.0,21.0,22.0,23.0,22.0,20.0,33.0,32.0,32.0,29.0,32.0,34.0,36.0,36.0,29.0,26.0,27.0,30.0,31.0,26.0,26.0,28.0,26.0,29.0,28.0,27.0,24.0,24.0,24.0,22.0,19.0,20.0,17.0,12.0,19.0,18.0,14.0,15.0,18.0,18.0,15.0,17.0,16.0,18.0,17.0,19.0,19.0,17.0,29.0,27.0,31.0,32.0,27.0,26.0,26.0,25.0,25.0,17.0,17.0,20.0,18.0,26.0,26.0,27.0,28.0,25.0,25.0,24.0,27.0,25.0,26.0,23.0,26.0,26.0,26.0,26.0,25.0,27.0,25.0,27.0,20.0,20.0,19.0,17.0,20.0,17.0,29.0,27.0,31.0,31.0,26.0,26.0,28.0,27.0,29.0,31.0,31.0,26.0,26.0,27.0,30.0,33.0,35.0,37.0,35.0,15.0,18.0,20.0,20.0,22.0,17.0,19.0,18.0,20.0,29.0,26.0,29.0,29.0,24.0,44.0,29.0,26.0,29.0,29.0,29.0,29.0,23.0,24.0,44.0,41.0,29.0,26.0,28.0,29.0,29.0,29.0,28.0,29.0,26.0,26.0,26.0]\n},\n'mapping':{\n'x':\"cty\",\n'y':\"hwy\"\n},\n'kind':\"plot\",\n'scales':[],\n'layers':[{\n'geom':\"point\",\n'mapping':{\n'color':\"cyl\"\n},\n'position':\"jitter\",\n'data':{\n}\n}]\n};\n                    var plotContainer = document.getElementById(\"plot_output_5pF872\");\n                    window.datalorePlotCall(function() {{\n                        DatalorePlot.buildPlotFromProcessedSpecs(plotSpec, -1, -1, plotContainer);\n                    }});\n                })();    \n            </script>\n        "
     },
     "metadata": {},
     "output_type": "execute_result",
     "execution_count": 19
    }
   ],
   "source": [
    "p + geom_point(aes(color='cyl'), position='jitter')"
   ],
   "metadata": {
    "collapsed": false,
    "pycharm": {
     "name": "#%%\n",
     "is_executing": false
    }
   }
  },
  {
   "cell_type": "markdown",
   "source": [
    "## Sampling\n",
    "\n",
    "\n",
    "\n"
   ],
   "metadata": {
    "collapsed": false,
    "pycharm": {
     "name": "#%% md\n"
    }
   }
  }
 ],
 "metadata": {
  "kernelspec": {
   "display_name": "Python 3",
   "language": "python",
   "name": "python3"
  },
  "language_info": {
   "codemirror_mode": {
    "name": "ipython",
    "version": 2
   },
   "file_extension": ".py",
   "mimetype": "text/x-python",
   "name": "python",
   "nbconvert_exporter": "python",
   "pygments_lexer": "ipython2",
   "version": "2.7.6"
  },
  "pycharm": {
   "stem_cell": {
    "cell_type": "raw",
    "source": [],
    "metadata": {
     "collapsed": false
    }
   }
  }
 },
 "nbformat": 4,
 "nbformat_minor": 0
}