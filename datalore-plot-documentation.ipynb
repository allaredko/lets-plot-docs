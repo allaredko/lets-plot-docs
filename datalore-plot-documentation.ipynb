{
 "cells": [
  {
   "cell_type": "markdown",
   "metadata": {
    "collapsed": true,
    "pycharm": {
     "name": "#%% md\n"
    }
   },
   "source": [
    "# Lets-Plot Usage Guide\n",
    "\n",
    "<a href=\"https://opensource.org/licenses/MIT\">\n",
    "<img src=\"https://img.shields.io/badge/License-MIT-yellow.svg\" alt=\"Couldn't load MIT license svg\"/>\n",
    "</a>\n",
    "\n",
    "- [System requirements](#sys)\n",
    "- [Installation](#install)\n",
    "- [Understanding architecture](#implementation)\n",
    "- [Learning API](#api)\n",
    "- [Getting started](#gsg)\n",
    "\n",
    "\n",
    "**Lets-Plot** is an open-source plotting library for statistical data. It is implemented using the \n",
    "[Kotlin programming language](https://kotlinlang.org/) that has the multi-platform nature.\n",
    "That's why Lets-Plot provides the plotting functionality that \n",
    "is packaged as a JavaScript library, a JVM library, and a native Python extension.\n",
    "\n",
    "The design of Lets-Plot library is heavily influenced by Leland Wilkinson work \n",
    "[The Grammar of Graphics](https://www.goodreads.com/book/show/2549408.The_Grammar_of_Graphics) describing the deep features \n",
    "that underlie all statistical graphics.\n",
    "\n",
    "<a name=\"SystemRequirementa\" id=\"sys\"></a>\n",
    "## System requirements\n",
    "\n",
    "Supported operating systems:\n",
    "- macOS\n",
    "- Linux\n",
    "\n",
    "Supported Python versions:\n",
    "- 3.7\n",
    "- 3.8\n",
    "\n",
    "<a name=\"Installation\" id=\"install\"></a>\n",
    "## Installation\n",
    "\n",
    "The `lets-plot` package is available in the [pypi.org](https://pypi.org/project/lets-plot/) repository.\n",
    "Execute the following command to add the `lets-plot` package to your Python interpreter:\n",
    "\n",
    "`pip install lets-plot`\n",
    "\n",
    "<a name=\"Implementation\" id=\"implementation\"></a>\n",
    "## Understanding Lets-Plot architecture\n",
    "In `lets-plot`, the **plot** is represented at least by one\n",
    "**layer**. It can be built based on the default dataset with the aesthetics mappings, set of scales, or additional \n",
    "features applied.\n",
    "\n",
    "The **Layer** is responsible for creating the objects painted on the ‘canvas’ and it contains the following elements:\n",
    "- **Data** - the set of data specified either once for all layers or on per layer basis.\n",
    "One plot can combine multiple different datasets (one per layer).\n",
    "- **Aesthetic mapping** - describes how variables in the dataset are mapped to visual properties of the layer, such as color, shape, size, or position.\n",
    "- **Geometric object** - a geometric object used draw observations.\n",
    "- **Statistical transformation** - computes some kind of statistical summary on the raw input data. \n",
    "For example, ‘bin’ statistic is used for histograms and `smooth` stat is used for regression lines. \n",
    "Most stats take additional parameters to specify details of statistical transformation of data.\n",
    "- **Position adjustment** - method used compute the final coordinates of geometry. \n",
    "Used to build variants of the same geom object or to avoid overplotting.\n",
    "\n",
    "![layer diagram](layer-small.png)\n",
    "\n",
    "<a name=\"API\" id=\"api\"></a>\n",
    "## Learning API\n",
    "\n",
    "```\n",
    "p = ggplot(data=df) \n",
    "p + layer(geom='point', stat='identity', mapping=aes('x', 'y', size='x'), position='identity')\n",
    "```\n",
    "\n",
    "### Geometric objects `geom`\n",
    "\n",
    "You can add a new geometric specifying an argument in `layer(geom='<type of chart>')`, for example, `layer(geom='point')`.\n",
    "Alternatively, you can add the `geom_xxx` object to `ggplot`:\n",
    "\n",
    "```\n",
    "p = ggplot(data=df)\n",
    "p + geom_point()\n",
    "```\n",
    "\n",
    "The following charts are supported:\n",
    "\n",
    "- Area chart: [`geom_area()`](https://github.com/JetBrains/lets-plot/blob/master/docs/ref/python/geoms.md#geom_area-geom_ribbon)\n",
    "- Bar chart: [`geom_bar()`](https://github.com/JetBrains/lets-plot/blob/master/docs/ref/python/geoms.md#geom_bar--bar-chart)\n",
    "- Boxplot chart: [`geom_boxplot()`](https://github.com/JetBrains/lets-plot/blob/master/docs/ref/python/geoms.md#geom_boxplot)\n",
    "- Contour chart: [`geom_contour(), geom_contourf()`](https://github.com/JetBrains/lets-plot/blob/master/docs/ref/python/geoms.md#geom_contour-geom_contourf)\n",
    "- Density chart: [`geom_density()`](https://github.com/JetBrains/lets-plot/blob/master/docs/ref/python/geoms.md#geom_density)\n",
    "  and [`geom_density2d()`](https://github.com/JetBrains/lets-plot/blob/master/docs/ref/python/geoms.md#geom_density2d-geom_density2df)\n",
    "- Error bar chart: [`geom_errorbar()`](https://github.com/JetBrains/lets-plot/blob/master/docs/ref/python/geoms.md#geom_errorbar)\n",
    "- Historgam: [`geom_histogram()`](https://github.com/JetBrains/lets-plot/blob/master/docs/ref/python/geoms.md#geom_freqpoly-geom_histogram)\n",
    "- Line chart: [`geom_line()`](https://github.com/JetBrains/lets-plot/blob/master/docs/ref/python/geoms.md#geom_path-geom_line-geom_step)\n",
    "- Scatter chart: [`geom_point()`](https://github.com/JetBrains/lets-plot/blob/master/docs/ref/python/geoms.md#geom_point)\n",
    "- Polygon chart:  [`geom_polygon`](https://github.com/JetBrains/lets-plot/blob/master/docs/ref/python/geoms.md#geom_polygon)\n",
    "- Rectangle chart, Tile chart: [`geom_rect()`, `geom_tile()`](https://github.com/JetBrains/lets-plot/blob/master/docs/ref/python/geoms.md#geom_raster-geom_tile-geom_rect)\n",
    "- Image plot: [`geom_image()`](https://github.com/JetBrains/lets-plot/blob/master/docs/ref/python/geoms.md#geom_image)\n",
    "\n",
    "See the [geom reference](https://github.com/JetBrains/lets-plot/blob/master/docs/ref/python/geoms.md) for more information about the supported\n",
    "geometric methods, their arguments, and default values.\n",
    "\n",
    "### Stat `stat`\n",
    "\n",
    "Add `stat` as an argument to `layer` or `geom` methods to define data transformations:\n",
    "\n",
    "`layer(start='count`)\n",
    "\n",
    "Supported transformations:\n",
    "\n",
    "- `identity`:  leaves the data unchanged\n",
    "- `count`:  calculates the number of points with same x-axis coordinate\n",
    "- `bin`:  calculates the number of points with x-axis coordinate in the same level\n",
    "- `smooth`:  performs smoothing\n",
    "- `contour`: calculates contours of 3D data\n",
    "\n",
    "### Aesthetic mappings `mapping`\n",
    "With mappings, you can define how variables in dataset are mapped to the visual elements of the chart.\n",
    "Add the `aes(x, y, other)` method to `layer` or `geom`, where\n",
    "- `x`: the dataframe column to render on the x axis. \n",
    "- `y`: the dataframe column to render on the y axis.\n",
    "- `other`: other visual properties of the chart, such as color, shape, size, or position.\n",
    "\n",
    "`geom_bar(x='cty', y='hwy', color='cyl')`\n",
    "you can use a simplified form:\n",
    "`geom_bar('cty', 'hwy', color='cyl')`\n",
    "\n",
    "### Position `position`\n",
    "\n",
    "All layers have a position adjustment that resolves overlapping geoms. \n",
    "Override the default settings by using the `position` argument in the `geom` methods:\n",
    "\n",
    "`geom_bar(position='dodge')`\n",
    "\n",
    "Available adjustments:\n",
    "- `dodge` ([`position_dodge()`](https://github.com/JetBrains/lets-plot/blob/master/docs/ref/python/positions.md#position_dodge))\n",
    "- `jitter` ([`position_jitter()`](https://github.com/JetBrains/lets-plot/blob/master/docs/ref/python/positions.md#position_jitter))\n",
    "- `jitterdodge` ([`position_jitterdodge()`](https://github.com/JetBrains/lets-plot/blob/master/docs/ref/python/positions.md#position_jitterdodge))\n",
    "- `nudge` ([`position_nudge()`](https://github.com/JetBrains/lets-plot/blob/master/docs/ref/python/positions.md#position_nudge))\n",
    "\n",
    "See the [position reference](https://github.com/JetBrains/lets-plot/blob/master/docs/ref/python/positions.md) for more information about position adjustments.\n",
    "\n",
    "### Features affecting the entire plot\n",
    "\n",
    "#### Scales\n",
    "\n",
    "Scales enable tailored adjustment of data values to visual properties and aesthetics. Override default scales to tweak \n",
    "details like the axis labels or legend keys, or to use a completely different translation from data to aesthetic.\n",
    "For example, to override the fill color on the histogram:\n",
    "\n",
    "`p + geom_histogram() + scale_fill_brewer(name=\"Trend\", palette=\"RdPu\")`\n",
    "\n",
    "See the list of the available  `scale` methods in the [scale reference](https://github.com/JetBrains/lets-plot/blob/master/docs/ref/python/scales.md)\n",
    "\n",
    "#### Coordinated system\n",
    "\n",
    "The coordinate system determines how the x and y aesthetics combine to position elements in the plot. \n",
    "To override the default X and Y ratio:\n",
    "\n",
    "`p + coord_fixed(ratio=2)`\n",
    "\n",
    "See the list of the available methods in [coordinates reference](https://github.com/JetBrains/lets-plot/blob/master/docs/ref/python/coordinates.md)\n",
    "\n",
    "#### Legend\n",
    "The axes and legends help users interpret plots.\n",
    "Use the `guide` methods or the `guide` argument of the `scale` method for customize the legend.\n",
    "For example, to define the number of columns in the legend:\n",
    "\n",
    "`p + scale_color_discrete(guide=guide_legend(ncol=2))`\n",
    "\n",
    "See more information in the [guide reference](https://github.com/JetBrains/lets-plot/blob/master/docs/ref/python/guide.md)\n",
    "\n",
    "#### Sampling\n",
    "\n",
    "Sampling is a special technique of data transformation built into Lets-Plot and it is applied after stat transformation.\n",
    "Sampling helps prevents from UI freezes and out-pf-memory crashes when attempting to plot an excessively large number of geometries.\n",
    "By default, the technique applies automatically when the data volume exceeds a certain threshold.\n",
    "The `none` value disables any sampling for the given layer. The sampling methods can be chained together using the + operator.\n",
    "\n",
    "Available methods:\n",
    "- `sampling_random_stratified`: randomly selects points from each group proportionally to the group size but also ensures \n",
    "that each group is represented by at least specified minimal number of points.\n",
    "- `sampling_random`: selects data points at randomly chosen indices without replacement.\n",
    "- `sampling_pick`: analyses X-values and selects all points which X-values get in the set of first `n` X-values found in the population.\n",
    "- `sampling_systematic`: selects data points at evenly distributed indices.\n",
    "- `sampling_vertex_dp`, `sampling_vertex_vw`: simplifies plotting of polygons. \n",
    "There is a choice of two implementation algorithms: Douglas-Peucker (`_dp`) and \n",
    "Visvalingam-Whyatt (`_vw`).\n",
    "\n",
    "For more details, see the [sampling reference](https://github.com/JetBrains/lets-plot/blob/master/docs/sampling_python.md)."
   ]
  },
  {
   "cell_type": "markdown",
   "source": [
    "<a name=\"GSG\" id=\"gsg\"></a>\n",
    "### Getting started\n",
    "\n",
    "Let's plot a point chart built using the mpg dataset.\n",
    "\n",
    "Create the `DataFrame` object and retrieve the data."
   ],
   "metadata": {
    "collapsed": false,
    "pycharm": {
     "name": "#%% md\n"
    }
   }
  },
  {
   "cell_type": "code",
   "execution_count": 1,
   "outputs": [
    {
     "data": {
      "text/plain": "   Unnamed: 0 manufacturer model  displ  year  cyl       trans drv  cty  hwy  \\\n0           1         audi    a4    1.8  1999    4    auto(l5)   f   18   29   \n1           2         audi    a4    1.8  1999    4  manual(m5)   f   21   29   \n2           3         audi    a4    2.0  2008    4  manual(m6)   f   20   31   \n3           4         audi    a4    2.0  2008    4    auto(av)   f   21   30   \n4           5         audi    a4    2.8  1999    6    auto(l5)   f   16   26   \n\n  fl    class  \n0  p  compact  \n1  p  compact  \n2  p  compact  \n3  p  compact  \n4  p  compact  ",
      "text/html": "<div>\n<style scoped>\n    .dataframe tbody tr th:only-of-type {\n        vertical-align: middle;\n    }\n\n    .dataframe tbody tr th {\n        vertical-align: top;\n    }\n\n    .dataframe thead th {\n        text-align: right;\n    }\n</style>\n<table border=\"1\" class=\"dataframe\">\n  <thead>\n    <tr style=\"text-align: right;\">\n      <th></th>\n      <th>Unnamed: 0</th>\n      <th>manufacturer</th>\n      <th>model</th>\n      <th>displ</th>\n      <th>year</th>\n      <th>cyl</th>\n      <th>trans</th>\n      <th>drv</th>\n      <th>cty</th>\n      <th>hwy</th>\n      <th>fl</th>\n      <th>class</th>\n    </tr>\n  </thead>\n  <tbody>\n    <tr>\n      <th>0</th>\n      <td>1</td>\n      <td>audi</td>\n      <td>a4</td>\n      <td>1.8</td>\n      <td>1999</td>\n      <td>4</td>\n      <td>auto(l5)</td>\n      <td>f</td>\n      <td>18</td>\n      <td>29</td>\n      <td>p</td>\n      <td>compact</td>\n    </tr>\n    <tr>\n      <th>1</th>\n      <td>2</td>\n      <td>audi</td>\n      <td>a4</td>\n      <td>1.8</td>\n      <td>1999</td>\n      <td>4</td>\n      <td>manual(m5)</td>\n      <td>f</td>\n      <td>21</td>\n      <td>29</td>\n      <td>p</td>\n      <td>compact</td>\n    </tr>\n    <tr>\n      <th>2</th>\n      <td>3</td>\n      <td>audi</td>\n      <td>a4</td>\n      <td>2.0</td>\n      <td>2008</td>\n      <td>4</td>\n      <td>manual(m6)</td>\n      <td>f</td>\n      <td>20</td>\n      <td>31</td>\n      <td>p</td>\n      <td>compact</td>\n    </tr>\n    <tr>\n      <th>3</th>\n      <td>4</td>\n      <td>audi</td>\n      <td>a4</td>\n      <td>2.0</td>\n      <td>2008</td>\n      <td>4</td>\n      <td>auto(av)</td>\n      <td>f</td>\n      <td>21</td>\n      <td>30</td>\n      <td>p</td>\n      <td>compact</td>\n    </tr>\n    <tr>\n      <th>4</th>\n      <td>5</td>\n      <td>audi</td>\n      <td>a4</td>\n      <td>2.8</td>\n      <td>1999</td>\n      <td>6</td>\n      <td>auto(l5)</td>\n      <td>f</td>\n      <td>16</td>\n      <td>26</td>\n      <td>p</td>\n      <td>compact</td>\n    </tr>\n  </tbody>\n</table>\n</div>"
     },
     "metadata": {},
     "output_type": "execute_result",
     "execution_count": 1
    }
   ],
   "source": [
    "# Data set\n",
    "\n",
    "import pandas as pd\n",
    "from lets_plot import *\n",
    "mpg = pd.read_csv('http://jetbrains.bintray.com/datalore-plot/mpg.csv')\n",
    "mpg.head()"
   ],
   "metadata": {
    "collapsed": false,
    "pycharm": {
     "name": "#%%\n",
     "is_executing": false
    }
   }
  },
  {
   "cell_type": "markdown",
   "source": [
    "Plot the basic point chart."
   ],
   "metadata": {
    "collapsed": false
   }
  },
  {
   "cell_type": "code",
   "execution_count": 2,
   "outputs": [
    {
     "data": {
      "text/html": "\n            <div id=\"j1Gh0M\"></div>\n            <script type=\"text/javascript\">\n                if(!window.letsPlotCallQueue) {\n                    window.letsPlotCallQueue = [];\n                }; \n                window.letsPlotCall = function(f) {\n                    window.letsPlotCallQueue.push(f);\n                };\n                (function() {\n                    var script = document.createElement(\"script\");\n                    script.type = \"text/javascript\";\n                    script.src = \"https://dl.bintray.com/jetbrains/lets-plot/lets-plot-1.0.0.min.js\";\n                    script.onload = function() {\n                        window.letsPlotCall = function(f) {f();};\n                        window.letsPlotCallQueue.forEach(function(f) {f();});\n                        window.letsPlotCallQueue = [];\n                        \n                    };\n                    script.onerror = function(event) {\n                        window.letsPlotCall = function(f) {};    // noop\n                        window.letsPlotCallQueue = [];\n                        var div = document.createElement(\"div\");\n                        div.style.color = 'darkred';\n                        div.textContent = 'Error loading Lets-Plot JS';\n                        document.getElementById(\"j1Gh0M\").appendChild(div);\n                    };\n                    var e = document.getElementById(\"j1Gh0M\");\n                    e.appendChild(script);\n                })()\n            </script>\n            "
     },
     "metadata": {},
     "output_type": "display_data"
    },
    {
     "data": {
      "text/plain": "<lets_plot.plot.core.PlotSpec at 0x11faa7970>",
      "text/html": "\n            <div id=\"plot_output_YuXrL0\"></div>\n            <script type=\"text/javascript\">\n                (function() {\n                    var plotSpec={\n'data':{\n'Unnamed: 0':[1.0,2.0,3.0,4.0,5.0,6.0,7.0,8.0,9.0,10.0,11.0,12.0,13.0,14.0,15.0,16.0,17.0,18.0,19.0,20.0,21.0,22.0,23.0,24.0,25.0,26.0,27.0,28.0,29.0,30.0,31.0,32.0,33.0,34.0,35.0,36.0,37.0,38.0,39.0,40.0,41.0,42.0,43.0,44.0,45.0,46.0,47.0,48.0,49.0,50.0,51.0,52.0,53.0,54.0,55.0,56.0,57.0,58.0,59.0,60.0,61.0,62.0,63.0,64.0,65.0,66.0,67.0,68.0,69.0,70.0,71.0,72.0,73.0,74.0,75.0,76.0,77.0,78.0,79.0,80.0,81.0,82.0,83.0,84.0,85.0,86.0,87.0,88.0,89.0,90.0,91.0,92.0,93.0,94.0,95.0,96.0,97.0,98.0,99.0,100.0,101.0,102.0,103.0,104.0,105.0,106.0,107.0,108.0,109.0,110.0,111.0,112.0,113.0,114.0,115.0,116.0,117.0,118.0,119.0,120.0,121.0,122.0,123.0,124.0,125.0,126.0,127.0,128.0,129.0,130.0,131.0,132.0,133.0,134.0,135.0,136.0,137.0,138.0,139.0,140.0,141.0,142.0,143.0,144.0,145.0,146.0,147.0,148.0,149.0,150.0,151.0,152.0,153.0,154.0,155.0,156.0,157.0,158.0,159.0,160.0,161.0,162.0,163.0,164.0,165.0,166.0,167.0,168.0,169.0,170.0,171.0,172.0,173.0,174.0,175.0,176.0,177.0,178.0,179.0,180.0,181.0,182.0,183.0,184.0,185.0,186.0,187.0,188.0,189.0,190.0,191.0,192.0,193.0,194.0,195.0,196.0,197.0,198.0,199.0,200.0,201.0,202.0,203.0,204.0,205.0,206.0,207.0,208.0,209.0,210.0,211.0,212.0,213.0,214.0,215.0,216.0,217.0,218.0,219.0,220.0,221.0,222.0,223.0,224.0,225.0,226.0,227.0,228.0,229.0,230.0,231.0,232.0,233.0,234.0],\n'cty':[18.0,21.0,20.0,21.0,16.0,18.0,18.0,18.0,16.0,20.0,19.0,15.0,17.0,17.0,15.0,15.0,17.0,16.0,14.0,11.0,14.0,13.0,12.0,16.0,15.0,16.0,15.0,15.0,14.0,11.0,11.0,14.0,19.0,22.0,18.0,18.0,17.0,18.0,17.0,16.0,16.0,17.0,17.0,11.0,15.0,15.0,16.0,16.0,15.0,14.0,13.0,14.0,14.0,14.0,9.0,11.0,11.0,13.0,13.0,9.0,13.0,11.0,13.0,11.0,12.0,9.0,13.0,13.0,12.0,9.0,11.0,11.0,13.0,11.0,11.0,11.0,12.0,14.0,15.0,14.0,13.0,13.0,13.0,14.0,14.0,13.0,13.0,13.0,11.0,13.0,18.0,18.0,17.0,16.0,15.0,15.0,15.0,15.0,14.0,28.0,24.0,25.0,23.0,24.0,26.0,25.0,24.0,21.0,18.0,18.0,21.0,21.0,18.0,18.0,19.0,19.0,19.0,20.0,20.0,17.0,16.0,17.0,17.0,15.0,15.0,14.0,9.0,14.0,13.0,11.0,11.0,12.0,12.0,11.0,11.0,11.0,12.0,14.0,13.0,13.0,13.0,21.0,19.0,23.0,23.0,19.0,19.0,18.0,19.0,19.0,14.0,15.0,14.0,12.0,18.0,16.0,17.0,18.0,16.0,18.0,18.0,20.0,19.0,20.0,18.0,21.0,19.0,19.0,19.0,20.0,20.0,19.0,20.0,15.0,16.0,15.0,15.0,16.0,14.0,21.0,21.0,21.0,21.0,18.0,18.0,19.0,21.0,21.0,21.0,22.0,18.0,18.0,18.0,24.0,24.0,26.0,28.0,26.0,11.0,13.0,15.0,16.0,17.0,15.0,15.0,15.0,16.0,21.0,19.0,21.0,22.0,17.0,33.0,21.0,19.0,22.0,21.0,21.0,21.0,16.0,17.0,35.0,29.0,21.0,19.0,20.0,20.0,21.0,18.0,19.0,21.0,16.0,18.0,17.0]\n},\n'kind':\"plot\",\n'scales':[],\n'layers':[{\n'geom':\"point\",\n'mapping':{\n'x':\"Unnamed: 0\",\n'y':\"cty\"\n},\n'data':{\n}\n}]\n};\n                    var plotContainer = document.getElementById(\"plot_output_YuXrL0\");\n                    window.letsPlotCall(function() {{\n                        LetsPlot.buildPlotFromProcessedSpecs(plotSpec, -1, -1, plotContainer);\n                    }});\n                })();    \n            </script>\n        "
     },
     "metadata": {},
     "output_type": "execute_result",
     "execution_count": 2
    }
   ],
   "source": [
    "# Basic plotting\n",
    "\n",
    "p = ggplot(mpg)\n",
    "p + geom_point()"
   ],
   "metadata": {
    "collapsed": false,
    "pycharm": {
     "name": "#%%\n",
     "is_executing": false
    }
   }
  },
  {
   "cell_type": "markdown",
   "source": [
    "Perform the following aesthetic mappings:\n",
    " - `x` = displ (the Displacement column)\n",
    " - `y` = hwy  (the Horsepower column)\n",
    " - `color` = cyl (the Cylinder column)"
   ],
   "metadata": {
    "collapsed": false
   }
  },
  {
   "cell_type": "code",
   "execution_count": 3,
   "outputs": [
    {
     "data": {
      "text/plain": "<lets_plot.plot.core.PlotSpec at 0x11faa7bb0>",
      "text/html": "\n            <div id=\"plot_output_dGwGof\"></div>\n            <script type=\"text/javascript\">\n                (function() {\n                    var plotSpec={\n'data':{\n'displ':[1.8,1.8,2.0,2.0,2.8,2.8,3.1,1.8,1.8,2.0,2.0,2.8,2.8,3.1,3.1,2.8,3.1,4.2,5.3,5.3,5.3,5.7,6.0,5.7,5.7,6.2,6.2,7.0,5.3,5.3,5.7,6.5,2.4,2.4,3.1,3.5,3.6,2.4,3.0,3.3,3.3,3.3,3.3,3.3,3.8,3.8,3.8,4.0,3.7,3.7,3.9,3.9,4.7,4.7,4.7,5.2,5.2,3.9,4.7,4.7,4.7,5.2,5.7,5.9,4.7,4.7,4.7,4.7,4.7,4.7,5.2,5.2,5.7,5.9,4.6,5.4,5.4,4.0,4.0,4.0,4.0,4.6,5.0,4.2,4.2,4.6,4.6,4.6,5.4,5.4,3.8,3.8,4.0,4.0,4.6,4.6,4.6,4.6,5.4,1.6,1.6,1.6,1.6,1.6,1.8,1.8,1.8,2.0,2.4,2.4,2.4,2.4,2.5,2.5,3.3,2.0,2.0,2.0,2.0,2.7,2.7,2.7,3.0,3.7,4.0,4.7,4.7,4.7,5.7,6.1,4.0,4.2,4.4,4.6,5.4,5.4,5.4,4.0,4.0,4.6,5.0,2.4,2.4,2.5,2.5,3.5,3.5,3.0,3.0,3.5,3.3,3.3,4.0,5.6,3.1,3.8,3.8,3.8,5.3,2.5,2.5,2.5,2.5,2.5,2.5,2.2,2.2,2.5,2.5,2.5,2.5,2.5,2.5,2.7,2.7,3.4,3.4,4.0,4.7,2.2,2.2,2.4,2.4,3.0,3.0,3.5,2.2,2.2,2.4,2.4,3.0,3.0,3.3,1.8,1.8,1.8,1.8,1.8,4.7,5.7,2.7,2.7,2.7,3.4,3.4,4.0,4.0,2.0,2.0,2.0,2.0,2.8,1.9,2.0,2.0,2.0,2.0,2.5,2.5,2.8,2.8,1.9,1.9,2.0,2.0,2.5,2.5,1.8,1.8,2.0,2.0,2.8,2.8,3.6],\n'cyl':[4.0,4.0,4.0,4.0,6.0,6.0,6.0,4.0,4.0,4.0,4.0,6.0,6.0,6.0,6.0,6.0,6.0,8.0,8.0,8.0,8.0,8.0,8.0,8.0,8.0,8.0,8.0,8.0,8.0,8.0,8.0,8.0,4.0,4.0,6.0,6.0,6.0,4.0,6.0,6.0,6.0,6.0,6.0,6.0,6.0,6.0,6.0,6.0,6.0,6.0,6.0,6.0,8.0,8.0,8.0,8.0,8.0,6.0,8.0,8.0,8.0,8.0,8.0,8.0,8.0,8.0,8.0,8.0,8.0,8.0,8.0,8.0,8.0,8.0,8.0,8.0,8.0,6.0,6.0,6.0,6.0,8.0,8.0,6.0,6.0,8.0,8.0,8.0,8.0,8.0,6.0,6.0,6.0,6.0,8.0,8.0,8.0,8.0,8.0,4.0,4.0,4.0,4.0,4.0,4.0,4.0,4.0,4.0,4.0,4.0,4.0,4.0,6.0,6.0,6.0,4.0,4.0,4.0,4.0,6.0,6.0,6.0,6.0,6.0,6.0,8.0,8.0,8.0,8.0,8.0,8.0,8.0,8.0,8.0,8.0,8.0,8.0,6.0,6.0,8.0,8.0,4.0,4.0,4.0,4.0,6.0,6.0,6.0,6.0,6.0,6.0,6.0,6.0,8.0,6.0,6.0,6.0,6.0,8.0,4.0,4.0,4.0,4.0,4.0,4.0,4.0,4.0,4.0,4.0,4.0,4.0,4.0,4.0,4.0,4.0,6.0,6.0,6.0,8.0,4.0,4.0,4.0,4.0,6.0,6.0,6.0,4.0,4.0,4.0,4.0,6.0,6.0,6.0,4.0,4.0,4.0,4.0,4.0,8.0,8.0,4.0,4.0,4.0,6.0,6.0,6.0,6.0,4.0,4.0,4.0,4.0,6.0,4.0,4.0,4.0,4.0,4.0,5.0,5.0,6.0,6.0,4.0,4.0,4.0,4.0,5.0,5.0,4.0,4.0,4.0,4.0,6.0,6.0,6.0],\n'hwy':[29.0,29.0,31.0,30.0,26.0,26.0,27.0,26.0,25.0,28.0,27.0,25.0,25.0,25.0,25.0,24.0,25.0,23.0,20.0,15.0,20.0,17.0,17.0,26.0,23.0,26.0,25.0,24.0,19.0,14.0,15.0,17.0,27.0,30.0,26.0,29.0,26.0,24.0,24.0,22.0,22.0,24.0,24.0,17.0,22.0,21.0,23.0,23.0,19.0,18.0,17.0,17.0,19.0,19.0,12.0,17.0,15.0,17.0,17.0,12.0,17.0,16.0,18.0,15.0,16.0,12.0,17.0,17.0,16.0,12.0,15.0,16.0,17.0,15.0,17.0,17.0,18.0,17.0,19.0,17.0,19.0,19.0,17.0,17.0,17.0,16.0,16.0,17.0,15.0,17.0,26.0,25.0,26.0,24.0,21.0,22.0,23.0,22.0,20.0,33.0,32.0,32.0,29.0,32.0,34.0,36.0,36.0,29.0,26.0,27.0,30.0,31.0,26.0,26.0,28.0,26.0,29.0,28.0,27.0,24.0,24.0,24.0,22.0,19.0,20.0,17.0,12.0,19.0,18.0,14.0,15.0,18.0,18.0,15.0,17.0,16.0,18.0,17.0,19.0,19.0,17.0,29.0,27.0,31.0,32.0,27.0,26.0,26.0,25.0,25.0,17.0,17.0,20.0,18.0,26.0,26.0,27.0,28.0,25.0,25.0,24.0,27.0,25.0,26.0,23.0,26.0,26.0,26.0,26.0,25.0,27.0,25.0,27.0,20.0,20.0,19.0,17.0,20.0,17.0,29.0,27.0,31.0,31.0,26.0,26.0,28.0,27.0,29.0,31.0,31.0,26.0,26.0,27.0,30.0,33.0,35.0,37.0,35.0,15.0,18.0,20.0,20.0,22.0,17.0,19.0,18.0,20.0,29.0,26.0,29.0,29.0,24.0,44.0,29.0,26.0,29.0,29.0,29.0,29.0,23.0,24.0,44.0,41.0,29.0,26.0,28.0,29.0,29.0,29.0,28.0,29.0,26.0,26.0,26.0]\n},\n'kind':\"plot\",\n'scales':[],\n'layers':[{\n'geom':\"point\",\n'mapping':{\n'x':\"displ\",\n'y':\"hwy\",\n'color':\"cyl\"\n},\n'data':{\n}\n}]\n};\n                    var plotContainer = document.getElementById(\"plot_output_dGwGof\");\n                    window.letsPlotCall(function() {{\n                        LetsPlot.buildPlotFromProcessedSpecs(plotSpec, -1, -1, plotContainer);\n                    }});\n                })();    \n            </script>\n        "
     },
     "metadata": {},
     "output_type": "execute_result",
     "execution_count": 3
    }
   ],
   "source": [
    "# Mapping\n",
    "\n",
    "p + geom_point(aes('displ', 'hwy', color='cyl'))"
   ],
   "metadata": {
    "collapsed": false,
    "pycharm": {
     "name": "#%%\n",
     "is_executing": false
    }
   }
  },
  {
   "cell_type": "markdown",
   "source": [
    "Apply statistical data transformation to count the number of cases at each x position."
   ],
   "metadata": {
    "collapsed": false
   }
  },
  {
   "cell_type": "code",
   "execution_count": 4,
   "outputs": [
    {
     "data": {
      "text/plain": "<lets_plot.plot.core.PlotSpec at 0x1121099a0>",
      "text/html": "\n            <div id=\"plot_output_zqAj24\"></div>\n            <script type=\"text/javascript\">\n                (function() {\n                    var plotSpec={\n'data':{\n},\n'kind':\"plot\",\n'scales':[],\n'layers':[{\n'geom':\"point\",\n'stat':\"count\",\n'mapping':{\n'x':\"displ\",\n'y':\"hwy\",\n'color':\"cyl\"\n},\n'data':{\n'displ':[1.8,2.0,2.8,3.1,4.2,5.3,5.7,6.0,6.2,7.0,6.5,2.4,3.5,3.6,3.0,3.3,3.8,4.0,3.7,3.9,4.7,5.2,5.9,4.6,5.4,5.0,1.6,2.5,2.7,6.1,4.4,5.6,2.2,3.4,1.9],\n'hwy':[14.0,21.0,10.0,6.0,4.0,6.0,8.0,1.0,2.0,1.0,1.0,13.0,5.0,2.0,8.0,9.0,8.0,15.0,3.0,3.0,17.0,5.0,2.0,11.0,8.0,2.0,5.0,20.0,8.0,1.0,1.0,1.0,6.0,4.0,3.0],\n'cyl':[5.88888888888889,5.88888888888889,5.88888888888889,5.88888888888889,5.88888888888889,5.88888888888889,5.88888888888889,5.88888888888889,5.88888888888889,5.88888888888889,5.88888888888889,5.88888888888889,5.88888888888889,5.88888888888889,5.88888888888889,5.88888888888889,5.88888888888889,5.88888888888889,5.88888888888889,5.88888888888889,5.88888888888889,5.88888888888889,5.88888888888889,5.88888888888889,5.88888888888889,5.88888888888889,5.88888888888889,5.88888888888889,5.88888888888889,5.88888888888889,5.88888888888889,5.88888888888889,5.88888888888889,5.88888888888889,5.88888888888889]\n}\n}]\n};\n                    var plotContainer = document.getElementById(\"plot_output_zqAj24\");\n                    window.letsPlotCall(function() {{\n                        LetsPlot.buildPlotFromProcessedSpecs(plotSpec, -1, -1, plotContainer);\n                    }});\n                })();    \n            </script>\n        "
     },
     "metadata": {},
     "output_type": "execute_result",
     "execution_count": 4
    }
   ],
   "source": [
    "p + geom_point(aes('displ', 'hwy', color='cyl'), stat='count')"
   ],
   "metadata": {
    "collapsed": false,
    "pycharm": {
     "name": "#%%\n",
     "is_executing": false
    }
   }
  },
  {
   "cell_type": "markdown",
   "source": [
    "Change the pallete and the legend, add the title. "
   ],
   "metadata": {
    "collapsed": false
   }
  },
  {
   "cell_type": "code",
   "execution_count": 5,
   "outputs": [
    {
     "data": {
      "text/plain": "<lets_plot.plot.core.PlotSpec at 0x11fae3dc0>",
      "text/html": "\n            <div id=\"plot_output_vttBqe\"></div>\n            <script type=\"text/javascript\">\n                (function() {\n                    var plotSpec={\n'data':{\n'displ':[1.8,1.8,2.0,2.0,2.8,2.8,3.1,1.8,1.8,2.0,2.0,2.8,2.8,3.1,3.1,2.8,3.1,4.2,5.3,5.3,5.3,5.7,6.0,5.7,5.7,6.2,6.2,7.0,5.3,5.3,5.7,6.5,2.4,2.4,3.1,3.5,3.6,2.4,3.0,3.3,3.3,3.3,3.3,3.3,3.8,3.8,3.8,4.0,3.7,3.7,3.9,3.9,4.7,4.7,4.7,5.2,5.2,3.9,4.7,4.7,4.7,5.2,5.7,5.9,4.7,4.7,4.7,4.7,4.7,4.7,5.2,5.2,5.7,5.9,4.6,5.4,5.4,4.0,4.0,4.0,4.0,4.6,5.0,4.2,4.2,4.6,4.6,4.6,5.4,5.4,3.8,3.8,4.0,4.0,4.6,4.6,4.6,4.6,5.4,1.6,1.6,1.6,1.6,1.6,1.8,1.8,1.8,2.0,2.4,2.4,2.4,2.4,2.5,2.5,3.3,2.0,2.0,2.0,2.0,2.7,2.7,2.7,3.0,3.7,4.0,4.7,4.7,4.7,5.7,6.1,4.0,4.2,4.4,4.6,5.4,5.4,5.4,4.0,4.0,4.6,5.0,2.4,2.4,2.5,2.5,3.5,3.5,3.0,3.0,3.5,3.3,3.3,4.0,5.6,3.1,3.8,3.8,3.8,5.3,2.5,2.5,2.5,2.5,2.5,2.5,2.2,2.2,2.5,2.5,2.5,2.5,2.5,2.5,2.7,2.7,3.4,3.4,4.0,4.7,2.2,2.2,2.4,2.4,3.0,3.0,3.5,2.2,2.2,2.4,2.4,3.0,3.0,3.3,1.8,1.8,1.8,1.8,1.8,4.7,5.7,2.7,2.7,2.7,3.4,3.4,4.0,4.0,2.0,2.0,2.0,2.0,2.8,1.9,2.0,2.0,2.0,2.0,2.5,2.5,2.8,2.8,1.9,1.9,2.0,2.0,2.5,2.5,1.8,1.8,2.0,2.0,2.8,2.8,3.6],\n'cyl':[4.0,4.0,4.0,4.0,6.0,6.0,6.0,4.0,4.0,4.0,4.0,6.0,6.0,6.0,6.0,6.0,6.0,8.0,8.0,8.0,8.0,8.0,8.0,8.0,8.0,8.0,8.0,8.0,8.0,8.0,8.0,8.0,4.0,4.0,6.0,6.0,6.0,4.0,6.0,6.0,6.0,6.0,6.0,6.0,6.0,6.0,6.0,6.0,6.0,6.0,6.0,6.0,8.0,8.0,8.0,8.0,8.0,6.0,8.0,8.0,8.0,8.0,8.0,8.0,8.0,8.0,8.0,8.0,8.0,8.0,8.0,8.0,8.0,8.0,8.0,8.0,8.0,6.0,6.0,6.0,6.0,8.0,8.0,6.0,6.0,8.0,8.0,8.0,8.0,8.0,6.0,6.0,6.0,6.0,8.0,8.0,8.0,8.0,8.0,4.0,4.0,4.0,4.0,4.0,4.0,4.0,4.0,4.0,4.0,4.0,4.0,4.0,6.0,6.0,6.0,4.0,4.0,4.0,4.0,6.0,6.0,6.0,6.0,6.0,6.0,8.0,8.0,8.0,8.0,8.0,8.0,8.0,8.0,8.0,8.0,8.0,8.0,6.0,6.0,8.0,8.0,4.0,4.0,4.0,4.0,6.0,6.0,6.0,6.0,6.0,6.0,6.0,6.0,8.0,6.0,6.0,6.0,6.0,8.0,4.0,4.0,4.0,4.0,4.0,4.0,4.0,4.0,4.0,4.0,4.0,4.0,4.0,4.0,4.0,4.0,6.0,6.0,6.0,8.0,4.0,4.0,4.0,4.0,6.0,6.0,6.0,4.0,4.0,4.0,4.0,6.0,6.0,6.0,4.0,4.0,4.0,4.0,4.0,8.0,8.0,4.0,4.0,4.0,6.0,6.0,6.0,6.0,4.0,4.0,4.0,4.0,6.0,4.0,4.0,4.0,4.0,4.0,5.0,5.0,6.0,6.0,4.0,4.0,4.0,4.0,5.0,5.0,4.0,4.0,4.0,4.0,6.0,6.0,6.0],\n'hwy':[29.0,29.0,31.0,30.0,26.0,26.0,27.0,26.0,25.0,28.0,27.0,25.0,25.0,25.0,25.0,24.0,25.0,23.0,20.0,15.0,20.0,17.0,17.0,26.0,23.0,26.0,25.0,24.0,19.0,14.0,15.0,17.0,27.0,30.0,26.0,29.0,26.0,24.0,24.0,22.0,22.0,24.0,24.0,17.0,22.0,21.0,23.0,23.0,19.0,18.0,17.0,17.0,19.0,19.0,12.0,17.0,15.0,17.0,17.0,12.0,17.0,16.0,18.0,15.0,16.0,12.0,17.0,17.0,16.0,12.0,15.0,16.0,17.0,15.0,17.0,17.0,18.0,17.0,19.0,17.0,19.0,19.0,17.0,17.0,17.0,16.0,16.0,17.0,15.0,17.0,26.0,25.0,26.0,24.0,21.0,22.0,23.0,22.0,20.0,33.0,32.0,32.0,29.0,32.0,34.0,36.0,36.0,29.0,26.0,27.0,30.0,31.0,26.0,26.0,28.0,26.0,29.0,28.0,27.0,24.0,24.0,24.0,22.0,19.0,20.0,17.0,12.0,19.0,18.0,14.0,15.0,18.0,18.0,15.0,17.0,16.0,18.0,17.0,19.0,19.0,17.0,29.0,27.0,31.0,32.0,27.0,26.0,26.0,25.0,25.0,17.0,17.0,20.0,18.0,26.0,26.0,27.0,28.0,25.0,25.0,24.0,27.0,25.0,26.0,23.0,26.0,26.0,26.0,26.0,25.0,27.0,25.0,27.0,20.0,20.0,19.0,17.0,20.0,17.0,29.0,27.0,31.0,31.0,26.0,26.0,28.0,27.0,29.0,31.0,31.0,26.0,26.0,27.0,30.0,33.0,35.0,37.0,35.0,15.0,18.0,20.0,20.0,22.0,17.0,19.0,18.0,20.0,29.0,26.0,29.0,29.0,24.0,44.0,29.0,26.0,29.0,29.0,29.0,29.0,23.0,24.0,44.0,41.0,29.0,26.0,28.0,29.0,29.0,29.0,28.0,29.0,26.0,26.0,26.0]\n},\n'ggtitle':{\n'text':\"Displacement by horsepower\"\n},\n'kind':\"plot\",\n'scales':[{\n'aesthetic':\"color\",\n'guide':{\n'name':\"legend\",\n'ncol':2\n},\n'palette':\"RdPu\",\n'scale_mapper_kind':\"color_brewer\"\n}],\n'layers':[{\n'geom':\"point\",\n'mapping':{\n'x':\"displ\",\n'y':\"hwy\",\n'color':\"cyl\"\n},\n'position':\"nudge\",\n'data':{\n}\n}]\n};\n                    var plotContainer = document.getElementById(\"plot_output_vttBqe\");\n                    window.letsPlotCall(function() {{\n                        LetsPlot.buildPlotFromProcessedSpecs(plotSpec, -1, -1, plotContainer);\n                    }});\n                })();    \n            </script>\n        "
     },
     "metadata": {},
     "output_type": "execute_result",
     "execution_count": 5
    }
   ],
   "source": [
    "p + geom_point(aes('displ', 'hwy', color='cyl'), position='nudge') + \\\n",
    "scale_color_brewer(palette=\"RdPu\", guide=guide_legend(ncol=2)) + \\\n",
    "ggtitle('Displacement by horsepower')    "
   ],
   "metadata": {
    "collapsed": false,
    "pycharm": {
     "name": "#%%\n",
     "is_executing": false
    }
   }
  },
  {
   "cell_type": "markdown",
   "source": [
    "Apply the randomly stratified sampling to select points from each group proportionally \n",
    "to the group size."
   ],
   "metadata": {
    "collapsed": false
   }
  },
  {
   "cell_type": "code",
   "execution_count": 6,
   "outputs": [
    {
     "data": {
      "text/plain": "<lets_plot.plot.core.PlotSpec at 0x11fae38b0>",
      "text/html": "\n            <div id=\"plot_output_zVRUXs\"></div>\n            <script type=\"text/javascript\">\n                (function() {\n                    var plotSpec={\n'data':{\n},\n'kind':\"plot\",\n'scales':[{\n'aesthetic':\"color\",\n'palette':\"RdPu\",\n'scale_mapper_kind':\"color_brewer\"\n}],\n'layers':[{\n'geom':\"point\",\n'mapping':{\n'x':\"displ\",\n'y':\"hwy\",\n'color':\"cyl\"\n},\n'position':\"nudge\",\n'sampling':{\n'name':\"random_stratified\",\n'n':40\n},\n'guide':{\n'name':\"legend\",\n'ncol':2\n},\n'data':{\n'displ':[2.8,5.7,6.5,2.4,3.0,3.3,3.8,3.7,3.9,5.2,5.2,3.9,4.7,4.7,4.7,4.2,4.0,4.6,5.4,1.6,2.4,2.0,2.0,2.7,3.5,3.3,5.6,2.5,4.0,2.4,3.0,3.0,1.8,1.8,2.7,3.4,2.0,2.8,2.0,2.8],\n'cyl':[6.0,8.0,8.0,4.0,6.0,6.0,6.0,6.0,6.0,8.0,8.0,6.0,8.0,8.0,8.0,6.0,6.0,8.0,8.0,4.0,4.0,4.0,4.0,6.0,6.0,6.0,8.0,4.0,6.0,4.0,6.0,6.0,4.0,4.0,4.0,6.0,4.0,6.0,4.0,6.0],\n'hwy':[24.0,15.0,17.0,30.0,24.0,24.0,21.0,19.0,17.0,17.0,15.0,17.0,17.0,17.0,17.0,17.0,24.0,21.0,20.0,32.0,27.0,28.0,27.0,24.0,26.0,17.0,18.0,26.0,20.0,31.0,26.0,26.0,30.0,35.0,20.0,17.0,29.0,23.0,29.0,26.0]\n}\n}],\n'computation_messages':[\"sampling_random_stratified(n=40) was applied to [point/identity stat] layer\"]\n};\n                    var plotContainer = document.getElementById(\"plot_output_zVRUXs\");\n                    window.letsPlotCall(function() {{\n                        LetsPlot.buildPlotFromProcessedSpecs(plotSpec, -1, -1, plotContainer);\n                    }});\n                })();    \n            </script>\n        "
     },
     "metadata": {},
     "output_type": "execute_result",
     "execution_count": 6
    }
   ],
   "source": [
    "p + geom_point(aes('displ', 'hwy', color='cyl'), position='nudge', \n",
    "               sampling=sampling_random_stratified(40), guide=guide_legend(ncol=2)) + \\\n",
    "scale_color_brewer(palette=\"RdPu\")\n",
    "  "
   ],
   "metadata": {
    "collapsed": false,
    "pycharm": {
     "name": "#%%\n",
     "is_executing": false
    }
   }
  },
  {
   "cell_type": "markdown",
   "source": [
    "Plot a collection of charts using the [`GGBunch`](https://github.com/JetBrains/lets-plot/blob/master/docs/ref/python/ggbunch.md) method. "
   ],
   "metadata": {
    "collapsed": false,
    "pycharm": {
     "name": "#%% md\n"
    }
   }
  },
  {
   "cell_type": "code",
   "execution_count": 7,
   "outputs": [
    {
     "data": {
      "text/html": "\n            <div id=\"plot_output_ihZo7X\"></div>\n            <script type=\"text/javascript\">\n                (function() {\n                    var plotSpec={\n'kind':\"ggbunch\",\n'items':[{\n'x':0,\n'y':0,\n'width':600,\n'height':200,\n'feature_spec':{\n'data':{\n'Unnamed: 0':[1,2,3,4,5,6,7,8,9,10,11,12,13,14,15,16,17,18,19,20,21,22,23,24,25,26,27,28,29,30,31,32,33,34,35,36,37,38,39,40,41,42,43,44,45,46,47,48,49,50,51,52,53,54,55,56,57,58,59,60,61,62,63,64,65,66,67,68,69,70,71,72,73,74,75,76,77,78,79,80,81,82,83,84,85,86,87,88,89,90,91,92,93,94,95,96,97,98,99,100,101,102,103,104,105,106,107,108,109,110,111,112,113,114,115,116,117,118,119,120,121,122,123,124,125,126,127,128,129,130,131,132,133,134,135,136,137,138,139,140,141,142,143,144,145,146,147,148,149,150,151,152,153,154,155,156,157,158,159,160,161,162,163,164,165,166,167,168,169,170,171,172,173,174,175,176,177,178,179,180,181,182,183,184,185,186,187,188,189,190,191,192,193,194,195,196,197,198,199,200,201,202,203,204,205,206,207,208,209,210,211,212,213,214,215,216,217,218,219,220,221,222,223,224,225,226,227,228,229,230,231,232,233,234],\n'manufacturer':[\"audi\",\"audi\",\"audi\",\"audi\",\"audi\",\"audi\",\"audi\",\"audi\",\"audi\",\"audi\",\"audi\",\"audi\",\"audi\",\"audi\",\"audi\",\"audi\",\"audi\",\"audi\",\"chevrolet\",\"chevrolet\",\"chevrolet\",\"chevrolet\",\"chevrolet\",\"chevrolet\",\"chevrolet\",\"chevrolet\",\"chevrolet\",\"chevrolet\",\"chevrolet\",\"chevrolet\",\"chevrolet\",\"chevrolet\",\"chevrolet\",\"chevrolet\",\"chevrolet\",\"chevrolet\",\"chevrolet\",\"dodge\",\"dodge\",\"dodge\",\"dodge\",\"dodge\",\"dodge\",\"dodge\",\"dodge\",\"dodge\",\"dodge\",\"dodge\",\"dodge\",\"dodge\",\"dodge\",\"dodge\",\"dodge\",\"dodge\",\"dodge\",\"dodge\",\"dodge\",\"dodge\",\"dodge\",\"dodge\",\"dodge\",\"dodge\",\"dodge\",\"dodge\",\"dodge\",\"dodge\",\"dodge\",\"dodge\",\"dodge\",\"dodge\",\"dodge\",\"dodge\",\"dodge\",\"dodge\",\"ford\",\"ford\",\"ford\",\"ford\",\"ford\",\"ford\",\"ford\",\"ford\",\"ford\",\"ford\",\"ford\",\"ford\",\"ford\",\"ford\",\"ford\",\"ford\",\"ford\",\"ford\",\"ford\",\"ford\",\"ford\",\"ford\",\"ford\",\"ford\",\"ford\",\"honda\",\"honda\",\"honda\",\"honda\",\"honda\",\"honda\",\"honda\",\"honda\",\"honda\",\"hyundai\",\"hyundai\",\"hyundai\",\"hyundai\",\"hyundai\",\"hyundai\",\"hyundai\",\"hyundai\",\"hyundai\",\"hyundai\",\"hyundai\",\"hyundai\",\"hyundai\",\"hyundai\",\"jeep\",\"jeep\",\"jeep\",\"jeep\",\"jeep\",\"jeep\",\"jeep\",\"jeep\",\"land rover\",\"land rover\",\"land rover\",\"land rover\",\"lincoln\",\"lincoln\",\"lincoln\",\"mercury\",\"mercury\",\"mercury\",\"mercury\",\"nissan\",\"nissan\",\"nissan\",\"nissan\",\"nissan\",\"nissan\",\"nissan\",\"nissan\",\"nissan\",\"nissan\",\"nissan\",\"nissan\",\"nissan\",\"pontiac\",\"pontiac\",\"pontiac\",\"pontiac\",\"pontiac\",\"subaru\",\"subaru\",\"subaru\",\"subaru\",\"subaru\",\"subaru\",\"subaru\",\"subaru\",\"subaru\",\"subaru\",\"subaru\",\"subaru\",\"subaru\",\"subaru\",\"toyota\",\"toyota\",\"toyota\",\"toyota\",\"toyota\",\"toyota\",\"toyota\",\"toyota\",\"toyota\",\"toyota\",\"toyota\",\"toyota\",\"toyota\",\"toyota\",\"toyota\",\"toyota\",\"toyota\",\"toyota\",\"toyota\",\"toyota\",\"toyota\",\"toyota\",\"toyota\",\"toyota\",\"toyota\",\"toyota\",\"toyota\",\"toyota\",\"toyota\",\"toyota\",\"toyota\",\"toyota\",\"toyota\",\"toyota\",\"volkswagen\",\"volkswagen\",\"volkswagen\",\"volkswagen\",\"volkswagen\",\"volkswagen\",\"volkswagen\",\"volkswagen\",\"volkswagen\",\"volkswagen\",\"volkswagen\",\"volkswagen\",\"volkswagen\",\"volkswagen\",\"volkswagen\",\"volkswagen\",\"volkswagen\",\"volkswagen\",\"volkswagen\",\"volkswagen\",\"volkswagen\",\"volkswagen\",\"volkswagen\",\"volkswagen\",\"volkswagen\",\"volkswagen\",\"volkswagen\"],\n'model':[\"a4\",\"a4\",\"a4\",\"a4\",\"a4\",\"a4\",\"a4\",\"a4 quattro\",\"a4 quattro\",\"a4 quattro\",\"a4 quattro\",\"a4 quattro\",\"a4 quattro\",\"a4 quattro\",\"a4 quattro\",\"a6 quattro\",\"a6 quattro\",\"a6 quattro\",\"c1500 suburban 2wd\",\"c1500 suburban 2wd\",\"c1500 suburban 2wd\",\"c1500 suburban 2wd\",\"c1500 suburban 2wd\",\"corvette\",\"corvette\",\"corvette\",\"corvette\",\"corvette\",\"k1500 tahoe 4wd\",\"k1500 tahoe 4wd\",\"k1500 tahoe 4wd\",\"k1500 tahoe 4wd\",\"malibu\",\"malibu\",\"malibu\",\"malibu\",\"malibu\",\"caravan 2wd\",\"caravan 2wd\",\"caravan 2wd\",\"caravan 2wd\",\"caravan 2wd\",\"caravan 2wd\",\"caravan 2wd\",\"caravan 2wd\",\"caravan 2wd\",\"caravan 2wd\",\"caravan 2wd\",\"dakota pickup 4wd\",\"dakota pickup 4wd\",\"dakota pickup 4wd\",\"dakota pickup 4wd\",\"dakota pickup 4wd\",\"dakota pickup 4wd\",\"dakota pickup 4wd\",\"dakota pickup 4wd\",\"dakota pickup 4wd\",\"durango 4wd\",\"durango 4wd\",\"durango 4wd\",\"durango 4wd\",\"durango 4wd\",\"durango 4wd\",\"durango 4wd\",\"ram 1500 pickup 4wd\",\"ram 1500 pickup 4wd\",\"ram 1500 pickup 4wd\",\"ram 1500 pickup 4wd\",\"ram 1500 pickup 4wd\",\"ram 1500 pickup 4wd\",\"ram 1500 pickup 4wd\",\"ram 1500 pickup 4wd\",\"ram 1500 pickup 4wd\",\"ram 1500 pickup 4wd\",\"expedition 2wd\",\"expedition 2wd\",\"expedition 2wd\",\"explorer 4wd\",\"explorer 4wd\",\"explorer 4wd\",\"explorer 4wd\",\"explorer 4wd\",\"explorer 4wd\",\"f150 pickup 4wd\",\"f150 pickup 4wd\",\"f150 pickup 4wd\",\"f150 pickup 4wd\",\"f150 pickup 4wd\",\"f150 pickup 4wd\",\"f150 pickup 4wd\",\"mustang\",\"mustang\",\"mustang\",\"mustang\",\"mustang\",\"mustang\",\"mustang\",\"mustang\",\"mustang\",\"civic\",\"civic\",\"civic\",\"civic\",\"civic\",\"civic\",\"civic\",\"civic\",\"civic\",\"sonata\",\"sonata\",\"sonata\",\"sonata\",\"sonata\",\"sonata\",\"sonata\",\"tiburon\",\"tiburon\",\"tiburon\",\"tiburon\",\"tiburon\",\"tiburon\",\"tiburon\",\"grand cherokee 4wd\",\"grand cherokee 4wd\",\"grand cherokee 4wd\",\"grand cherokee 4wd\",\"grand cherokee 4wd\",\"grand cherokee 4wd\",\"grand cherokee 4wd\",\"grand cherokee 4wd\",\"range rover\",\"range rover\",\"range rover\",\"range rover\",\"navigator 2wd\",\"navigator 2wd\",\"navigator 2wd\",\"mountaineer 4wd\",\"mountaineer 4wd\",\"mountaineer 4wd\",\"mountaineer 4wd\",\"altima\",\"altima\",\"altima\",\"altima\",\"altima\",\"altima\",\"maxima\",\"maxima\",\"maxima\",\"pathfinder 4wd\",\"pathfinder 4wd\",\"pathfinder 4wd\",\"pathfinder 4wd\",\"grand prix\",\"grand prix\",\"grand prix\",\"grand prix\",\"grand prix\",\"forester awd\",\"forester awd\",\"forester awd\",\"forester awd\",\"forester awd\",\"forester awd\",\"impreza awd\",\"impreza awd\",\"impreza awd\",\"impreza awd\",\"impreza awd\",\"impreza awd\",\"impreza awd\",\"impreza awd\",\"4runner 4wd\",\"4runner 4wd\",\"4runner 4wd\",\"4runner 4wd\",\"4runner 4wd\",\"4runner 4wd\",\"camry\",\"camry\",\"camry\",\"camry\",\"camry\",\"camry\",\"camry\",\"camry solara\",\"camry solara\",\"camry solara\",\"camry solara\",\"camry solara\",\"camry solara\",\"camry solara\",\"corolla\",\"corolla\",\"corolla\",\"corolla\",\"corolla\",\"land cruiser wagon 4wd\",\"land cruiser wagon 4wd\",\"toyota tacoma 4wd\",\"toyota tacoma 4wd\",\"toyota tacoma 4wd\",\"toyota tacoma 4wd\",\"toyota tacoma 4wd\",\"toyota tacoma 4wd\",\"toyota tacoma 4wd\",\"gti\",\"gti\",\"gti\",\"gti\",\"gti\",\"jetta\",\"jetta\",\"jetta\",\"jetta\",\"jetta\",\"jetta\",\"jetta\",\"jetta\",\"jetta\",\"new beetle\",\"new beetle\",\"new beetle\",\"new beetle\",\"new beetle\",\"new beetle\",\"passat\",\"passat\",\"passat\",\"passat\",\"passat\",\"passat\",\"passat\"],\n'displ':[1.8,1.8,2.0,2.0,2.8,2.8,3.1,1.8,1.8,2.0,2.0,2.8,2.8,3.1,3.1,2.8,3.1,4.2,5.3,5.3,5.3,5.7,6.0,5.7,5.7,6.2,6.2,7.0,5.3,5.3,5.7,6.5,2.4,2.4,3.1,3.5,3.6,2.4,3.0,3.3,3.3,3.3,3.3,3.3,3.8,3.8,3.8,4.0,3.7,3.7,3.9,3.9,4.7,4.7,4.7,5.2,5.2,3.9,4.7,4.7,4.7,5.2,5.7,5.9,4.7,4.7,4.7,4.7,4.7,4.7,5.2,5.2,5.7,5.9,4.6,5.4,5.4,4.0,4.0,4.0,4.0,4.6,5.0,4.2,4.2,4.6,4.6,4.6,5.4,5.4,3.8,3.8,4.0,4.0,4.6,4.6,4.6,4.6,5.4,1.6,1.6,1.6,1.6,1.6,1.8,1.8,1.8,2.0,2.4,2.4,2.4,2.4,2.5,2.5,3.3,2.0,2.0,2.0,2.0,2.7,2.7,2.7,3.0,3.7,4.0,4.7,4.7,4.7,5.7,6.1,4.0,4.2,4.4,4.6,5.4,5.4,5.4,4.0,4.0,4.6,5.0,2.4,2.4,2.5,2.5,3.5,3.5,3.0,3.0,3.5,3.3,3.3,4.0,5.6,3.1,3.8,3.8,3.8,5.3,2.5,2.5,2.5,2.5,2.5,2.5,2.2,2.2,2.5,2.5,2.5,2.5,2.5,2.5,2.7,2.7,3.4,3.4,4.0,4.7,2.2,2.2,2.4,2.4,3.0,3.0,3.5,2.2,2.2,2.4,2.4,3.0,3.0,3.3,1.8,1.8,1.8,1.8,1.8,4.7,5.7,2.7,2.7,2.7,3.4,3.4,4.0,4.0,2.0,2.0,2.0,2.0,2.8,1.9,2.0,2.0,2.0,2.0,2.5,2.5,2.8,2.8,1.9,1.9,2.0,2.0,2.5,2.5,1.8,1.8,2.0,2.0,2.8,2.8,3.6],\n'year':[1999,1999,2008,2008,1999,1999,2008,1999,1999,2008,2008,1999,1999,2008,2008,1999,2008,2008,2008,2008,2008,1999,2008,1999,1999,2008,2008,2008,2008,2008,1999,1999,1999,2008,1999,2008,2008,1999,1999,1999,1999,2008,2008,2008,1999,1999,2008,2008,2008,2008,1999,1999,2008,2008,2008,1999,1999,1999,2008,2008,2008,1999,2008,1999,2008,2008,2008,2008,2008,2008,1999,1999,2008,1999,1999,1999,2008,1999,1999,1999,2008,2008,1999,1999,1999,1999,1999,2008,1999,2008,1999,1999,2008,2008,1999,1999,2008,2008,2008,1999,1999,1999,1999,1999,2008,2008,2008,2008,1999,1999,2008,2008,1999,1999,2008,1999,1999,2008,2008,2008,2008,2008,2008,2008,1999,1999,2008,2008,2008,2008,1999,2008,2008,1999,1999,1999,2008,1999,2008,2008,1999,1999,1999,2008,2008,2008,2008,1999,1999,2008,1999,1999,2008,2008,1999,1999,1999,2008,2008,1999,1999,2008,2008,2008,2008,1999,1999,1999,1999,2008,2008,2008,2008,1999,1999,1999,1999,2008,2008,1999,1999,2008,2008,1999,1999,2008,1999,1999,2008,2008,1999,1999,2008,1999,1999,1999,2008,2008,1999,2008,1999,1999,2008,1999,1999,2008,2008,1999,1999,2008,2008,1999,1999,1999,1999,2008,2008,2008,2008,1999,1999,1999,1999,1999,1999,2008,2008,1999,1999,2008,2008,1999,1999,2008],\n'cyl':[4,4,4,4,6,6,6,4,4,4,4,6,6,6,6,6,6,8,8,8,8,8,8,8,8,8,8,8,8,8,8,8,4,4,6,6,6,4,6,6,6,6,6,6,6,6,6,6,6,6,6,6,8,8,8,8,8,6,8,8,8,8,8,8,8,8,8,8,8,8,8,8,8,8,8,8,8,6,6,6,6,8,8,6,6,8,8,8,8,8,6,6,6,6,8,8,8,8,8,4,4,4,4,4,4,4,4,4,4,4,4,4,6,6,6,4,4,4,4,6,6,6,6,6,6,8,8,8,8,8,8,8,8,8,8,8,8,6,6,8,8,4,4,4,4,6,6,6,6,6,6,6,6,8,6,6,6,6,8,4,4,4,4,4,4,4,4,4,4,4,4,4,4,4,4,6,6,6,8,4,4,4,4,6,6,6,4,4,4,4,6,6,6,4,4,4,4,4,8,8,4,4,4,6,6,6,6,4,4,4,4,6,4,4,4,4,4,5,5,6,6,4,4,4,4,5,5,4,4,4,4,6,6,6],\n'trans':[\"auto(l5)\",\"manual(m5)\",\"manual(m6)\",\"auto(av)\",\"auto(l5)\",\"manual(m5)\",\"auto(av)\",\"manual(m5)\",\"auto(l5)\",\"manual(m6)\",\"auto(s6)\",\"auto(l5)\",\"manual(m5)\",\"auto(s6)\",\"manual(m6)\",\"auto(l5)\",\"auto(s6)\",\"auto(s6)\",\"auto(l4)\",\"auto(l4)\",\"auto(l4)\",\"auto(l4)\",\"auto(l4)\",\"manual(m6)\",\"auto(l4)\",\"manual(m6)\",\"auto(s6)\",\"manual(m6)\",\"auto(l4)\",\"auto(l4)\",\"auto(l4)\",\"auto(l4)\",\"auto(l4)\",\"auto(l4)\",\"auto(l4)\",\"auto(l4)\",\"auto(s6)\",\"auto(l3)\",\"auto(l4)\",\"auto(l4)\",\"auto(l4)\",\"auto(l4)\",\"auto(l4)\",\"auto(l4)\",\"auto(l4)\",\"auto(l4)\",\"auto(l6)\",\"auto(l6)\",\"manual(m6)\",\"auto(l4)\",\"auto(l4)\",\"manual(m5)\",\"auto(l5)\",\"auto(l5)\",\"auto(l5)\",\"manual(m5)\",\"auto(l4)\",\"auto(l4)\",\"auto(l5)\",\"auto(l5)\",\"auto(l5)\",\"auto(l4)\",\"auto(l5)\",\"auto(l4)\",\"manual(m6)\",\"auto(l5)\",\"auto(l5)\",\"auto(l5)\",\"manual(m6)\",\"manual(m6)\",\"auto(l4)\",\"manual(m5)\",\"auto(l5)\",\"auto(l4)\",\"auto(l4)\",\"auto(l4)\",\"auto(l6)\",\"auto(l5)\",\"manual(m5)\",\"auto(l5)\",\"auto(l5)\",\"auto(l6)\",\"auto(l4)\",\"auto(l4)\",\"manual(m5)\",\"manual(m5)\",\"auto(l4)\",\"auto(l4)\",\"auto(l4)\",\"auto(l4)\",\"manual(m5)\",\"auto(l4)\",\"manual(m5)\",\"auto(l5)\",\"auto(l4)\",\"manual(m5)\",\"manual(m5)\",\"auto(l5)\",\"manual(m6)\",\"manual(m5)\",\"auto(l4)\",\"manual(m5)\",\"manual(m5)\",\"auto(l4)\",\"manual(m5)\",\"auto(l5)\",\"auto(l5)\",\"manual(m6)\",\"auto(l4)\",\"manual(m5)\",\"auto(l4)\",\"manual(m5)\",\"auto(l4)\",\"manual(m5)\",\"auto(l5)\",\"auto(l4)\",\"manual(m5)\",\"manual(m5)\",\"auto(l4)\",\"auto(l4)\",\"manual(m6)\",\"manual(m5)\",\"auto(l5)\",\"auto(l5)\",\"auto(l4)\",\"auto(l4)\",\"auto(l5)\",\"auto(l5)\",\"auto(l5)\",\"auto(l5)\",\"auto(l4)\",\"auto(s6)\",\"auto(s6)\",\"auto(l4)\",\"auto(l4)\",\"auto(l4)\",\"auto(l6)\",\"auto(l5)\",\"auto(l5)\",\"auto(l6)\",\"auto(l4)\",\"manual(m5)\",\"auto(l4)\",\"auto(av)\",\"manual(m6)\",\"manual(m6)\",\"auto(av)\",\"auto(l4)\",\"manual(m5)\",\"auto(av)\",\"auto(l4)\",\"manual(m5)\",\"auto(l5)\",\"auto(s5)\",\"auto(l4)\",\"auto(l4)\",\"auto(l4)\",\"auto(l4)\",\"auto(s4)\",\"manual(m5)\",\"auto(l4)\",\"manual(m5)\",\"manual(m5)\",\"auto(l4)\",\"auto(l4)\",\"auto(l4)\",\"manual(m5)\",\"manual(m5)\",\"auto(l4)\",\"auto(s4)\",\"auto(s4)\",\"manual(m5)\",\"manual(m5)\",\"manual(m5)\",\"auto(l4)\",\"auto(l4)\",\"manual(m5)\",\"auto(l5)\",\"auto(l5)\",\"manual(m5)\",\"auto(l4)\",\"manual(m5)\",\"auto(l5)\",\"auto(l4)\",\"manual(m5)\",\"auto(s6)\",\"auto(l4)\",\"manual(m5)\",\"manual(m5)\",\"auto(s5)\",\"auto(l4)\",\"manual(m5)\",\"auto(s5)\",\"auto(l3)\",\"auto(l4)\",\"manual(m5)\",\"manual(m5)\",\"auto(l4)\",\"auto(l4)\",\"auto(s6)\",\"manual(m5)\",\"auto(l4)\",\"manual(m5)\",\"manual(m5)\",\"auto(l4)\",\"manual(m6)\",\"auto(l5)\",\"manual(m5)\",\"auto(l4)\",\"manual(m6)\",\"auto(s6)\",\"manual(m5)\",\"manual(m5)\",\"manual(m5)\",\"auto(l4)\",\"auto(s6)\",\"manual(m6)\",\"auto(s6)\",\"manual(m5)\",\"auto(l4)\",\"manual(m5)\",\"manual(m5)\",\"auto(l4)\",\"manual(m5)\",\"auto(l4)\",\"manual(m5)\",\"auto(s6)\",\"manual(m5)\",\"auto(l5)\",\"auto(s6)\",\"manual(m6)\",\"auto(l5)\",\"manual(m5)\",\"auto(s6)\"],\n'drv':[\"f\",\"f\",\"f\",\"f\",\"f\",\"f\",\"f\",\"4\",\"4\",\"4\",\"4\",\"4\",\"4\",\"4\",\"4\",\"4\",\"4\",\"4\",\"r\",\"r\",\"r\",\"r\",\"r\",\"r\",\"r\",\"r\",\"r\",\"r\",\"4\",\"4\",\"4\",\"4\",\"f\",\"f\",\"f\",\"f\",\"f\",\"f\",\"f\",\"f\",\"f\",\"f\",\"f\",\"f\",\"f\",\"f\",\"f\",\"f\",\"4\",\"4\",\"4\",\"4\",\"4\",\"4\",\"4\",\"4\",\"4\",\"4\",\"4\",\"4\",\"4\",\"4\",\"4\",\"4\",\"4\",\"4\",\"4\",\"4\",\"4\",\"4\",\"4\",\"4\",\"4\",\"4\",\"r\",\"r\",\"r\",\"4\",\"4\",\"4\",\"4\",\"4\",\"4\",\"4\",\"4\",\"4\",\"4\",\"4\",\"4\",\"4\",\"r\",\"r\",\"r\",\"r\",\"r\",\"r\",\"r\",\"r\",\"r\",\"f\",\"f\",\"f\",\"f\",\"f\",\"f\",\"f\",\"f\",\"f\",\"f\",\"f\",\"f\",\"f\",\"f\",\"f\",\"f\",\"f\",\"f\",\"f\",\"f\",\"f\",\"f\",\"f\",\"4\",\"4\",\"4\",\"4\",\"4\",\"4\",\"4\",\"4\",\"4\",\"4\",\"4\",\"4\",\"r\",\"r\",\"r\",\"4\",\"4\",\"4\",\"4\",\"f\",\"f\",\"f\",\"f\",\"f\",\"f\",\"f\",\"f\",\"f\",\"4\",\"4\",\"4\",\"4\",\"f\",\"f\",\"f\",\"f\",\"f\",\"4\",\"4\",\"4\",\"4\",\"4\",\"4\",\"4\",\"4\",\"4\",\"4\",\"4\",\"4\",\"4\",\"4\",\"4\",\"4\",\"4\",\"4\",\"4\",\"4\",\"f\",\"f\",\"f\",\"f\",\"f\",\"f\",\"f\",\"f\",\"f\",\"f\",\"f\",\"f\",\"f\",\"f\",\"f\",\"f\",\"f\",\"f\",\"f\",\"4\",\"4\",\"4\",\"4\",\"4\",\"4\",\"4\",\"4\",\"4\",\"f\",\"f\",\"f\",\"f\",\"f\",\"f\",\"f\",\"f\",\"f\",\"f\",\"f\",\"f\",\"f\",\"f\",\"f\",\"f\",\"f\",\"f\",\"f\",\"f\",\"f\",\"f\",\"f\",\"f\",\"f\",\"f\",\"f\"],\n'cty':[18,21,20,21,16,18,18,18,16,20,19,15,17,17,15,15,17,16,14,11,14,13,12,16,15,16,15,15,14,11,11,14,19,22,18,18,17,18,17,16,16,17,17,11,15,15,16,16,15,14,13,14,14,14,9,11,11,13,13,9,13,11,13,11,12,9,13,13,12,9,11,11,13,11,11,11,12,14,15,14,13,13,13,14,14,13,13,13,11,13,18,18,17,16,15,15,15,15,14,28,24,25,23,24,26,25,24,21,18,18,21,21,18,18,19,19,19,20,20,17,16,17,17,15,15,14,9,14,13,11,11,12,12,11,11,11,12,14,13,13,13,21,19,23,23,19,19,18,19,19,14,15,14,12,18,16,17,18,16,18,18,20,19,20,18,21,19,19,19,20,20,19,20,15,16,15,15,16,14,21,21,21,21,18,18,19,21,21,21,22,18,18,18,24,24,26,28,26,11,13,15,16,17,15,15,15,16,21,19,21,22,17,33,21,19,22,21,21,21,16,17,35,29,21,19,20,20,21,18,19,21,16,18,17],\n'hwy':[29,29,31,30,26,26,27,26,25,28,27,25,25,25,25,24,25,23,20,15,20,17,17,26,23,26,25,24,19,14,15,17,27,30,26,29,26,24,24,22,22,24,24,17,22,21,23,23,19,18,17,17,19,19,12,17,15,17,17,12,17,16,18,15,16,12,17,17,16,12,15,16,17,15,17,17,18,17,19,17,19,19,17,17,17,16,16,17,15,17,26,25,26,24,21,22,23,22,20,33,32,32,29,32,34,36,36,29,26,27,30,31,26,26,28,26,29,28,27,24,24,24,22,19,20,17,12,19,18,14,15,18,18,15,17,16,18,17,19,19,17,29,27,31,32,27,26,26,25,25,17,17,20,18,26,26,27,28,25,25,24,27,25,26,23,26,26,26,26,25,27,25,27,20,20,19,17,20,17,29,27,31,31,26,26,28,27,29,31,31,26,26,27,30,33,35,37,35,15,18,20,20,22,17,19,18,20,29,26,29,29,24,44,29,26,29,29,29,29,23,24,44,41,29,26,28,29,29,29,28,29,26,26,26],\n'fl':[\"p\",\"p\",\"p\",\"p\",\"p\",\"p\",\"p\",\"p\",\"p\",\"p\",\"p\",\"p\",\"p\",\"p\",\"p\",\"p\",\"p\",\"p\",\"r\",\"e\",\"r\",\"r\",\"r\",\"p\",\"p\",\"p\",\"p\",\"p\",\"r\",\"e\",\"r\",\"d\",\"r\",\"r\",\"r\",\"r\",\"r\",\"r\",\"r\",\"r\",\"r\",\"r\",\"r\",\"e\",\"r\",\"r\",\"r\",\"r\",\"r\",\"r\",\"r\",\"r\",\"r\",\"r\",\"e\",\"r\",\"r\",\"r\",\"r\",\"e\",\"r\",\"r\",\"r\",\"r\",\"r\",\"e\",\"r\",\"r\",\"r\",\"e\",\"r\",\"r\",\"r\",\"r\",\"r\",\"r\",\"r\",\"r\",\"r\",\"r\",\"r\",\"r\",\"r\",\"r\",\"r\",\"r\",\"r\",\"r\",\"r\",\"r\",\"r\",\"r\",\"r\",\"r\",\"r\",\"r\",\"r\",\"r\",\"p\",\"r\",\"r\",\"r\",\"p\",\"r\",\"r\",\"r\",\"c\",\"p\",\"r\",\"r\",\"r\",\"r\",\"r\",\"r\",\"r\",\"r\",\"r\",\"r\",\"r\",\"r\",\"r\",\"r\",\"d\",\"r\",\"r\",\"r\",\"e\",\"r\",\"r\",\"p\",\"p\",\"r\",\"r\",\"p\",\"r\",\"p\",\"r\",\"r\",\"r\",\"r\",\"r\",\"r\",\"r\",\"r\",\"r\",\"p\",\"p\",\"r\",\"r\",\"p\",\"r\",\"r\",\"p\",\"p\",\"r\",\"p\",\"r\",\"r\",\"p\",\"r\",\"r\",\"r\",\"p\",\"r\",\"p\",\"r\",\"r\",\"r\",\"r\",\"p\",\"r\",\"p\",\"r\",\"r\",\"r\",\"r\",\"r\",\"r\",\"r\",\"r\",\"r\",\"r\",\"r\",\"r\",\"r\",\"r\",\"r\",\"r\",\"r\",\"r\",\"r\",\"r\",\"r\",\"r\",\"r\",\"r\",\"r\",\"r\",\"r\",\"r\",\"r\",\"r\",\"r\",\"r\",\"r\",\"r\",\"r\",\"r\",\"r\",\"p\",\"p\",\"r\",\"d\",\"r\",\"r\",\"p\",\"p\",\"r\",\"r\",\"r\",\"r\",\"d\",\"d\",\"r\",\"r\",\"r\",\"r\",\"p\",\"p\",\"p\",\"p\",\"p\",\"p\",\"p\"],\n'class':[\"compact\",\"compact\",\"compact\",\"compact\",\"compact\",\"compact\",\"compact\",\"compact\",\"compact\",\"compact\",\"compact\",\"compact\",\"compact\",\"compact\",\"compact\",\"midsize\",\"midsize\",\"midsize\",\"suv\",\"suv\",\"suv\",\"suv\",\"suv\",\"2seater\",\"2seater\",\"2seater\",\"2seater\",\"2seater\",\"suv\",\"suv\",\"suv\",\"suv\",\"midsize\",\"midsize\",\"midsize\",\"midsize\",\"midsize\",\"minivan\",\"minivan\",\"minivan\",\"minivan\",\"minivan\",\"minivan\",\"minivan\",\"minivan\",\"minivan\",\"minivan\",\"minivan\",\"pickup\",\"pickup\",\"pickup\",\"pickup\",\"pickup\",\"pickup\",\"pickup\",\"pickup\",\"pickup\",\"suv\",\"suv\",\"suv\",\"suv\",\"suv\",\"suv\",\"suv\",\"pickup\",\"pickup\",\"pickup\",\"pickup\",\"pickup\",\"pickup\",\"pickup\",\"pickup\",\"pickup\",\"pickup\",\"suv\",\"suv\",\"suv\",\"suv\",\"suv\",\"suv\",\"suv\",\"suv\",\"suv\",\"pickup\",\"pickup\",\"pickup\",\"pickup\",\"pickup\",\"pickup\",\"pickup\",\"subcompact\",\"subcompact\",\"subcompact\",\"subcompact\",\"subcompact\",\"subcompact\",\"subcompact\",\"subcompact\",\"subcompact\",\"subcompact\",\"subcompact\",\"subcompact\",\"subcompact\",\"subcompact\",\"subcompact\",\"subcompact\",\"subcompact\",\"subcompact\",\"midsize\",\"midsize\",\"midsize\",\"midsize\",\"midsize\",\"midsize\",\"midsize\",\"subcompact\",\"subcompact\",\"subcompact\",\"subcompact\",\"subcompact\",\"subcompact\",\"subcompact\",\"suv\",\"suv\",\"suv\",\"suv\",\"suv\",\"suv\",\"suv\",\"suv\",\"suv\",\"suv\",\"suv\",\"suv\",\"suv\",\"suv\",\"suv\",\"suv\",\"suv\",\"suv\",\"suv\",\"compact\",\"compact\",\"midsize\",\"midsize\",\"midsize\",\"midsize\",\"midsize\",\"midsize\",\"midsize\",\"suv\",\"suv\",\"suv\",\"suv\",\"midsize\",\"midsize\",\"midsize\",\"midsize\",\"midsize\",\"suv\",\"suv\",\"suv\",\"suv\",\"suv\",\"suv\",\"subcompact\",\"subcompact\",\"subcompact\",\"subcompact\",\"compact\",\"compact\",\"compact\",\"compact\",\"suv\",\"suv\",\"suv\",\"suv\",\"suv\",\"suv\",\"midsize\",\"midsize\",\"midsize\",\"midsize\",\"midsize\",\"midsize\",\"midsize\",\"compact\",\"compact\",\"compact\",\"compact\",\"compact\",\"compact\",\"compact\",\"compact\",\"compact\",\"compact\",\"compact\",\"compact\",\"suv\",\"suv\",\"pickup\",\"pickup\",\"pickup\",\"pickup\",\"pickup\",\"pickup\",\"pickup\",\"compact\",\"compact\",\"compact\",\"compact\",\"compact\",\"compact\",\"compact\",\"compact\",\"compact\",\"compact\",\"compact\",\"compact\",\"compact\",\"compact\",\"subcompact\",\"subcompact\",\"subcompact\",\"subcompact\",\"subcompact\",\"subcompact\",\"midsize\",\"midsize\",\"midsize\",\"midsize\",\"midsize\",\"midsize\",\"midsize\"]\n},\n'kind':\"plot\",\n'scales':[],\n'layers':[{\n'geom':\"point\",\n'mapping':{\n'x':\"displ\",\n'y':\"hwy\",\n'color':\"cyl\"\n}\n}]\n}\n}]\n};\n                    var plotContainer = document.getElementById(\"plot_output_ihZo7X\");\n                    window.letsPlotCall(function() {{\n                        LetsPlot.buildPlotFromProcessedSpecs(plotSpec, -1, -1, plotContainer);\n                    }});\n                })();    \n            </script>\n        "
     },
     "metadata": {},
     "output_type": "display_data"
    },
    {
     "data": {
      "text/html": "\n            <div id=\"plot_output_JmdktR\"></div>\n            <script type=\"text/javascript\">\n                (function() {\n                    var plotSpec={\n'kind':\"ggbunch\",\n'items':[{\n'x':0,\n'y':0,\n'width':600,\n'height':200,\n'feature_spec':{\n'data':{\n'Unnamed: 0':[1,2,3,4,5,6,7,8,9,10,11,12,13,14,15,16,17,18,19,20,21,22,23,24,25,26,27,28,29,30,31,32,33,34,35,36,37,38,39,40,41,42,43,44,45,46,47,48,49,50,51,52,53,54,55,56,57,58,59,60,61,62,63,64,65,66,67,68,69,70,71,72,73,74,75,76,77,78,79,80,81,82,83,84,85,86,87,88,89,90,91,92,93,94,95,96,97,98,99,100,101,102,103,104,105,106,107,108,109,110,111,112,113,114,115,116,117,118,119,120,121,122,123,124,125,126,127,128,129,130,131,132,133,134,135,136,137,138,139,140,141,142,143,144,145,146,147,148,149,150,151,152,153,154,155,156,157,158,159,160,161,162,163,164,165,166,167,168,169,170,171,172,173,174,175,176,177,178,179,180,181,182,183,184,185,186,187,188,189,190,191,192,193,194,195,196,197,198,199,200,201,202,203,204,205,206,207,208,209,210,211,212,213,214,215,216,217,218,219,220,221,222,223,224,225,226,227,228,229,230,231,232,233,234],\n'manufacturer':[\"audi\",\"audi\",\"audi\",\"audi\",\"audi\",\"audi\",\"audi\",\"audi\",\"audi\",\"audi\",\"audi\",\"audi\",\"audi\",\"audi\",\"audi\",\"audi\",\"audi\",\"audi\",\"chevrolet\",\"chevrolet\",\"chevrolet\",\"chevrolet\",\"chevrolet\",\"chevrolet\",\"chevrolet\",\"chevrolet\",\"chevrolet\",\"chevrolet\",\"chevrolet\",\"chevrolet\",\"chevrolet\",\"chevrolet\",\"chevrolet\",\"chevrolet\",\"chevrolet\",\"chevrolet\",\"chevrolet\",\"dodge\",\"dodge\",\"dodge\",\"dodge\",\"dodge\",\"dodge\",\"dodge\",\"dodge\",\"dodge\",\"dodge\",\"dodge\",\"dodge\",\"dodge\",\"dodge\",\"dodge\",\"dodge\",\"dodge\",\"dodge\",\"dodge\",\"dodge\",\"dodge\",\"dodge\",\"dodge\",\"dodge\",\"dodge\",\"dodge\",\"dodge\",\"dodge\",\"dodge\",\"dodge\",\"dodge\",\"dodge\",\"dodge\",\"dodge\",\"dodge\",\"dodge\",\"dodge\",\"ford\",\"ford\",\"ford\",\"ford\",\"ford\",\"ford\",\"ford\",\"ford\",\"ford\",\"ford\",\"ford\",\"ford\",\"ford\",\"ford\",\"ford\",\"ford\",\"ford\",\"ford\",\"ford\",\"ford\",\"ford\",\"ford\",\"ford\",\"ford\",\"ford\",\"honda\",\"honda\",\"honda\",\"honda\",\"honda\",\"honda\",\"honda\",\"honda\",\"honda\",\"hyundai\",\"hyundai\",\"hyundai\",\"hyundai\",\"hyundai\",\"hyundai\",\"hyundai\",\"hyundai\",\"hyundai\",\"hyundai\",\"hyundai\",\"hyundai\",\"hyundai\",\"hyundai\",\"jeep\",\"jeep\",\"jeep\",\"jeep\",\"jeep\",\"jeep\",\"jeep\",\"jeep\",\"land rover\",\"land rover\",\"land rover\",\"land rover\",\"lincoln\",\"lincoln\",\"lincoln\",\"mercury\",\"mercury\",\"mercury\",\"mercury\",\"nissan\",\"nissan\",\"nissan\",\"nissan\",\"nissan\",\"nissan\",\"nissan\",\"nissan\",\"nissan\",\"nissan\",\"nissan\",\"nissan\",\"nissan\",\"pontiac\",\"pontiac\",\"pontiac\",\"pontiac\",\"pontiac\",\"subaru\",\"subaru\",\"subaru\",\"subaru\",\"subaru\",\"subaru\",\"subaru\",\"subaru\",\"subaru\",\"subaru\",\"subaru\",\"subaru\",\"subaru\",\"subaru\",\"toyota\",\"toyota\",\"toyota\",\"toyota\",\"toyota\",\"toyota\",\"toyota\",\"toyota\",\"toyota\",\"toyota\",\"toyota\",\"toyota\",\"toyota\",\"toyota\",\"toyota\",\"toyota\",\"toyota\",\"toyota\",\"toyota\",\"toyota\",\"toyota\",\"toyota\",\"toyota\",\"toyota\",\"toyota\",\"toyota\",\"toyota\",\"toyota\",\"toyota\",\"toyota\",\"toyota\",\"toyota\",\"toyota\",\"toyota\",\"volkswagen\",\"volkswagen\",\"volkswagen\",\"volkswagen\",\"volkswagen\",\"volkswagen\",\"volkswagen\",\"volkswagen\",\"volkswagen\",\"volkswagen\",\"volkswagen\",\"volkswagen\",\"volkswagen\",\"volkswagen\",\"volkswagen\",\"volkswagen\",\"volkswagen\",\"volkswagen\",\"volkswagen\",\"volkswagen\",\"volkswagen\",\"volkswagen\",\"volkswagen\",\"volkswagen\",\"volkswagen\",\"volkswagen\",\"volkswagen\"],\n'model':[\"a4\",\"a4\",\"a4\",\"a4\",\"a4\",\"a4\",\"a4\",\"a4 quattro\",\"a4 quattro\",\"a4 quattro\",\"a4 quattro\",\"a4 quattro\",\"a4 quattro\",\"a4 quattro\",\"a4 quattro\",\"a6 quattro\",\"a6 quattro\",\"a6 quattro\",\"c1500 suburban 2wd\",\"c1500 suburban 2wd\",\"c1500 suburban 2wd\",\"c1500 suburban 2wd\",\"c1500 suburban 2wd\",\"corvette\",\"corvette\",\"corvette\",\"corvette\",\"corvette\",\"k1500 tahoe 4wd\",\"k1500 tahoe 4wd\",\"k1500 tahoe 4wd\",\"k1500 tahoe 4wd\",\"malibu\",\"malibu\",\"malibu\",\"malibu\",\"malibu\",\"caravan 2wd\",\"caravan 2wd\",\"caravan 2wd\",\"caravan 2wd\",\"caravan 2wd\",\"caravan 2wd\",\"caravan 2wd\",\"caravan 2wd\",\"caravan 2wd\",\"caravan 2wd\",\"caravan 2wd\",\"dakota pickup 4wd\",\"dakota pickup 4wd\",\"dakota pickup 4wd\",\"dakota pickup 4wd\",\"dakota pickup 4wd\",\"dakota pickup 4wd\",\"dakota pickup 4wd\",\"dakota pickup 4wd\",\"dakota pickup 4wd\",\"durango 4wd\",\"durango 4wd\",\"durango 4wd\",\"durango 4wd\",\"durango 4wd\",\"durango 4wd\",\"durango 4wd\",\"ram 1500 pickup 4wd\",\"ram 1500 pickup 4wd\",\"ram 1500 pickup 4wd\",\"ram 1500 pickup 4wd\",\"ram 1500 pickup 4wd\",\"ram 1500 pickup 4wd\",\"ram 1500 pickup 4wd\",\"ram 1500 pickup 4wd\",\"ram 1500 pickup 4wd\",\"ram 1500 pickup 4wd\",\"expedition 2wd\",\"expedition 2wd\",\"expedition 2wd\",\"explorer 4wd\",\"explorer 4wd\",\"explorer 4wd\",\"explorer 4wd\",\"explorer 4wd\",\"explorer 4wd\",\"f150 pickup 4wd\",\"f150 pickup 4wd\",\"f150 pickup 4wd\",\"f150 pickup 4wd\",\"f150 pickup 4wd\",\"f150 pickup 4wd\",\"f150 pickup 4wd\",\"mustang\",\"mustang\",\"mustang\",\"mustang\",\"mustang\",\"mustang\",\"mustang\",\"mustang\",\"mustang\",\"civic\",\"civic\",\"civic\",\"civic\",\"civic\",\"civic\",\"civic\",\"civic\",\"civic\",\"sonata\",\"sonata\",\"sonata\",\"sonata\",\"sonata\",\"sonata\",\"sonata\",\"tiburon\",\"tiburon\",\"tiburon\",\"tiburon\",\"tiburon\",\"tiburon\",\"tiburon\",\"grand cherokee 4wd\",\"grand cherokee 4wd\",\"grand cherokee 4wd\",\"grand cherokee 4wd\",\"grand cherokee 4wd\",\"grand cherokee 4wd\",\"grand cherokee 4wd\",\"grand cherokee 4wd\",\"range rover\",\"range rover\",\"range rover\",\"range rover\",\"navigator 2wd\",\"navigator 2wd\",\"navigator 2wd\",\"mountaineer 4wd\",\"mountaineer 4wd\",\"mountaineer 4wd\",\"mountaineer 4wd\",\"altima\",\"altima\",\"altima\",\"altima\",\"altima\",\"altima\",\"maxima\",\"maxima\",\"maxima\",\"pathfinder 4wd\",\"pathfinder 4wd\",\"pathfinder 4wd\",\"pathfinder 4wd\",\"grand prix\",\"grand prix\",\"grand prix\",\"grand prix\",\"grand prix\",\"forester awd\",\"forester awd\",\"forester awd\",\"forester awd\",\"forester awd\",\"forester awd\",\"impreza awd\",\"impreza awd\",\"impreza awd\",\"impreza awd\",\"impreza awd\",\"impreza awd\",\"impreza awd\",\"impreza awd\",\"4runner 4wd\",\"4runner 4wd\",\"4runner 4wd\",\"4runner 4wd\",\"4runner 4wd\",\"4runner 4wd\",\"camry\",\"camry\",\"camry\",\"camry\",\"camry\",\"camry\",\"camry\",\"camry solara\",\"camry solara\",\"camry solara\",\"camry solara\",\"camry solara\",\"camry solara\",\"camry solara\",\"corolla\",\"corolla\",\"corolla\",\"corolla\",\"corolla\",\"land cruiser wagon 4wd\",\"land cruiser wagon 4wd\",\"toyota tacoma 4wd\",\"toyota tacoma 4wd\",\"toyota tacoma 4wd\",\"toyota tacoma 4wd\",\"toyota tacoma 4wd\",\"toyota tacoma 4wd\",\"toyota tacoma 4wd\",\"gti\",\"gti\",\"gti\",\"gti\",\"gti\",\"jetta\",\"jetta\",\"jetta\",\"jetta\",\"jetta\",\"jetta\",\"jetta\",\"jetta\",\"jetta\",\"new beetle\",\"new beetle\",\"new beetle\",\"new beetle\",\"new beetle\",\"new beetle\",\"passat\",\"passat\",\"passat\",\"passat\",\"passat\",\"passat\",\"passat\"],\n'displ':[1.8,1.8,2.0,2.0,2.8,2.8,3.1,1.8,1.8,2.0,2.0,2.8,2.8,3.1,3.1,2.8,3.1,4.2,5.3,5.3,5.3,5.7,6.0,5.7,5.7,6.2,6.2,7.0,5.3,5.3,5.7,6.5,2.4,2.4,3.1,3.5,3.6,2.4,3.0,3.3,3.3,3.3,3.3,3.3,3.8,3.8,3.8,4.0,3.7,3.7,3.9,3.9,4.7,4.7,4.7,5.2,5.2,3.9,4.7,4.7,4.7,5.2,5.7,5.9,4.7,4.7,4.7,4.7,4.7,4.7,5.2,5.2,5.7,5.9,4.6,5.4,5.4,4.0,4.0,4.0,4.0,4.6,5.0,4.2,4.2,4.6,4.6,4.6,5.4,5.4,3.8,3.8,4.0,4.0,4.6,4.6,4.6,4.6,5.4,1.6,1.6,1.6,1.6,1.6,1.8,1.8,1.8,2.0,2.4,2.4,2.4,2.4,2.5,2.5,3.3,2.0,2.0,2.0,2.0,2.7,2.7,2.7,3.0,3.7,4.0,4.7,4.7,4.7,5.7,6.1,4.0,4.2,4.4,4.6,5.4,5.4,5.4,4.0,4.0,4.6,5.0,2.4,2.4,2.5,2.5,3.5,3.5,3.0,3.0,3.5,3.3,3.3,4.0,5.6,3.1,3.8,3.8,3.8,5.3,2.5,2.5,2.5,2.5,2.5,2.5,2.2,2.2,2.5,2.5,2.5,2.5,2.5,2.5,2.7,2.7,3.4,3.4,4.0,4.7,2.2,2.2,2.4,2.4,3.0,3.0,3.5,2.2,2.2,2.4,2.4,3.0,3.0,3.3,1.8,1.8,1.8,1.8,1.8,4.7,5.7,2.7,2.7,2.7,3.4,3.4,4.0,4.0,2.0,2.0,2.0,2.0,2.8,1.9,2.0,2.0,2.0,2.0,2.5,2.5,2.8,2.8,1.9,1.9,2.0,2.0,2.5,2.5,1.8,1.8,2.0,2.0,2.8,2.8,3.6],\n'year':[1999,1999,2008,2008,1999,1999,2008,1999,1999,2008,2008,1999,1999,2008,2008,1999,2008,2008,2008,2008,2008,1999,2008,1999,1999,2008,2008,2008,2008,2008,1999,1999,1999,2008,1999,2008,2008,1999,1999,1999,1999,2008,2008,2008,1999,1999,2008,2008,2008,2008,1999,1999,2008,2008,2008,1999,1999,1999,2008,2008,2008,1999,2008,1999,2008,2008,2008,2008,2008,2008,1999,1999,2008,1999,1999,1999,2008,1999,1999,1999,2008,2008,1999,1999,1999,1999,1999,2008,1999,2008,1999,1999,2008,2008,1999,1999,2008,2008,2008,1999,1999,1999,1999,1999,2008,2008,2008,2008,1999,1999,2008,2008,1999,1999,2008,1999,1999,2008,2008,2008,2008,2008,2008,2008,1999,1999,2008,2008,2008,2008,1999,2008,2008,1999,1999,1999,2008,1999,2008,2008,1999,1999,1999,2008,2008,2008,2008,1999,1999,2008,1999,1999,2008,2008,1999,1999,1999,2008,2008,1999,1999,2008,2008,2008,2008,1999,1999,1999,1999,2008,2008,2008,2008,1999,1999,1999,1999,2008,2008,1999,1999,2008,2008,1999,1999,2008,1999,1999,2008,2008,1999,1999,2008,1999,1999,1999,2008,2008,1999,2008,1999,1999,2008,1999,1999,2008,2008,1999,1999,2008,2008,1999,1999,1999,1999,2008,2008,2008,2008,1999,1999,1999,1999,1999,1999,2008,2008,1999,1999,2008,2008,1999,1999,2008],\n'cyl':[4,4,4,4,6,6,6,4,4,4,4,6,6,6,6,6,6,8,8,8,8,8,8,8,8,8,8,8,8,8,8,8,4,4,6,6,6,4,6,6,6,6,6,6,6,6,6,6,6,6,6,6,8,8,8,8,8,6,8,8,8,8,8,8,8,8,8,8,8,8,8,8,8,8,8,8,8,6,6,6,6,8,8,6,6,8,8,8,8,8,6,6,6,6,8,8,8,8,8,4,4,4,4,4,4,4,4,4,4,4,4,4,6,6,6,4,4,4,4,6,6,6,6,6,6,8,8,8,8,8,8,8,8,8,8,8,8,6,6,8,8,4,4,4,4,6,6,6,6,6,6,6,6,8,6,6,6,6,8,4,4,4,4,4,4,4,4,4,4,4,4,4,4,4,4,6,6,6,8,4,4,4,4,6,6,6,4,4,4,4,6,6,6,4,4,4,4,4,8,8,4,4,4,6,6,6,6,4,4,4,4,6,4,4,4,4,4,5,5,6,6,4,4,4,4,5,5,4,4,4,4,6,6,6],\n'trans':[\"auto(l5)\",\"manual(m5)\",\"manual(m6)\",\"auto(av)\",\"auto(l5)\",\"manual(m5)\",\"auto(av)\",\"manual(m5)\",\"auto(l5)\",\"manual(m6)\",\"auto(s6)\",\"auto(l5)\",\"manual(m5)\",\"auto(s6)\",\"manual(m6)\",\"auto(l5)\",\"auto(s6)\",\"auto(s6)\",\"auto(l4)\",\"auto(l4)\",\"auto(l4)\",\"auto(l4)\",\"auto(l4)\",\"manual(m6)\",\"auto(l4)\",\"manual(m6)\",\"auto(s6)\",\"manual(m6)\",\"auto(l4)\",\"auto(l4)\",\"auto(l4)\",\"auto(l4)\",\"auto(l4)\",\"auto(l4)\",\"auto(l4)\",\"auto(l4)\",\"auto(s6)\",\"auto(l3)\",\"auto(l4)\",\"auto(l4)\",\"auto(l4)\",\"auto(l4)\",\"auto(l4)\",\"auto(l4)\",\"auto(l4)\",\"auto(l4)\",\"auto(l6)\",\"auto(l6)\",\"manual(m6)\",\"auto(l4)\",\"auto(l4)\",\"manual(m5)\",\"auto(l5)\",\"auto(l5)\",\"auto(l5)\",\"manual(m5)\",\"auto(l4)\",\"auto(l4)\",\"auto(l5)\",\"auto(l5)\",\"auto(l5)\",\"auto(l4)\",\"auto(l5)\",\"auto(l4)\",\"manual(m6)\",\"auto(l5)\",\"auto(l5)\",\"auto(l5)\",\"manual(m6)\",\"manual(m6)\",\"auto(l4)\",\"manual(m5)\",\"auto(l5)\",\"auto(l4)\",\"auto(l4)\",\"auto(l4)\",\"auto(l6)\",\"auto(l5)\",\"manual(m5)\",\"auto(l5)\",\"auto(l5)\",\"auto(l6)\",\"auto(l4)\",\"auto(l4)\",\"manual(m5)\",\"manual(m5)\",\"auto(l4)\",\"auto(l4)\",\"auto(l4)\",\"auto(l4)\",\"manual(m5)\",\"auto(l4)\",\"manual(m5)\",\"auto(l5)\",\"auto(l4)\",\"manual(m5)\",\"manual(m5)\",\"auto(l5)\",\"manual(m6)\",\"manual(m5)\",\"auto(l4)\",\"manual(m5)\",\"manual(m5)\",\"auto(l4)\",\"manual(m5)\",\"auto(l5)\",\"auto(l5)\",\"manual(m6)\",\"auto(l4)\",\"manual(m5)\",\"auto(l4)\",\"manual(m5)\",\"auto(l4)\",\"manual(m5)\",\"auto(l5)\",\"auto(l4)\",\"manual(m5)\",\"manual(m5)\",\"auto(l4)\",\"auto(l4)\",\"manual(m6)\",\"manual(m5)\",\"auto(l5)\",\"auto(l5)\",\"auto(l4)\",\"auto(l4)\",\"auto(l5)\",\"auto(l5)\",\"auto(l5)\",\"auto(l5)\",\"auto(l4)\",\"auto(s6)\",\"auto(s6)\",\"auto(l4)\",\"auto(l4)\",\"auto(l4)\",\"auto(l6)\",\"auto(l5)\",\"auto(l5)\",\"auto(l6)\",\"auto(l4)\",\"manual(m5)\",\"auto(l4)\",\"auto(av)\",\"manual(m6)\",\"manual(m6)\",\"auto(av)\",\"auto(l4)\",\"manual(m5)\",\"auto(av)\",\"auto(l4)\",\"manual(m5)\",\"auto(l5)\",\"auto(s5)\",\"auto(l4)\",\"auto(l4)\",\"auto(l4)\",\"auto(l4)\",\"auto(s4)\",\"manual(m5)\",\"auto(l4)\",\"manual(m5)\",\"manual(m5)\",\"auto(l4)\",\"auto(l4)\",\"auto(l4)\",\"manual(m5)\",\"manual(m5)\",\"auto(l4)\",\"auto(s4)\",\"auto(s4)\",\"manual(m5)\",\"manual(m5)\",\"manual(m5)\",\"auto(l4)\",\"auto(l4)\",\"manual(m5)\",\"auto(l5)\",\"auto(l5)\",\"manual(m5)\",\"auto(l4)\",\"manual(m5)\",\"auto(l5)\",\"auto(l4)\",\"manual(m5)\",\"auto(s6)\",\"auto(l4)\",\"manual(m5)\",\"manual(m5)\",\"auto(s5)\",\"auto(l4)\",\"manual(m5)\",\"auto(s5)\",\"auto(l3)\",\"auto(l4)\",\"manual(m5)\",\"manual(m5)\",\"auto(l4)\",\"auto(l4)\",\"auto(s6)\",\"manual(m5)\",\"auto(l4)\",\"manual(m5)\",\"manual(m5)\",\"auto(l4)\",\"manual(m6)\",\"auto(l5)\",\"manual(m5)\",\"auto(l4)\",\"manual(m6)\",\"auto(s6)\",\"manual(m5)\",\"manual(m5)\",\"manual(m5)\",\"auto(l4)\",\"auto(s6)\",\"manual(m6)\",\"auto(s6)\",\"manual(m5)\",\"auto(l4)\",\"manual(m5)\",\"manual(m5)\",\"auto(l4)\",\"manual(m5)\",\"auto(l4)\",\"manual(m5)\",\"auto(s6)\",\"manual(m5)\",\"auto(l5)\",\"auto(s6)\",\"manual(m6)\",\"auto(l5)\",\"manual(m5)\",\"auto(s6)\"],\n'drv':[\"f\",\"f\",\"f\",\"f\",\"f\",\"f\",\"f\",\"4\",\"4\",\"4\",\"4\",\"4\",\"4\",\"4\",\"4\",\"4\",\"4\",\"4\",\"r\",\"r\",\"r\",\"r\",\"r\",\"r\",\"r\",\"r\",\"r\",\"r\",\"4\",\"4\",\"4\",\"4\",\"f\",\"f\",\"f\",\"f\",\"f\",\"f\",\"f\",\"f\",\"f\",\"f\",\"f\",\"f\",\"f\",\"f\",\"f\",\"f\",\"4\",\"4\",\"4\",\"4\",\"4\",\"4\",\"4\",\"4\",\"4\",\"4\",\"4\",\"4\",\"4\",\"4\",\"4\",\"4\",\"4\",\"4\",\"4\",\"4\",\"4\",\"4\",\"4\",\"4\",\"4\",\"4\",\"r\",\"r\",\"r\",\"4\",\"4\",\"4\",\"4\",\"4\",\"4\",\"4\",\"4\",\"4\",\"4\",\"4\",\"4\",\"4\",\"r\",\"r\",\"r\",\"r\",\"r\",\"r\",\"r\",\"r\",\"r\",\"f\",\"f\",\"f\",\"f\",\"f\",\"f\",\"f\",\"f\",\"f\",\"f\",\"f\",\"f\",\"f\",\"f\",\"f\",\"f\",\"f\",\"f\",\"f\",\"f\",\"f\",\"f\",\"f\",\"4\",\"4\",\"4\",\"4\",\"4\",\"4\",\"4\",\"4\",\"4\",\"4\",\"4\",\"4\",\"r\",\"r\",\"r\",\"4\",\"4\",\"4\",\"4\",\"f\",\"f\",\"f\",\"f\",\"f\",\"f\",\"f\",\"f\",\"f\",\"4\",\"4\",\"4\",\"4\",\"f\",\"f\",\"f\",\"f\",\"f\",\"4\",\"4\",\"4\",\"4\",\"4\",\"4\",\"4\",\"4\",\"4\",\"4\",\"4\",\"4\",\"4\",\"4\",\"4\",\"4\",\"4\",\"4\",\"4\",\"4\",\"f\",\"f\",\"f\",\"f\",\"f\",\"f\",\"f\",\"f\",\"f\",\"f\",\"f\",\"f\",\"f\",\"f\",\"f\",\"f\",\"f\",\"f\",\"f\",\"4\",\"4\",\"4\",\"4\",\"4\",\"4\",\"4\",\"4\",\"4\",\"f\",\"f\",\"f\",\"f\",\"f\",\"f\",\"f\",\"f\",\"f\",\"f\",\"f\",\"f\",\"f\",\"f\",\"f\",\"f\",\"f\",\"f\",\"f\",\"f\",\"f\",\"f\",\"f\",\"f\",\"f\",\"f\",\"f\"],\n'cty':[18,21,20,21,16,18,18,18,16,20,19,15,17,17,15,15,17,16,14,11,14,13,12,16,15,16,15,15,14,11,11,14,19,22,18,18,17,18,17,16,16,17,17,11,15,15,16,16,15,14,13,14,14,14,9,11,11,13,13,9,13,11,13,11,12,9,13,13,12,9,11,11,13,11,11,11,12,14,15,14,13,13,13,14,14,13,13,13,11,13,18,18,17,16,15,15,15,15,14,28,24,25,23,24,26,25,24,21,18,18,21,21,18,18,19,19,19,20,20,17,16,17,17,15,15,14,9,14,13,11,11,12,12,11,11,11,12,14,13,13,13,21,19,23,23,19,19,18,19,19,14,15,14,12,18,16,17,18,16,18,18,20,19,20,18,21,19,19,19,20,20,19,20,15,16,15,15,16,14,21,21,21,21,18,18,19,21,21,21,22,18,18,18,24,24,26,28,26,11,13,15,16,17,15,15,15,16,21,19,21,22,17,33,21,19,22,21,21,21,16,17,35,29,21,19,20,20,21,18,19,21,16,18,17],\n'hwy':[29,29,31,30,26,26,27,26,25,28,27,25,25,25,25,24,25,23,20,15,20,17,17,26,23,26,25,24,19,14,15,17,27,30,26,29,26,24,24,22,22,24,24,17,22,21,23,23,19,18,17,17,19,19,12,17,15,17,17,12,17,16,18,15,16,12,17,17,16,12,15,16,17,15,17,17,18,17,19,17,19,19,17,17,17,16,16,17,15,17,26,25,26,24,21,22,23,22,20,33,32,32,29,32,34,36,36,29,26,27,30,31,26,26,28,26,29,28,27,24,24,24,22,19,20,17,12,19,18,14,15,18,18,15,17,16,18,17,19,19,17,29,27,31,32,27,26,26,25,25,17,17,20,18,26,26,27,28,25,25,24,27,25,26,23,26,26,26,26,25,27,25,27,20,20,19,17,20,17,29,27,31,31,26,26,28,27,29,31,31,26,26,27,30,33,35,37,35,15,18,20,20,22,17,19,18,20,29,26,29,29,24,44,29,26,29,29,29,29,23,24,44,41,29,26,28,29,29,29,28,29,26,26,26],\n'fl':[\"p\",\"p\",\"p\",\"p\",\"p\",\"p\",\"p\",\"p\",\"p\",\"p\",\"p\",\"p\",\"p\",\"p\",\"p\",\"p\",\"p\",\"p\",\"r\",\"e\",\"r\",\"r\",\"r\",\"p\",\"p\",\"p\",\"p\",\"p\",\"r\",\"e\",\"r\",\"d\",\"r\",\"r\",\"r\",\"r\",\"r\",\"r\",\"r\",\"r\",\"r\",\"r\",\"r\",\"e\",\"r\",\"r\",\"r\",\"r\",\"r\",\"r\",\"r\",\"r\",\"r\",\"r\",\"e\",\"r\",\"r\",\"r\",\"r\",\"e\",\"r\",\"r\",\"r\",\"r\",\"r\",\"e\",\"r\",\"r\",\"r\",\"e\",\"r\",\"r\",\"r\",\"r\",\"r\",\"r\",\"r\",\"r\",\"r\",\"r\",\"r\",\"r\",\"r\",\"r\",\"r\",\"r\",\"r\",\"r\",\"r\",\"r\",\"r\",\"r\",\"r\",\"r\",\"r\",\"r\",\"r\",\"r\",\"p\",\"r\",\"r\",\"r\",\"p\",\"r\",\"r\",\"r\",\"c\",\"p\",\"r\",\"r\",\"r\",\"r\",\"r\",\"r\",\"r\",\"r\",\"r\",\"r\",\"r\",\"r\",\"r\",\"r\",\"d\",\"r\",\"r\",\"r\",\"e\",\"r\",\"r\",\"p\",\"p\",\"r\",\"r\",\"p\",\"r\",\"p\",\"r\",\"r\",\"r\",\"r\",\"r\",\"r\",\"r\",\"r\",\"r\",\"p\",\"p\",\"r\",\"r\",\"p\",\"r\",\"r\",\"p\",\"p\",\"r\",\"p\",\"r\",\"r\",\"p\",\"r\",\"r\",\"r\",\"p\",\"r\",\"p\",\"r\",\"r\",\"r\",\"r\",\"p\",\"r\",\"p\",\"r\",\"r\",\"r\",\"r\",\"r\",\"r\",\"r\",\"r\",\"r\",\"r\",\"r\",\"r\",\"r\",\"r\",\"r\",\"r\",\"r\",\"r\",\"r\",\"r\",\"r\",\"r\",\"r\",\"r\",\"r\",\"r\",\"r\",\"r\",\"r\",\"r\",\"r\",\"r\",\"r\",\"r\",\"r\",\"r\",\"r\",\"p\",\"p\",\"r\",\"d\",\"r\",\"r\",\"p\",\"p\",\"r\",\"r\",\"r\",\"r\",\"d\",\"d\",\"r\",\"r\",\"r\",\"r\",\"p\",\"p\",\"p\",\"p\",\"p\",\"p\",\"p\"],\n'class':[\"compact\",\"compact\",\"compact\",\"compact\",\"compact\",\"compact\",\"compact\",\"compact\",\"compact\",\"compact\",\"compact\",\"compact\",\"compact\",\"compact\",\"compact\",\"midsize\",\"midsize\",\"midsize\",\"suv\",\"suv\",\"suv\",\"suv\",\"suv\",\"2seater\",\"2seater\",\"2seater\",\"2seater\",\"2seater\",\"suv\",\"suv\",\"suv\",\"suv\",\"midsize\",\"midsize\",\"midsize\",\"midsize\",\"midsize\",\"minivan\",\"minivan\",\"minivan\",\"minivan\",\"minivan\",\"minivan\",\"minivan\",\"minivan\",\"minivan\",\"minivan\",\"minivan\",\"pickup\",\"pickup\",\"pickup\",\"pickup\",\"pickup\",\"pickup\",\"pickup\",\"pickup\",\"pickup\",\"suv\",\"suv\",\"suv\",\"suv\",\"suv\",\"suv\",\"suv\",\"pickup\",\"pickup\",\"pickup\",\"pickup\",\"pickup\",\"pickup\",\"pickup\",\"pickup\",\"pickup\",\"pickup\",\"suv\",\"suv\",\"suv\",\"suv\",\"suv\",\"suv\",\"suv\",\"suv\",\"suv\",\"pickup\",\"pickup\",\"pickup\",\"pickup\",\"pickup\",\"pickup\",\"pickup\",\"subcompact\",\"subcompact\",\"subcompact\",\"subcompact\",\"subcompact\",\"subcompact\",\"subcompact\",\"subcompact\",\"subcompact\",\"subcompact\",\"subcompact\",\"subcompact\",\"subcompact\",\"subcompact\",\"subcompact\",\"subcompact\",\"subcompact\",\"subcompact\",\"midsize\",\"midsize\",\"midsize\",\"midsize\",\"midsize\",\"midsize\",\"midsize\",\"subcompact\",\"subcompact\",\"subcompact\",\"subcompact\",\"subcompact\",\"subcompact\",\"subcompact\",\"suv\",\"suv\",\"suv\",\"suv\",\"suv\",\"suv\",\"suv\",\"suv\",\"suv\",\"suv\",\"suv\",\"suv\",\"suv\",\"suv\",\"suv\",\"suv\",\"suv\",\"suv\",\"suv\",\"compact\",\"compact\",\"midsize\",\"midsize\",\"midsize\",\"midsize\",\"midsize\",\"midsize\",\"midsize\",\"suv\",\"suv\",\"suv\",\"suv\",\"midsize\",\"midsize\",\"midsize\",\"midsize\",\"midsize\",\"suv\",\"suv\",\"suv\",\"suv\",\"suv\",\"suv\",\"subcompact\",\"subcompact\",\"subcompact\",\"subcompact\",\"compact\",\"compact\",\"compact\",\"compact\",\"suv\",\"suv\",\"suv\",\"suv\",\"suv\",\"suv\",\"midsize\",\"midsize\",\"midsize\",\"midsize\",\"midsize\",\"midsize\",\"midsize\",\"compact\",\"compact\",\"compact\",\"compact\",\"compact\",\"compact\",\"compact\",\"compact\",\"compact\",\"compact\",\"compact\",\"compact\",\"suv\",\"suv\",\"pickup\",\"pickup\",\"pickup\",\"pickup\",\"pickup\",\"pickup\",\"pickup\",\"compact\",\"compact\",\"compact\",\"compact\",\"compact\",\"compact\",\"compact\",\"compact\",\"compact\",\"compact\",\"compact\",\"compact\",\"compact\",\"compact\",\"subcompact\",\"subcompact\",\"subcompact\",\"subcompact\",\"subcompact\",\"subcompact\",\"midsize\",\"midsize\",\"midsize\",\"midsize\",\"midsize\",\"midsize\",\"midsize\"]\n},\n'kind':\"plot\",\n'scales':[],\n'layers':[{\n'geom':\"point\",\n'mapping':{\n'x':\"displ\",\n'y':\"hwy\",\n'color':\"cyl\"\n}\n}]\n}\n},{\n'x':600,\n'y':0,\n'width':600,\n'height':200,\n'feature_spec':{\n'data':{\n'Unnamed: 0':[1,2,3,4,5,6,7,8,9,10,11,12,13,14,15,16,17,18,19,20,21,22,23,24,25,26,27,28,29,30,31,32,33,34,35,36,37,38,39,40,41,42,43,44,45,46,47,48,49,50,51,52,53,54,55,56,57,58,59,60,61,62,63,64,65,66,67,68,69,70,71,72,73,74,75,76,77,78,79,80,81,82,83,84,85,86,87,88,89,90,91,92,93,94,95,96,97,98,99,100,101,102,103,104,105,106,107,108,109,110,111,112,113,114,115,116,117,118,119,120,121,122,123,124,125,126,127,128,129,130,131,132,133,134,135,136,137,138,139,140,141,142,143,144,145,146,147,148,149,150,151,152,153,154,155,156,157,158,159,160,161,162,163,164,165,166,167,168,169,170,171,172,173,174,175,176,177,178,179,180,181,182,183,184,185,186,187,188,189,190,191,192,193,194,195,196,197,198,199,200,201,202,203,204,205,206,207,208,209,210,211,212,213,214,215,216,217,218,219,220,221,222,223,224,225,226,227,228,229,230,231,232,233,234],\n'manufacturer':[\"audi\",\"audi\",\"audi\",\"audi\",\"audi\",\"audi\",\"audi\",\"audi\",\"audi\",\"audi\",\"audi\",\"audi\",\"audi\",\"audi\",\"audi\",\"audi\",\"audi\",\"audi\",\"chevrolet\",\"chevrolet\",\"chevrolet\",\"chevrolet\",\"chevrolet\",\"chevrolet\",\"chevrolet\",\"chevrolet\",\"chevrolet\",\"chevrolet\",\"chevrolet\",\"chevrolet\",\"chevrolet\",\"chevrolet\",\"chevrolet\",\"chevrolet\",\"chevrolet\",\"chevrolet\",\"chevrolet\",\"dodge\",\"dodge\",\"dodge\",\"dodge\",\"dodge\",\"dodge\",\"dodge\",\"dodge\",\"dodge\",\"dodge\",\"dodge\",\"dodge\",\"dodge\",\"dodge\",\"dodge\",\"dodge\",\"dodge\",\"dodge\",\"dodge\",\"dodge\",\"dodge\",\"dodge\",\"dodge\",\"dodge\",\"dodge\",\"dodge\",\"dodge\",\"dodge\",\"dodge\",\"dodge\",\"dodge\",\"dodge\",\"dodge\",\"dodge\",\"dodge\",\"dodge\",\"dodge\",\"ford\",\"ford\",\"ford\",\"ford\",\"ford\",\"ford\",\"ford\",\"ford\",\"ford\",\"ford\",\"ford\",\"ford\",\"ford\",\"ford\",\"ford\",\"ford\",\"ford\",\"ford\",\"ford\",\"ford\",\"ford\",\"ford\",\"ford\",\"ford\",\"ford\",\"honda\",\"honda\",\"honda\",\"honda\",\"honda\",\"honda\",\"honda\",\"honda\",\"honda\",\"hyundai\",\"hyundai\",\"hyundai\",\"hyundai\",\"hyundai\",\"hyundai\",\"hyundai\",\"hyundai\",\"hyundai\",\"hyundai\",\"hyundai\",\"hyundai\",\"hyundai\",\"hyundai\",\"jeep\",\"jeep\",\"jeep\",\"jeep\",\"jeep\",\"jeep\",\"jeep\",\"jeep\",\"land rover\",\"land rover\",\"land rover\",\"land rover\",\"lincoln\",\"lincoln\",\"lincoln\",\"mercury\",\"mercury\",\"mercury\",\"mercury\",\"nissan\",\"nissan\",\"nissan\",\"nissan\",\"nissan\",\"nissan\",\"nissan\",\"nissan\",\"nissan\",\"nissan\",\"nissan\",\"nissan\",\"nissan\",\"pontiac\",\"pontiac\",\"pontiac\",\"pontiac\",\"pontiac\",\"subaru\",\"subaru\",\"subaru\",\"subaru\",\"subaru\",\"subaru\",\"subaru\",\"subaru\",\"subaru\",\"subaru\",\"subaru\",\"subaru\",\"subaru\",\"subaru\",\"toyota\",\"toyota\",\"toyota\",\"toyota\",\"toyota\",\"toyota\",\"toyota\",\"toyota\",\"toyota\",\"toyota\",\"toyota\",\"toyota\",\"toyota\",\"toyota\",\"toyota\",\"toyota\",\"toyota\",\"toyota\",\"toyota\",\"toyota\",\"toyota\",\"toyota\",\"toyota\",\"toyota\",\"toyota\",\"toyota\",\"toyota\",\"toyota\",\"toyota\",\"toyota\",\"toyota\",\"toyota\",\"toyota\",\"toyota\",\"volkswagen\",\"volkswagen\",\"volkswagen\",\"volkswagen\",\"volkswagen\",\"volkswagen\",\"volkswagen\",\"volkswagen\",\"volkswagen\",\"volkswagen\",\"volkswagen\",\"volkswagen\",\"volkswagen\",\"volkswagen\",\"volkswagen\",\"volkswagen\",\"volkswagen\",\"volkswagen\",\"volkswagen\",\"volkswagen\",\"volkswagen\",\"volkswagen\",\"volkswagen\",\"volkswagen\",\"volkswagen\",\"volkswagen\",\"volkswagen\"],\n'model':[\"a4\",\"a4\",\"a4\",\"a4\",\"a4\",\"a4\",\"a4\",\"a4 quattro\",\"a4 quattro\",\"a4 quattro\",\"a4 quattro\",\"a4 quattro\",\"a4 quattro\",\"a4 quattro\",\"a4 quattro\",\"a6 quattro\",\"a6 quattro\",\"a6 quattro\",\"c1500 suburban 2wd\",\"c1500 suburban 2wd\",\"c1500 suburban 2wd\",\"c1500 suburban 2wd\",\"c1500 suburban 2wd\",\"corvette\",\"corvette\",\"corvette\",\"corvette\",\"corvette\",\"k1500 tahoe 4wd\",\"k1500 tahoe 4wd\",\"k1500 tahoe 4wd\",\"k1500 tahoe 4wd\",\"malibu\",\"malibu\",\"malibu\",\"malibu\",\"malibu\",\"caravan 2wd\",\"caravan 2wd\",\"caravan 2wd\",\"caravan 2wd\",\"caravan 2wd\",\"caravan 2wd\",\"caravan 2wd\",\"caravan 2wd\",\"caravan 2wd\",\"caravan 2wd\",\"caravan 2wd\",\"dakota pickup 4wd\",\"dakota pickup 4wd\",\"dakota pickup 4wd\",\"dakota pickup 4wd\",\"dakota pickup 4wd\",\"dakota pickup 4wd\",\"dakota pickup 4wd\",\"dakota pickup 4wd\",\"dakota pickup 4wd\",\"durango 4wd\",\"durango 4wd\",\"durango 4wd\",\"durango 4wd\",\"durango 4wd\",\"durango 4wd\",\"durango 4wd\",\"ram 1500 pickup 4wd\",\"ram 1500 pickup 4wd\",\"ram 1500 pickup 4wd\",\"ram 1500 pickup 4wd\",\"ram 1500 pickup 4wd\",\"ram 1500 pickup 4wd\",\"ram 1500 pickup 4wd\",\"ram 1500 pickup 4wd\",\"ram 1500 pickup 4wd\",\"ram 1500 pickup 4wd\",\"expedition 2wd\",\"expedition 2wd\",\"expedition 2wd\",\"explorer 4wd\",\"explorer 4wd\",\"explorer 4wd\",\"explorer 4wd\",\"explorer 4wd\",\"explorer 4wd\",\"f150 pickup 4wd\",\"f150 pickup 4wd\",\"f150 pickup 4wd\",\"f150 pickup 4wd\",\"f150 pickup 4wd\",\"f150 pickup 4wd\",\"f150 pickup 4wd\",\"mustang\",\"mustang\",\"mustang\",\"mustang\",\"mustang\",\"mustang\",\"mustang\",\"mustang\",\"mustang\",\"civic\",\"civic\",\"civic\",\"civic\",\"civic\",\"civic\",\"civic\",\"civic\",\"civic\",\"sonata\",\"sonata\",\"sonata\",\"sonata\",\"sonata\",\"sonata\",\"sonata\",\"tiburon\",\"tiburon\",\"tiburon\",\"tiburon\",\"tiburon\",\"tiburon\",\"tiburon\",\"grand cherokee 4wd\",\"grand cherokee 4wd\",\"grand cherokee 4wd\",\"grand cherokee 4wd\",\"grand cherokee 4wd\",\"grand cherokee 4wd\",\"grand cherokee 4wd\",\"grand cherokee 4wd\",\"range rover\",\"range rover\",\"range rover\",\"range rover\",\"navigator 2wd\",\"navigator 2wd\",\"navigator 2wd\",\"mountaineer 4wd\",\"mountaineer 4wd\",\"mountaineer 4wd\",\"mountaineer 4wd\",\"altima\",\"altima\",\"altima\",\"altima\",\"altima\",\"altima\",\"maxima\",\"maxima\",\"maxima\",\"pathfinder 4wd\",\"pathfinder 4wd\",\"pathfinder 4wd\",\"pathfinder 4wd\",\"grand prix\",\"grand prix\",\"grand prix\",\"grand prix\",\"grand prix\",\"forester awd\",\"forester awd\",\"forester awd\",\"forester awd\",\"forester awd\",\"forester awd\",\"impreza awd\",\"impreza awd\",\"impreza awd\",\"impreza awd\",\"impreza awd\",\"impreza awd\",\"impreza awd\",\"impreza awd\",\"4runner 4wd\",\"4runner 4wd\",\"4runner 4wd\",\"4runner 4wd\",\"4runner 4wd\",\"4runner 4wd\",\"camry\",\"camry\",\"camry\",\"camry\",\"camry\",\"camry\",\"camry\",\"camry solara\",\"camry solara\",\"camry solara\",\"camry solara\",\"camry solara\",\"camry solara\",\"camry solara\",\"corolla\",\"corolla\",\"corolla\",\"corolla\",\"corolla\",\"land cruiser wagon 4wd\",\"land cruiser wagon 4wd\",\"toyota tacoma 4wd\",\"toyota tacoma 4wd\",\"toyota tacoma 4wd\",\"toyota tacoma 4wd\",\"toyota tacoma 4wd\",\"toyota tacoma 4wd\",\"toyota tacoma 4wd\",\"gti\",\"gti\",\"gti\",\"gti\",\"gti\",\"jetta\",\"jetta\",\"jetta\",\"jetta\",\"jetta\",\"jetta\",\"jetta\",\"jetta\",\"jetta\",\"new beetle\",\"new beetle\",\"new beetle\",\"new beetle\",\"new beetle\",\"new beetle\",\"passat\",\"passat\",\"passat\",\"passat\",\"passat\",\"passat\",\"passat\"],\n'displ':[1.8,1.8,2.0,2.0,2.8,2.8,3.1,1.8,1.8,2.0,2.0,2.8,2.8,3.1,3.1,2.8,3.1,4.2,5.3,5.3,5.3,5.7,6.0,5.7,5.7,6.2,6.2,7.0,5.3,5.3,5.7,6.5,2.4,2.4,3.1,3.5,3.6,2.4,3.0,3.3,3.3,3.3,3.3,3.3,3.8,3.8,3.8,4.0,3.7,3.7,3.9,3.9,4.7,4.7,4.7,5.2,5.2,3.9,4.7,4.7,4.7,5.2,5.7,5.9,4.7,4.7,4.7,4.7,4.7,4.7,5.2,5.2,5.7,5.9,4.6,5.4,5.4,4.0,4.0,4.0,4.0,4.6,5.0,4.2,4.2,4.6,4.6,4.6,5.4,5.4,3.8,3.8,4.0,4.0,4.6,4.6,4.6,4.6,5.4,1.6,1.6,1.6,1.6,1.6,1.8,1.8,1.8,2.0,2.4,2.4,2.4,2.4,2.5,2.5,3.3,2.0,2.0,2.0,2.0,2.7,2.7,2.7,3.0,3.7,4.0,4.7,4.7,4.7,5.7,6.1,4.0,4.2,4.4,4.6,5.4,5.4,5.4,4.0,4.0,4.6,5.0,2.4,2.4,2.5,2.5,3.5,3.5,3.0,3.0,3.5,3.3,3.3,4.0,5.6,3.1,3.8,3.8,3.8,5.3,2.5,2.5,2.5,2.5,2.5,2.5,2.2,2.2,2.5,2.5,2.5,2.5,2.5,2.5,2.7,2.7,3.4,3.4,4.0,4.7,2.2,2.2,2.4,2.4,3.0,3.0,3.5,2.2,2.2,2.4,2.4,3.0,3.0,3.3,1.8,1.8,1.8,1.8,1.8,4.7,5.7,2.7,2.7,2.7,3.4,3.4,4.0,4.0,2.0,2.0,2.0,2.0,2.8,1.9,2.0,2.0,2.0,2.0,2.5,2.5,2.8,2.8,1.9,1.9,2.0,2.0,2.5,2.5,1.8,1.8,2.0,2.0,2.8,2.8,3.6],\n'year':[1999,1999,2008,2008,1999,1999,2008,1999,1999,2008,2008,1999,1999,2008,2008,1999,2008,2008,2008,2008,2008,1999,2008,1999,1999,2008,2008,2008,2008,2008,1999,1999,1999,2008,1999,2008,2008,1999,1999,1999,1999,2008,2008,2008,1999,1999,2008,2008,2008,2008,1999,1999,2008,2008,2008,1999,1999,1999,2008,2008,2008,1999,2008,1999,2008,2008,2008,2008,2008,2008,1999,1999,2008,1999,1999,1999,2008,1999,1999,1999,2008,2008,1999,1999,1999,1999,1999,2008,1999,2008,1999,1999,2008,2008,1999,1999,2008,2008,2008,1999,1999,1999,1999,1999,2008,2008,2008,2008,1999,1999,2008,2008,1999,1999,2008,1999,1999,2008,2008,2008,2008,2008,2008,2008,1999,1999,2008,2008,2008,2008,1999,2008,2008,1999,1999,1999,2008,1999,2008,2008,1999,1999,1999,2008,2008,2008,2008,1999,1999,2008,1999,1999,2008,2008,1999,1999,1999,2008,2008,1999,1999,2008,2008,2008,2008,1999,1999,1999,1999,2008,2008,2008,2008,1999,1999,1999,1999,2008,2008,1999,1999,2008,2008,1999,1999,2008,1999,1999,2008,2008,1999,1999,2008,1999,1999,1999,2008,2008,1999,2008,1999,1999,2008,1999,1999,2008,2008,1999,1999,2008,2008,1999,1999,1999,1999,2008,2008,2008,2008,1999,1999,1999,1999,1999,1999,2008,2008,1999,1999,2008,2008,1999,1999,2008],\n'cyl':[4,4,4,4,6,6,6,4,4,4,4,6,6,6,6,6,6,8,8,8,8,8,8,8,8,8,8,8,8,8,8,8,4,4,6,6,6,4,6,6,6,6,6,6,6,6,6,6,6,6,6,6,8,8,8,8,8,6,8,8,8,8,8,8,8,8,8,8,8,8,8,8,8,8,8,8,8,6,6,6,6,8,8,6,6,8,8,8,8,8,6,6,6,6,8,8,8,8,8,4,4,4,4,4,4,4,4,4,4,4,4,4,6,6,6,4,4,4,4,6,6,6,6,6,6,8,8,8,8,8,8,8,8,8,8,8,8,6,6,8,8,4,4,4,4,6,6,6,6,6,6,6,6,8,6,6,6,6,8,4,4,4,4,4,4,4,4,4,4,4,4,4,4,4,4,6,6,6,8,4,4,4,4,6,6,6,4,4,4,4,6,6,6,4,4,4,4,4,8,8,4,4,4,6,6,6,6,4,4,4,4,6,4,4,4,4,4,5,5,6,6,4,4,4,4,5,5,4,4,4,4,6,6,6],\n'trans':[\"auto(l5)\",\"manual(m5)\",\"manual(m6)\",\"auto(av)\",\"auto(l5)\",\"manual(m5)\",\"auto(av)\",\"manual(m5)\",\"auto(l5)\",\"manual(m6)\",\"auto(s6)\",\"auto(l5)\",\"manual(m5)\",\"auto(s6)\",\"manual(m6)\",\"auto(l5)\",\"auto(s6)\",\"auto(s6)\",\"auto(l4)\",\"auto(l4)\",\"auto(l4)\",\"auto(l4)\",\"auto(l4)\",\"manual(m6)\",\"auto(l4)\",\"manual(m6)\",\"auto(s6)\",\"manual(m6)\",\"auto(l4)\",\"auto(l4)\",\"auto(l4)\",\"auto(l4)\",\"auto(l4)\",\"auto(l4)\",\"auto(l4)\",\"auto(l4)\",\"auto(s6)\",\"auto(l3)\",\"auto(l4)\",\"auto(l4)\",\"auto(l4)\",\"auto(l4)\",\"auto(l4)\",\"auto(l4)\",\"auto(l4)\",\"auto(l4)\",\"auto(l6)\",\"auto(l6)\",\"manual(m6)\",\"auto(l4)\",\"auto(l4)\",\"manual(m5)\",\"auto(l5)\",\"auto(l5)\",\"auto(l5)\",\"manual(m5)\",\"auto(l4)\",\"auto(l4)\",\"auto(l5)\",\"auto(l5)\",\"auto(l5)\",\"auto(l4)\",\"auto(l5)\",\"auto(l4)\",\"manual(m6)\",\"auto(l5)\",\"auto(l5)\",\"auto(l5)\",\"manual(m6)\",\"manual(m6)\",\"auto(l4)\",\"manual(m5)\",\"auto(l5)\",\"auto(l4)\",\"auto(l4)\",\"auto(l4)\",\"auto(l6)\",\"auto(l5)\",\"manual(m5)\",\"auto(l5)\",\"auto(l5)\",\"auto(l6)\",\"auto(l4)\",\"auto(l4)\",\"manual(m5)\",\"manual(m5)\",\"auto(l4)\",\"auto(l4)\",\"auto(l4)\",\"auto(l4)\",\"manual(m5)\",\"auto(l4)\",\"manual(m5)\",\"auto(l5)\",\"auto(l4)\",\"manual(m5)\",\"manual(m5)\",\"auto(l5)\",\"manual(m6)\",\"manual(m5)\",\"auto(l4)\",\"manual(m5)\",\"manual(m5)\",\"auto(l4)\",\"manual(m5)\",\"auto(l5)\",\"auto(l5)\",\"manual(m6)\",\"auto(l4)\",\"manual(m5)\",\"auto(l4)\",\"manual(m5)\",\"auto(l4)\",\"manual(m5)\",\"auto(l5)\",\"auto(l4)\",\"manual(m5)\",\"manual(m5)\",\"auto(l4)\",\"auto(l4)\",\"manual(m6)\",\"manual(m5)\",\"auto(l5)\",\"auto(l5)\",\"auto(l4)\",\"auto(l4)\",\"auto(l5)\",\"auto(l5)\",\"auto(l5)\",\"auto(l5)\",\"auto(l4)\",\"auto(s6)\",\"auto(s6)\",\"auto(l4)\",\"auto(l4)\",\"auto(l4)\",\"auto(l6)\",\"auto(l5)\",\"auto(l5)\",\"auto(l6)\",\"auto(l4)\",\"manual(m5)\",\"auto(l4)\",\"auto(av)\",\"manual(m6)\",\"manual(m6)\",\"auto(av)\",\"auto(l4)\",\"manual(m5)\",\"auto(av)\",\"auto(l4)\",\"manual(m5)\",\"auto(l5)\",\"auto(s5)\",\"auto(l4)\",\"auto(l4)\",\"auto(l4)\",\"auto(l4)\",\"auto(s4)\",\"manual(m5)\",\"auto(l4)\",\"manual(m5)\",\"manual(m5)\",\"auto(l4)\",\"auto(l4)\",\"auto(l4)\",\"manual(m5)\",\"manual(m5)\",\"auto(l4)\",\"auto(s4)\",\"auto(s4)\",\"manual(m5)\",\"manual(m5)\",\"manual(m5)\",\"auto(l4)\",\"auto(l4)\",\"manual(m5)\",\"auto(l5)\",\"auto(l5)\",\"manual(m5)\",\"auto(l4)\",\"manual(m5)\",\"auto(l5)\",\"auto(l4)\",\"manual(m5)\",\"auto(s6)\",\"auto(l4)\",\"manual(m5)\",\"manual(m5)\",\"auto(s5)\",\"auto(l4)\",\"manual(m5)\",\"auto(s5)\",\"auto(l3)\",\"auto(l4)\",\"manual(m5)\",\"manual(m5)\",\"auto(l4)\",\"auto(l4)\",\"auto(s6)\",\"manual(m5)\",\"auto(l4)\",\"manual(m5)\",\"manual(m5)\",\"auto(l4)\",\"manual(m6)\",\"auto(l5)\",\"manual(m5)\",\"auto(l4)\",\"manual(m6)\",\"auto(s6)\",\"manual(m5)\",\"manual(m5)\",\"manual(m5)\",\"auto(l4)\",\"auto(s6)\",\"manual(m6)\",\"auto(s6)\",\"manual(m5)\",\"auto(l4)\",\"manual(m5)\",\"manual(m5)\",\"auto(l4)\",\"manual(m5)\",\"auto(l4)\",\"manual(m5)\",\"auto(s6)\",\"manual(m5)\",\"auto(l5)\",\"auto(s6)\",\"manual(m6)\",\"auto(l5)\",\"manual(m5)\",\"auto(s6)\"],\n'drv':[\"f\",\"f\",\"f\",\"f\",\"f\",\"f\",\"f\",\"4\",\"4\",\"4\",\"4\",\"4\",\"4\",\"4\",\"4\",\"4\",\"4\",\"4\",\"r\",\"r\",\"r\",\"r\",\"r\",\"r\",\"r\",\"r\",\"r\",\"r\",\"4\",\"4\",\"4\",\"4\",\"f\",\"f\",\"f\",\"f\",\"f\",\"f\",\"f\",\"f\",\"f\",\"f\",\"f\",\"f\",\"f\",\"f\",\"f\",\"f\",\"4\",\"4\",\"4\",\"4\",\"4\",\"4\",\"4\",\"4\",\"4\",\"4\",\"4\",\"4\",\"4\",\"4\",\"4\",\"4\",\"4\",\"4\",\"4\",\"4\",\"4\",\"4\",\"4\",\"4\",\"4\",\"4\",\"r\",\"r\",\"r\",\"4\",\"4\",\"4\",\"4\",\"4\",\"4\",\"4\",\"4\",\"4\",\"4\",\"4\",\"4\",\"4\",\"r\",\"r\",\"r\",\"r\",\"r\",\"r\",\"r\",\"r\",\"r\",\"f\",\"f\",\"f\",\"f\",\"f\",\"f\",\"f\",\"f\",\"f\",\"f\",\"f\",\"f\",\"f\",\"f\",\"f\",\"f\",\"f\",\"f\",\"f\",\"f\",\"f\",\"f\",\"f\",\"4\",\"4\",\"4\",\"4\",\"4\",\"4\",\"4\",\"4\",\"4\",\"4\",\"4\",\"4\",\"r\",\"r\",\"r\",\"4\",\"4\",\"4\",\"4\",\"f\",\"f\",\"f\",\"f\",\"f\",\"f\",\"f\",\"f\",\"f\",\"4\",\"4\",\"4\",\"4\",\"f\",\"f\",\"f\",\"f\",\"f\",\"4\",\"4\",\"4\",\"4\",\"4\",\"4\",\"4\",\"4\",\"4\",\"4\",\"4\",\"4\",\"4\",\"4\",\"4\",\"4\",\"4\",\"4\",\"4\",\"4\",\"f\",\"f\",\"f\",\"f\",\"f\",\"f\",\"f\",\"f\",\"f\",\"f\",\"f\",\"f\",\"f\",\"f\",\"f\",\"f\",\"f\",\"f\",\"f\",\"4\",\"4\",\"4\",\"4\",\"4\",\"4\",\"4\",\"4\",\"4\",\"f\",\"f\",\"f\",\"f\",\"f\",\"f\",\"f\",\"f\",\"f\",\"f\",\"f\",\"f\",\"f\",\"f\",\"f\",\"f\",\"f\",\"f\",\"f\",\"f\",\"f\",\"f\",\"f\",\"f\",\"f\",\"f\",\"f\"],\n'cty':[18,21,20,21,16,18,18,18,16,20,19,15,17,17,15,15,17,16,14,11,14,13,12,16,15,16,15,15,14,11,11,14,19,22,18,18,17,18,17,16,16,17,17,11,15,15,16,16,15,14,13,14,14,14,9,11,11,13,13,9,13,11,13,11,12,9,13,13,12,9,11,11,13,11,11,11,12,14,15,14,13,13,13,14,14,13,13,13,11,13,18,18,17,16,15,15,15,15,14,28,24,25,23,24,26,25,24,21,18,18,21,21,18,18,19,19,19,20,20,17,16,17,17,15,15,14,9,14,13,11,11,12,12,11,11,11,12,14,13,13,13,21,19,23,23,19,19,18,19,19,14,15,14,12,18,16,17,18,16,18,18,20,19,20,18,21,19,19,19,20,20,19,20,15,16,15,15,16,14,21,21,21,21,18,18,19,21,21,21,22,18,18,18,24,24,26,28,26,11,13,15,16,17,15,15,15,16,21,19,21,22,17,33,21,19,22,21,21,21,16,17,35,29,21,19,20,20,21,18,19,21,16,18,17],\n'hwy':[29,29,31,30,26,26,27,26,25,28,27,25,25,25,25,24,25,23,20,15,20,17,17,26,23,26,25,24,19,14,15,17,27,30,26,29,26,24,24,22,22,24,24,17,22,21,23,23,19,18,17,17,19,19,12,17,15,17,17,12,17,16,18,15,16,12,17,17,16,12,15,16,17,15,17,17,18,17,19,17,19,19,17,17,17,16,16,17,15,17,26,25,26,24,21,22,23,22,20,33,32,32,29,32,34,36,36,29,26,27,30,31,26,26,28,26,29,28,27,24,24,24,22,19,20,17,12,19,18,14,15,18,18,15,17,16,18,17,19,19,17,29,27,31,32,27,26,26,25,25,17,17,20,18,26,26,27,28,25,25,24,27,25,26,23,26,26,26,26,25,27,25,27,20,20,19,17,20,17,29,27,31,31,26,26,28,27,29,31,31,26,26,27,30,33,35,37,35,15,18,20,20,22,17,19,18,20,29,26,29,29,24,44,29,26,29,29,29,29,23,24,44,41,29,26,28,29,29,29,28,29,26,26,26],\n'fl':[\"p\",\"p\",\"p\",\"p\",\"p\",\"p\",\"p\",\"p\",\"p\",\"p\",\"p\",\"p\",\"p\",\"p\",\"p\",\"p\",\"p\",\"p\",\"r\",\"e\",\"r\",\"r\",\"r\",\"p\",\"p\",\"p\",\"p\",\"p\",\"r\",\"e\",\"r\",\"d\",\"r\",\"r\",\"r\",\"r\",\"r\",\"r\",\"r\",\"r\",\"r\",\"r\",\"r\",\"e\",\"r\",\"r\",\"r\",\"r\",\"r\",\"r\",\"r\",\"r\",\"r\",\"r\",\"e\",\"r\",\"r\",\"r\",\"r\",\"e\",\"r\",\"r\",\"r\",\"r\",\"r\",\"e\",\"r\",\"r\",\"r\",\"e\",\"r\",\"r\",\"r\",\"r\",\"r\",\"r\",\"r\",\"r\",\"r\",\"r\",\"r\",\"r\",\"r\",\"r\",\"r\",\"r\",\"r\",\"r\",\"r\",\"r\",\"r\",\"r\",\"r\",\"r\",\"r\",\"r\",\"r\",\"r\",\"p\",\"r\",\"r\",\"r\",\"p\",\"r\",\"r\",\"r\",\"c\",\"p\",\"r\",\"r\",\"r\",\"r\",\"r\",\"r\",\"r\",\"r\",\"r\",\"r\",\"r\",\"r\",\"r\",\"r\",\"d\",\"r\",\"r\",\"r\",\"e\",\"r\",\"r\",\"p\",\"p\",\"r\",\"r\",\"p\",\"r\",\"p\",\"r\",\"r\",\"r\",\"r\",\"r\",\"r\",\"r\",\"r\",\"r\",\"p\",\"p\",\"r\",\"r\",\"p\",\"r\",\"r\",\"p\",\"p\",\"r\",\"p\",\"r\",\"r\",\"p\",\"r\",\"r\",\"r\",\"p\",\"r\",\"p\",\"r\",\"r\",\"r\",\"r\",\"p\",\"r\",\"p\",\"r\",\"r\",\"r\",\"r\",\"r\",\"r\",\"r\",\"r\",\"r\",\"r\",\"r\",\"r\",\"r\",\"r\",\"r\",\"r\",\"r\",\"r\",\"r\",\"r\",\"r\",\"r\",\"r\",\"r\",\"r\",\"r\",\"r\",\"r\",\"r\",\"r\",\"r\",\"r\",\"r\",\"r\",\"r\",\"r\",\"r\",\"p\",\"p\",\"r\",\"d\",\"r\",\"r\",\"p\",\"p\",\"r\",\"r\",\"r\",\"r\",\"d\",\"d\",\"r\",\"r\",\"r\",\"r\",\"p\",\"p\",\"p\",\"p\",\"p\",\"p\",\"p\"],\n'class':[\"compact\",\"compact\",\"compact\",\"compact\",\"compact\",\"compact\",\"compact\",\"compact\",\"compact\",\"compact\",\"compact\",\"compact\",\"compact\",\"compact\",\"compact\",\"midsize\",\"midsize\",\"midsize\",\"suv\",\"suv\",\"suv\",\"suv\",\"suv\",\"2seater\",\"2seater\",\"2seater\",\"2seater\",\"2seater\",\"suv\",\"suv\",\"suv\",\"suv\",\"midsize\",\"midsize\",\"midsize\",\"midsize\",\"midsize\",\"minivan\",\"minivan\",\"minivan\",\"minivan\",\"minivan\",\"minivan\",\"minivan\",\"minivan\",\"minivan\",\"minivan\",\"minivan\",\"pickup\",\"pickup\",\"pickup\",\"pickup\",\"pickup\",\"pickup\",\"pickup\",\"pickup\",\"pickup\",\"suv\",\"suv\",\"suv\",\"suv\",\"suv\",\"suv\",\"suv\",\"pickup\",\"pickup\",\"pickup\",\"pickup\",\"pickup\",\"pickup\",\"pickup\",\"pickup\",\"pickup\",\"pickup\",\"suv\",\"suv\",\"suv\",\"suv\",\"suv\",\"suv\",\"suv\",\"suv\",\"suv\",\"pickup\",\"pickup\",\"pickup\",\"pickup\",\"pickup\",\"pickup\",\"pickup\",\"subcompact\",\"subcompact\",\"subcompact\",\"subcompact\",\"subcompact\",\"subcompact\",\"subcompact\",\"subcompact\",\"subcompact\",\"subcompact\",\"subcompact\",\"subcompact\",\"subcompact\",\"subcompact\",\"subcompact\",\"subcompact\",\"subcompact\",\"subcompact\",\"midsize\",\"midsize\",\"midsize\",\"midsize\",\"midsize\",\"midsize\",\"midsize\",\"subcompact\",\"subcompact\",\"subcompact\",\"subcompact\",\"subcompact\",\"subcompact\",\"subcompact\",\"suv\",\"suv\",\"suv\",\"suv\",\"suv\",\"suv\",\"suv\",\"suv\",\"suv\",\"suv\",\"suv\",\"suv\",\"suv\",\"suv\",\"suv\",\"suv\",\"suv\",\"suv\",\"suv\",\"compact\",\"compact\",\"midsize\",\"midsize\",\"midsize\",\"midsize\",\"midsize\",\"midsize\",\"midsize\",\"suv\",\"suv\",\"suv\",\"suv\",\"midsize\",\"midsize\",\"midsize\",\"midsize\",\"midsize\",\"suv\",\"suv\",\"suv\",\"suv\",\"suv\",\"suv\",\"subcompact\",\"subcompact\",\"subcompact\",\"subcompact\",\"compact\",\"compact\",\"compact\",\"compact\",\"suv\",\"suv\",\"suv\",\"suv\",\"suv\",\"suv\",\"midsize\",\"midsize\",\"midsize\",\"midsize\",\"midsize\",\"midsize\",\"midsize\",\"compact\",\"compact\",\"compact\",\"compact\",\"compact\",\"compact\",\"compact\",\"compact\",\"compact\",\"compact\",\"compact\",\"compact\",\"suv\",\"suv\",\"pickup\",\"pickup\",\"pickup\",\"pickup\",\"pickup\",\"pickup\",\"pickup\",\"compact\",\"compact\",\"compact\",\"compact\",\"compact\",\"compact\",\"compact\",\"compact\",\"compact\",\"compact\",\"compact\",\"compact\",\"compact\",\"compact\",\"subcompact\",\"subcompact\",\"subcompact\",\"subcompact\",\"subcompact\",\"subcompact\",\"midsize\",\"midsize\",\"midsize\",\"midsize\",\"midsize\",\"midsize\",\"midsize\"]\n},\n'kind':\"plot\",\n'scales':[],\n'layers':[{\n'geom':\"area\",\n'mapping':{\n'x':\"displ\",\n'y':\"hwy\",\n'color':\"drv\"\n}\n}]\n}\n}]\n};\n                    var plotContainer = document.getElementById(\"plot_output_JmdktR\");\n                    window.letsPlotCall(function() {{\n                        LetsPlot.buildPlotFromProcessedSpecs(plotSpec, -1, -1, plotContainer);\n                    }});\n                })();    \n            </script>\n        "
     },
     "metadata": {},
     "output_type": "display_data"
    }
   ],
   "source": [
    "bunch = GGBunch()\n",
    "# Point chart\n",
    "p_point = p + geom_point(aes('displ', 'hwy', color='cyl'))\n",
    "bunch.add_plot(p_point, 0, 0, 600, 200)\n",
    "bunch.show()\n",
    "#Area chart\n",
    "p_area = p + geom_area(aes('displ', 'hwy', color='drv'))\n",
    "bunch.add_plot(p_area, 600, 0, 600, 200)\n",
    "bunch.show()"
   ],
   "metadata": {
    "collapsed": false,
    "pycharm": {
     "name": "#%%\n",
     "is_executing": false
    }
   }
  },
  {
   "cell_type": "code",
   "execution_count": 7,
   "outputs": [],
   "source": [
    "\n"
   ],
   "metadata": {
    "collapsed": false,
    "pycharm": {
     "name": "#%%\n",
     "is_executing": false
    }
   }
  }
 ],
 "metadata": {
  "kernelspec": {
   "display_name": "Python 3",
   "language": "python",
   "name": "python3"
  },
  "language_info": {
   "codemirror_mode": {
    "name": "ipython",
    "version": 2
   },
   "file_extension": ".py",
   "mimetype": "text/x-python",
   "name": "python",
   "nbconvert_exporter": "python",
   "pygments_lexer": "ipython2",
   "version": "2.7.6"
  },
  "pycharm": {
   "stem_cell": {
    "cell_type": "raw",
    "source": [],
    "metadata": {
     "collapsed": false
    }
   }
  }
 },
 "nbformat": 4,
 "nbformat_minor": 0
}