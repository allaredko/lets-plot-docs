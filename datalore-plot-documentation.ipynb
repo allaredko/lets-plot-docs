{
 "cells": [
  {
   "cell_type": "markdown",
   "metadata": {
    "collapsed": true,
    "pycharm": {
     "name": "#%% md\n"
    }
   },
   "source": [
    "# Lets-Plot Usage Guide\n",
    "\n",
    "<a href=\"https://opensource.org/licenses/MIT\">\n",
    "<img src=\"https://img.shields.io/badge/License-MIT-yellow.svg\" alt=\"Couldn't load MIT license svg\"/>\n",
    "</a>\n",
    "\n",
    "- [System requirements](#sys)\n",
    "- [Installation](#install)\n",
    "- [Understanding architecture](#implementation)\n",
    "- [Learning API](#api)\n",
    "- [Getting started](#gsg)\n",
    "\n",
    "\n",
    "**Lets-Plot** is an open-source plotting library for statistical data. It is implemented using the \n",
    "[Kotlin programming language](https://kotlinlang.org/) that has the multi-platform nature.\n",
    "That's why Lets-Plot provides the plotting functionality that \n",
    "is packaged as a JavaScript library, a JVM library, and a native Python extension.\n",
    "\n",
    "The design of Lets-Plot library is heavily influenced by Leland Wilkinson work \n",
    "[The Grammar of Graphics](https://www.goodreads.com/book/show/2549408.The_Grammar_of_Graphics) describing the deep features \n",
    "that underlie all statistical graphics.\n",
    "\n",
    "<a name=\"SystemRequirementa\" id=\"sys\"></a>\n",
    "## System requirements\n",
    "\n",
    "Supported operating systems:\n",
    "- macOS\n",
    "- Linux\n",
    "\n",
    "Supported Python versions:\n",
    "- 3.7\n",
    "- 3.8\n",
    "\n",
    "<a name=\"Installation\" id=\"install\"></a>\n",
    "## Installation\n",
    "\n",
    "The `lets-plot` package is available in the [pypi.org](https://pypi.org/project/lets-plot/) repository.\n",
    "Execute the following command to add the `lets-plot` package to your Python interpreter:\n",
    "\n",
    "`pip install lets-plot`\n",
    "\n",
    "<a name=\"Implementation\" id=\"implementation\"></a>\n",
    "## Understanding Lets-Plot architecture\n",
    "In `lets-plot`, the **plot** is represented at least by one\n",
    "**layer**. It can be built based on the default dataset with the aesthetics mappings, set of scales, or additional \n",
    "features applied.\n",
    "\n",
    "The **Layer** is responsible for creating the objects painted on the ‘canvas’ and it contains the following elements:\n",
    "- **Data** - the set of data specified either once for all layers or on per layer basis.\n",
    "One plot can combine multiple different datasets (one per layer).\n",
    "- **Aesthetic mapping** - describes how variables in the dataset are mapped to visual properties of the layer, such as color, shape, size, or position.\n",
    "- **Geometric object** - a geometric object used draw observations.\n",
    "- **Statistical transformation** - computes some kind of statistical summary on the raw input data. \n",
    "For example, ‘bin’ statistic is used for histograms and `smooth` stat is used for regression lines. \n",
    "Most stats take additional parameters to specify details of statistical transformation of data.\n",
    "- **Position adjustment** - method used compute the final coordinates of geometry. \n",
    "Used to build variants of the same geom object or to avoid overplotting.\n",
    "\n",
    "![layer diagram](layer-small.png)\n",
    "\n",
    "<a name=\"API\" id=\"api\"></a>\n",
    "## Learning API\n",
    "\n",
    "```\n",
    "p = ggplot(data=df) \n",
    "p + layer(geom='point', stat='identity', mapping=aes('x', 'y', size='x'), position='identity')\n",
    "```\n",
    "\n",
    "### Geometric objects `geom`\n",
    "\n",
    "You can add a new geometric specifying an argument in `layer(geom='<type of chart>')`, for example, `layer(geom='point')`.\n",
    "Alternatively, you can add the `geom_xxx` object to `ggplot`:\n",
    "\n",
    "```\n",
    "p = ggplot(data=df)\n",
    "p + geom_point()\n",
    "```\n",
    "\n",
    "The following charts are supported:\n",
    "\n",
    "- Area chart: [`geom_area()`](https://github.com/JetBrains/lets-plot/blob/master/docs/ref/python/geoms.md#geom_area-geom_ribbon)\n",
    "- Bar chart: [`geom_bar()`](https://github.com/JetBrains/lets-plot/blob/master/docs/ref/python/geoms.md#geom_bar--bar-chart)\n",
    "- Boxplot chart: [`geom_boxplot()`](https://github.com/JetBrains/lets-plot/blob/master/docs/ref/python/geoms.md#geom_boxplot)\n",
    "- Contour chart: [`geom_contour(), geom_contourf()`](https://github.com/JetBrains/lets-plot/blob/master/docs/ref/python/geoms.md#geom_contour-geom_contourf)\n",
    "- Density chart: [`geom_density()`](https://github.com/JetBrains/lets-plot/blob/master/docs/ref/python/geoms.md#geom_density)\n",
    "- Error bar chart: [`geom_errorbar()`](https://github.com/JetBrains/lets-plot/blob/master/docs/ref/python/geoms.md#geom_errorbar)\n",
    "- Historgam: [`geom_histogram()`](https://github.com/JetBrains/lets-plot/blob/master/docs/ref/python/geoms.md#geom_freqpoly-geom_histogram)\n",
    "- Line chart: [`geom_line()`](https://github.com/JetBrains/lets-plot/blob/master/docs/ref/python/geoms.md#geom_path-geom_line-geom_step)\n",
    "- Scatter chart: [`geom_point()`](https://github.com/JetBrains/lets-plot/blob/master/docs/ref/python/geoms.md#geom_point)\n",
    "- Polygon chart:  [`geom_polygon`](https://github.com/JetBrains/lets-plot/blob/master/docs/ref/python/geoms.md#geom_polygon)\n",
    "- Rectangle chart, Tile chart: [`geom_rect()`, `geom_tile()`](https://github.com/JetBrains/lets-plot/blob/master/docs/ref/python/geoms.md#geom_raster-geom_tile-geom_rect)\n",
    "\n",
    "See the [geom reference](https://github.com/JetBrains/lets-plot/blob/master/docs/ref/python/geoms.md) for more information about the supported\n",
    "geometric functions, their arguments, and default values.\n",
    "\n",
    "### Stat `stat`\n",
    "\n",
    "Add `stat` as an argument to `layer` or `geom` functions to define data transformations:\n",
    "\n",
    "`layer(start='count`)\n",
    "\n",
    "Supported transformations:\n",
    "\n",
    "- `identity`:  leaves the data unchanged\n",
    "- `count`:  calculates the number of points with same x-axis coordinate\n",
    "- `bin`:  calculates the number of points with x-axis coordinate in the same level\n",
    "- `smooth`:  performs smoothing\n",
    "- `contour`: calculates contours of 3D data\n",
    "\n",
    "### Aesthetic mappings `mapping`\n",
    "With mappings, you can define how variables in dataset are mapped to the visual elements of the chart.\n",
    "Add the `aes(x, y, other)` function to `layer` or `geom`, where\n",
    "- `x`: the dataframe column to render on the x axis. \n",
    "- `y`: the dataframe column to render on the y axis.\n",
    "- `other`: other visual properties of the chart, such as color, shape, size, or position.\n",
    "\n",
    "`geom_bar(x='cty', y='hwy', color='cyl')`\n",
    "you can use a simplified form:\n",
    "`geom_bar('cty', 'hwy', color='cyl')`\n",
    "\n",
    "### Position `position`\n",
    "\n",
    "All layers have a position adjustment that resolves overlapping geoms. \n",
    "Override the default settings by using the `position` argument in the `geom` functions:\n",
    "\n",
    "`geom_bar(position='dodge')`\n",
    "\n",
    "Available adjustments:\n",
    "- `dodge` ([`position_dodge()`](https://github.com/JetBrains/lets-plot/blob/master/docs/ref/python/positions.md#position_dodge))\n",
    "- `jitter` ([`position_jitter()`](https://github.com/JetBrains/lets-plot/blob/master/docs/ref/python/positions.md#position_jitter))\n",
    "- `jitterdodge` ([`position_jitterdodge()`](https://github.com/JetBrains/lets-plot/blob/master/docs/ref/python/positions.md#position_jitterdodge))\n",
    "- `nudge` ([`position_nudge()`](https://github.com/JetBrains/lets-plot/blob/master/docs/ref/python/positions.md#position_nudge))\n",
    "\n",
    "See the [position reference](https://github.com/JetBrains/lets-plot/blob/master/docs/ref/python/positions.md) for more information about position adjustments.\n",
    "\n",
    "### Features affecting the entire plot\n",
    "\n",
    "#### Scales\n",
    "\n",
    "Scales enable tailored adjustment of data values to visual properties and aesthetics. Override default scales to tweak \n",
    "details like the axis labels or legend keys, or to use a completely different translation from data to aesthetic.\n",
    "For example, to override the fill color on the histogram:\n",
    "\n",
    "`p + geom_histogram() + scale_fill_brewer(name=\"Trend\", palette=\"RdPu\")`\n",
    "\n",
    "See the list of the available  `scale` functions in the [scale reference](https://github.com/JetBrains/lets-plot/blob/master/docs/ref/python/scales.md)\n",
    "\n",
    "#### Coordinated system\n",
    "\n",
    "The coordinate system determines how the x and y aesthetics combine to position elements in the plot. \n",
    "To override the default X and Y ratio:\n",
    "\n",
    "`p + coord_fixed(ratio=2)`\n",
    "\n",
    "See the list of the available functions in [coordinates reference](https://github.com/JetBrains/lets-plot/blob/master/docs/ref/python/coordinates.md)\n",
    "\n",
    "#### Legend\n",
    "The axes and legends help users interpret plots.\n",
    "Use the `guide` functions or the `guide` argument of the `scale` function for customize the legend.\n",
    "For example, to define the number of columns in the legend:\n",
    "\n",
    "`p + scale_color_discrete(guide=guide_legend(ncol=2))`\n",
    "\n",
    "See more information in the [guide reference](https://github.com/JetBrains/lets-plot/blob/master/docs/ref/python/guide.md)"
   ]
  },
  {
   "cell_type": "code",
   "execution_count": 84,
   "outputs": [
    {
     "data": {
      "text/plain": "   Unnamed: 0 manufacturer model  displ  year  cyl       trans drv  cty  hwy  \\\n0           1         audi    a4    1.8  1999    4    auto(l5)   f   18   29   \n1           2         audi    a4    1.8  1999    4  manual(m5)   f   21   29   \n2           3         audi    a4    2.0  2008    4  manual(m6)   f   20   31   \n3           4         audi    a4    2.0  2008    4    auto(av)   f   21   30   \n4           5         audi    a4    2.8  1999    6    auto(l5)   f   16   26   \n\n  fl    class  \n0  p  compact  \n1  p  compact  \n2  p  compact  \n3  p  compact  \n4  p  compact  ",
      "text/html": "<div>\n<style scoped>\n    .dataframe tbody tr th:only-of-type {\n        vertical-align: middle;\n    }\n\n    .dataframe tbody tr th {\n        vertical-align: top;\n    }\n\n    .dataframe thead th {\n        text-align: right;\n    }\n</style>\n<table border=\"1\" class=\"dataframe\">\n  <thead>\n    <tr style=\"text-align: right;\">\n      <th></th>\n      <th>Unnamed: 0</th>\n      <th>manufacturer</th>\n      <th>model</th>\n      <th>displ</th>\n      <th>year</th>\n      <th>cyl</th>\n      <th>trans</th>\n      <th>drv</th>\n      <th>cty</th>\n      <th>hwy</th>\n      <th>fl</th>\n      <th>class</th>\n    </tr>\n  </thead>\n  <tbody>\n    <tr>\n      <th>0</th>\n      <td>1</td>\n      <td>audi</td>\n      <td>a4</td>\n      <td>1.8</td>\n      <td>1999</td>\n      <td>4</td>\n      <td>auto(l5)</td>\n      <td>f</td>\n      <td>18</td>\n      <td>29</td>\n      <td>p</td>\n      <td>compact</td>\n    </tr>\n    <tr>\n      <th>1</th>\n      <td>2</td>\n      <td>audi</td>\n      <td>a4</td>\n      <td>1.8</td>\n      <td>1999</td>\n      <td>4</td>\n      <td>manual(m5)</td>\n      <td>f</td>\n      <td>21</td>\n      <td>29</td>\n      <td>p</td>\n      <td>compact</td>\n    </tr>\n    <tr>\n      <th>2</th>\n      <td>3</td>\n      <td>audi</td>\n      <td>a4</td>\n      <td>2.0</td>\n      <td>2008</td>\n      <td>4</td>\n      <td>manual(m6)</td>\n      <td>f</td>\n      <td>20</td>\n      <td>31</td>\n      <td>p</td>\n      <td>compact</td>\n    </tr>\n    <tr>\n      <th>3</th>\n      <td>4</td>\n      <td>audi</td>\n      <td>a4</td>\n      <td>2.0</td>\n      <td>2008</td>\n      <td>4</td>\n      <td>auto(av)</td>\n      <td>f</td>\n      <td>21</td>\n      <td>30</td>\n      <td>p</td>\n      <td>compact</td>\n    </tr>\n    <tr>\n      <th>4</th>\n      <td>5</td>\n      <td>audi</td>\n      <td>a4</td>\n      <td>2.8</td>\n      <td>1999</td>\n      <td>6</td>\n      <td>auto(l5)</td>\n      <td>f</td>\n      <td>16</td>\n      <td>26</td>\n      <td>p</td>\n      <td>compact</td>\n    </tr>\n  </tbody>\n</table>\n</div>"
     },
     "metadata": {},
     "output_type": "execute_result",
     "execution_count": 84
    }
   ],
   "source": [
    "# Data set\n",
    "\n",
    "import pandas as pd\n",
    "from lets_plot import *\n",
    "mpg = pd.read_csv('http://jetbrains.bintray.com/datalore-plot/mpg.csv')\n",
    "mpg.head()"
   ],
   "metadata": {
    "collapsed": false,
    "pycharm": {
     "name": "#%%\n",
     "is_executing": false
    }
   }
  },
  {
   "cell_type": "code",
   "execution_count": 85,
   "outputs": [
    {
     "data": {
      "text/plain": "<lets_plot.plot.core.PlotSpec at 0x11a253970>",
      "text/html": "\n            <div id=\"plot_output_yqscPa\"></div>\n            <script type=\"text/javascript\">\n                (function() {\n                    var plotSpec={\n'data':{\n'Unnamed: 0':[1.0,2.0,3.0,4.0,5.0,6.0,7.0,8.0,9.0,10.0,11.0,12.0,13.0,14.0,15.0,16.0,17.0,18.0,19.0,20.0,21.0,22.0,23.0,24.0,25.0,26.0,27.0,28.0,29.0,30.0,31.0,32.0,33.0,34.0,35.0,36.0,37.0,38.0,39.0,40.0,41.0,42.0,43.0,44.0,45.0,46.0,47.0,48.0,49.0,50.0,51.0,52.0,53.0,54.0,55.0,56.0,57.0,58.0,59.0,60.0,61.0,62.0,63.0,64.0,65.0,66.0,67.0,68.0,69.0,70.0,71.0,72.0,73.0,74.0,75.0,76.0,77.0,78.0,79.0,80.0,81.0,82.0,83.0,84.0,85.0,86.0,87.0,88.0,89.0,90.0,91.0,92.0,93.0,94.0,95.0,96.0,97.0,98.0,99.0,100.0,101.0,102.0,103.0,104.0,105.0,106.0,107.0,108.0,109.0,110.0,111.0,112.0,113.0,114.0,115.0,116.0,117.0,118.0,119.0,120.0,121.0,122.0,123.0,124.0,125.0,126.0,127.0,128.0,129.0,130.0,131.0,132.0,133.0,134.0,135.0,136.0,137.0,138.0,139.0,140.0,141.0,142.0,143.0,144.0,145.0,146.0,147.0,148.0,149.0,150.0,151.0,152.0,153.0,154.0,155.0,156.0,157.0,158.0,159.0,160.0,161.0,162.0,163.0,164.0,165.0,166.0,167.0,168.0,169.0,170.0,171.0,172.0,173.0,174.0,175.0,176.0,177.0,178.0,179.0,180.0,181.0,182.0,183.0,184.0,185.0,186.0,187.0,188.0,189.0,190.0,191.0,192.0,193.0,194.0,195.0,196.0,197.0,198.0,199.0,200.0,201.0,202.0,203.0,204.0,205.0,206.0,207.0,208.0,209.0,210.0,211.0,212.0,213.0,214.0,215.0,216.0,217.0,218.0,219.0,220.0,221.0,222.0,223.0,224.0,225.0,226.0,227.0,228.0,229.0,230.0,231.0,232.0,233.0,234.0],\n'cty':[18.0,21.0,20.0,21.0,16.0,18.0,18.0,18.0,16.0,20.0,19.0,15.0,17.0,17.0,15.0,15.0,17.0,16.0,14.0,11.0,14.0,13.0,12.0,16.0,15.0,16.0,15.0,15.0,14.0,11.0,11.0,14.0,19.0,22.0,18.0,18.0,17.0,18.0,17.0,16.0,16.0,17.0,17.0,11.0,15.0,15.0,16.0,16.0,15.0,14.0,13.0,14.0,14.0,14.0,9.0,11.0,11.0,13.0,13.0,9.0,13.0,11.0,13.0,11.0,12.0,9.0,13.0,13.0,12.0,9.0,11.0,11.0,13.0,11.0,11.0,11.0,12.0,14.0,15.0,14.0,13.0,13.0,13.0,14.0,14.0,13.0,13.0,13.0,11.0,13.0,18.0,18.0,17.0,16.0,15.0,15.0,15.0,15.0,14.0,28.0,24.0,25.0,23.0,24.0,26.0,25.0,24.0,21.0,18.0,18.0,21.0,21.0,18.0,18.0,19.0,19.0,19.0,20.0,20.0,17.0,16.0,17.0,17.0,15.0,15.0,14.0,9.0,14.0,13.0,11.0,11.0,12.0,12.0,11.0,11.0,11.0,12.0,14.0,13.0,13.0,13.0,21.0,19.0,23.0,23.0,19.0,19.0,18.0,19.0,19.0,14.0,15.0,14.0,12.0,18.0,16.0,17.0,18.0,16.0,18.0,18.0,20.0,19.0,20.0,18.0,21.0,19.0,19.0,19.0,20.0,20.0,19.0,20.0,15.0,16.0,15.0,15.0,16.0,14.0,21.0,21.0,21.0,21.0,18.0,18.0,19.0,21.0,21.0,21.0,22.0,18.0,18.0,18.0,24.0,24.0,26.0,28.0,26.0,11.0,13.0,15.0,16.0,17.0,15.0,15.0,15.0,16.0,21.0,19.0,21.0,22.0,17.0,33.0,21.0,19.0,22.0,21.0,21.0,21.0,16.0,17.0,35.0,29.0,21.0,19.0,20.0,20.0,21.0,18.0,19.0,21.0,16.0,18.0,17.0]\n},\n'kind':\"plot\",\n'scales':[],\n'layers':[{\n'geom':\"point\",\n'mapping':{\n'x':\"Unnamed: 0\",\n'y':\"cty\"\n},\n'data':{\n}\n}]\n};\n                    var plotContainer = document.getElementById(\"plot_output_yqscPa\");\n                    window.letsPlotCall(function() {{\n                        LetsPlot.buildPlotFromProcessedSpecs(plotSpec, -1, -1, plotContainer);\n                    }});\n                })();    \n            </script>\n        "
     },
     "metadata": {},
     "output_type": "execute_result",
     "execution_count": 85
    }
   ],
   "source": [
    "# Basic plotting\n",
    "\n",
    "p = ggplot(mpg)\n",
    "p + geom_point()"
   ],
   "metadata": {
    "collapsed": false,
    "pycharm": {
     "name": "#%%\n",
     "is_executing": false
    }
   }
  },
  {
   "cell_type": "code",
   "execution_count": 86,
   "outputs": [
    {
     "data": {
      "text/plain": "<lets_plot.plot.core.PlotSpec at 0x11a2a5af0>",
      "text/html": "\n            <div id=\"plot_output_zXsUJI\"></div>\n            <script type=\"text/javascript\">\n                (function() {\n                    var plotSpec={\n'data':{\n'displ':[1.8,1.8,2.0,2.0,2.8,2.8,3.1,1.8,1.8,2.0,2.0,2.8,2.8,3.1,3.1,2.8,3.1,4.2,5.3,5.3,5.3,5.7,6.0,5.7,5.7,6.2,6.2,7.0,5.3,5.3,5.7,6.5,2.4,2.4,3.1,3.5,3.6,2.4,3.0,3.3,3.3,3.3,3.3,3.3,3.8,3.8,3.8,4.0,3.7,3.7,3.9,3.9,4.7,4.7,4.7,5.2,5.2,3.9,4.7,4.7,4.7,5.2,5.7,5.9,4.7,4.7,4.7,4.7,4.7,4.7,5.2,5.2,5.7,5.9,4.6,5.4,5.4,4.0,4.0,4.0,4.0,4.6,5.0,4.2,4.2,4.6,4.6,4.6,5.4,5.4,3.8,3.8,4.0,4.0,4.6,4.6,4.6,4.6,5.4,1.6,1.6,1.6,1.6,1.6,1.8,1.8,1.8,2.0,2.4,2.4,2.4,2.4,2.5,2.5,3.3,2.0,2.0,2.0,2.0,2.7,2.7,2.7,3.0,3.7,4.0,4.7,4.7,4.7,5.7,6.1,4.0,4.2,4.4,4.6,5.4,5.4,5.4,4.0,4.0,4.6,5.0,2.4,2.4,2.5,2.5,3.5,3.5,3.0,3.0,3.5,3.3,3.3,4.0,5.6,3.1,3.8,3.8,3.8,5.3,2.5,2.5,2.5,2.5,2.5,2.5,2.2,2.2,2.5,2.5,2.5,2.5,2.5,2.5,2.7,2.7,3.4,3.4,4.0,4.7,2.2,2.2,2.4,2.4,3.0,3.0,3.5,2.2,2.2,2.4,2.4,3.0,3.0,3.3,1.8,1.8,1.8,1.8,1.8,4.7,5.7,2.7,2.7,2.7,3.4,3.4,4.0,4.0,2.0,2.0,2.0,2.0,2.8,1.9,2.0,2.0,2.0,2.0,2.5,2.5,2.8,2.8,1.9,1.9,2.0,2.0,2.5,2.5,1.8,1.8,2.0,2.0,2.8,2.8,3.6],\n'cyl':[4.0,4.0,4.0,4.0,6.0,6.0,6.0,4.0,4.0,4.0,4.0,6.0,6.0,6.0,6.0,6.0,6.0,8.0,8.0,8.0,8.0,8.0,8.0,8.0,8.0,8.0,8.0,8.0,8.0,8.0,8.0,8.0,4.0,4.0,6.0,6.0,6.0,4.0,6.0,6.0,6.0,6.0,6.0,6.0,6.0,6.0,6.0,6.0,6.0,6.0,6.0,6.0,8.0,8.0,8.0,8.0,8.0,6.0,8.0,8.0,8.0,8.0,8.0,8.0,8.0,8.0,8.0,8.0,8.0,8.0,8.0,8.0,8.0,8.0,8.0,8.0,8.0,6.0,6.0,6.0,6.0,8.0,8.0,6.0,6.0,8.0,8.0,8.0,8.0,8.0,6.0,6.0,6.0,6.0,8.0,8.0,8.0,8.0,8.0,4.0,4.0,4.0,4.0,4.0,4.0,4.0,4.0,4.0,4.0,4.0,4.0,4.0,6.0,6.0,6.0,4.0,4.0,4.0,4.0,6.0,6.0,6.0,6.0,6.0,6.0,8.0,8.0,8.0,8.0,8.0,8.0,8.0,8.0,8.0,8.0,8.0,8.0,6.0,6.0,8.0,8.0,4.0,4.0,4.0,4.0,6.0,6.0,6.0,6.0,6.0,6.0,6.0,6.0,8.0,6.0,6.0,6.0,6.0,8.0,4.0,4.0,4.0,4.0,4.0,4.0,4.0,4.0,4.0,4.0,4.0,4.0,4.0,4.0,4.0,4.0,6.0,6.0,6.0,8.0,4.0,4.0,4.0,4.0,6.0,6.0,6.0,4.0,4.0,4.0,4.0,6.0,6.0,6.0,4.0,4.0,4.0,4.0,4.0,8.0,8.0,4.0,4.0,4.0,6.0,6.0,6.0,6.0,4.0,4.0,4.0,4.0,6.0,4.0,4.0,4.0,4.0,4.0,5.0,5.0,6.0,6.0,4.0,4.0,4.0,4.0,5.0,5.0,4.0,4.0,4.0,4.0,6.0,6.0,6.0],\n'hwy':[29.0,29.0,31.0,30.0,26.0,26.0,27.0,26.0,25.0,28.0,27.0,25.0,25.0,25.0,25.0,24.0,25.0,23.0,20.0,15.0,20.0,17.0,17.0,26.0,23.0,26.0,25.0,24.0,19.0,14.0,15.0,17.0,27.0,30.0,26.0,29.0,26.0,24.0,24.0,22.0,22.0,24.0,24.0,17.0,22.0,21.0,23.0,23.0,19.0,18.0,17.0,17.0,19.0,19.0,12.0,17.0,15.0,17.0,17.0,12.0,17.0,16.0,18.0,15.0,16.0,12.0,17.0,17.0,16.0,12.0,15.0,16.0,17.0,15.0,17.0,17.0,18.0,17.0,19.0,17.0,19.0,19.0,17.0,17.0,17.0,16.0,16.0,17.0,15.0,17.0,26.0,25.0,26.0,24.0,21.0,22.0,23.0,22.0,20.0,33.0,32.0,32.0,29.0,32.0,34.0,36.0,36.0,29.0,26.0,27.0,30.0,31.0,26.0,26.0,28.0,26.0,29.0,28.0,27.0,24.0,24.0,24.0,22.0,19.0,20.0,17.0,12.0,19.0,18.0,14.0,15.0,18.0,18.0,15.0,17.0,16.0,18.0,17.0,19.0,19.0,17.0,29.0,27.0,31.0,32.0,27.0,26.0,26.0,25.0,25.0,17.0,17.0,20.0,18.0,26.0,26.0,27.0,28.0,25.0,25.0,24.0,27.0,25.0,26.0,23.0,26.0,26.0,26.0,26.0,25.0,27.0,25.0,27.0,20.0,20.0,19.0,17.0,20.0,17.0,29.0,27.0,31.0,31.0,26.0,26.0,28.0,27.0,29.0,31.0,31.0,26.0,26.0,27.0,30.0,33.0,35.0,37.0,35.0,15.0,18.0,20.0,20.0,22.0,17.0,19.0,18.0,20.0,29.0,26.0,29.0,29.0,24.0,44.0,29.0,26.0,29.0,29.0,29.0,29.0,23.0,24.0,44.0,41.0,29.0,26.0,28.0,29.0,29.0,29.0,28.0,29.0,26.0,26.0,26.0]\n},\n'kind':\"plot\",\n'scales':[],\n'layers':[{\n'geom':\"point\",\n'mapping':{\n'x':\"displ\",\n'y':\"hwy\",\n'color':\"cyl\"\n},\n'data':{\n}\n}]\n};\n                    var plotContainer = document.getElementById(\"plot_output_zXsUJI\");\n                    window.letsPlotCall(function() {{\n                        LetsPlot.buildPlotFromProcessedSpecs(plotSpec, -1, -1, plotContainer);\n                    }});\n                })();    \n            </script>\n        "
     },
     "metadata": {},
     "output_type": "execute_result",
     "execution_count": 86
    }
   ],
   "source": [
    "# Mapping\n",
    "\n",
    "p + geom_point(aes('displ', 'hwy', color='cyl'))\n"
   ],
   "metadata": {
    "collapsed": false,
    "pycharm": {
     "name": "#%%\n",
     "is_executing": false
    }
   }
  },
  {
   "cell_type": "code",
   "execution_count": 87,
   "outputs": [
    {
     "data": {
      "text/plain": "<lets_plot.plot.core.PlotSpec at 0x11a0adb20>",
      "text/html": "\n            <div id=\"plot_output_hbWWxB\"></div>\n            <script type=\"text/javascript\">\n                (function() {\n                    var plotSpec={\n'data':{\n},\n'kind':\"plot\",\n'scales':[],\n'layers':[{\n'geom':\"point\",\n'stat':\"count\",\n'mapping':{\n'x':\"displ\",\n'y':\"hwy\",\n'color':\"cyl\"\n},\n'data':{\n'displ':[1.8,2.0,2.8,3.1,4.2,5.3,5.7,6.0,6.2,7.0,6.5,2.4,3.5,3.6,3.0,3.3,3.8,4.0,3.7,3.9,4.7,5.2,5.9,4.6,5.4,5.0,1.6,2.5,2.7,6.1,4.4,5.6,2.2,3.4,1.9],\n'hwy':[14.0,21.0,10.0,6.0,4.0,6.0,8.0,1.0,2.0,1.0,1.0,13.0,5.0,2.0,8.0,9.0,8.0,15.0,3.0,3.0,17.0,5.0,2.0,11.0,8.0,2.0,5.0,20.0,8.0,1.0,1.0,1.0,6.0,4.0,3.0],\n'cyl':[5.88888888888889,5.88888888888889,5.88888888888889,5.88888888888889,5.88888888888889,5.88888888888889,5.88888888888889,5.88888888888889,5.88888888888889,5.88888888888889,5.88888888888889,5.88888888888889,5.88888888888889,5.88888888888889,5.88888888888889,5.88888888888889,5.88888888888889,5.88888888888889,5.88888888888889,5.88888888888889,5.88888888888889,5.88888888888889,5.88888888888889,5.88888888888889,5.88888888888889,5.88888888888889,5.88888888888889,5.88888888888889,5.88888888888889,5.88888888888889,5.88888888888889,5.88888888888889,5.88888888888889,5.88888888888889,5.88888888888889]\n}\n}]\n};\n                    var plotContainer = document.getElementById(\"plot_output_hbWWxB\");\n                    window.letsPlotCall(function() {{\n                        LetsPlot.buildPlotFromProcessedSpecs(plotSpec, -1, -1, plotContainer);\n                    }});\n                })();    \n            </script>\n        "
     },
     "metadata": {},
     "output_type": "execute_result",
     "execution_count": 87
    }
   ],
   "source": [
    "p + geom_point(aes('displ', 'hwy', color='cyl'), stat='count')"
   ],
   "metadata": {
    "collapsed": false,
    "pycharm": {
     "name": "#%%\n",
     "is_executing": false
    }
   }
  },
  {
   "cell_type": "code",
   "execution_count": 88,
   "outputs": [
    {
     "data": {
      "text/plain": "<lets_plot.plot.core.PlotSpec at 0x119ebb4f0>",
      "text/html": "\n            <div id=\"plot_output_RW5lOo\"></div>\n            <script type=\"text/javascript\">\n                (function() {\n                    var plotSpec={\n'data':{\n'displ':[1.8,1.8,2.0,2.0,2.8,2.8,3.1,1.8,1.8,2.0,2.0,2.8,2.8,3.1,3.1,2.8,3.1,4.2,5.3,5.3,5.3,5.7,6.0,5.7,5.7,6.2,6.2,7.0,5.3,5.3,5.7,6.5,2.4,2.4,3.1,3.5,3.6,2.4,3.0,3.3,3.3,3.3,3.3,3.3,3.8,3.8,3.8,4.0,3.7,3.7,3.9,3.9,4.7,4.7,4.7,5.2,5.2,3.9,4.7,4.7,4.7,5.2,5.7,5.9,4.7,4.7,4.7,4.7,4.7,4.7,5.2,5.2,5.7,5.9,4.6,5.4,5.4,4.0,4.0,4.0,4.0,4.6,5.0,4.2,4.2,4.6,4.6,4.6,5.4,5.4,3.8,3.8,4.0,4.0,4.6,4.6,4.6,4.6,5.4,1.6,1.6,1.6,1.6,1.6,1.8,1.8,1.8,2.0,2.4,2.4,2.4,2.4,2.5,2.5,3.3,2.0,2.0,2.0,2.0,2.7,2.7,2.7,3.0,3.7,4.0,4.7,4.7,4.7,5.7,6.1,4.0,4.2,4.4,4.6,5.4,5.4,5.4,4.0,4.0,4.6,5.0,2.4,2.4,2.5,2.5,3.5,3.5,3.0,3.0,3.5,3.3,3.3,4.0,5.6,3.1,3.8,3.8,3.8,5.3,2.5,2.5,2.5,2.5,2.5,2.5,2.2,2.2,2.5,2.5,2.5,2.5,2.5,2.5,2.7,2.7,3.4,3.4,4.0,4.7,2.2,2.2,2.4,2.4,3.0,3.0,3.5,2.2,2.2,2.4,2.4,3.0,3.0,3.3,1.8,1.8,1.8,1.8,1.8,4.7,5.7,2.7,2.7,2.7,3.4,3.4,4.0,4.0,2.0,2.0,2.0,2.0,2.8,1.9,2.0,2.0,2.0,2.0,2.5,2.5,2.8,2.8,1.9,1.9,2.0,2.0,2.5,2.5,1.8,1.8,2.0,2.0,2.8,2.8,3.6],\n'cyl':[4.0,4.0,4.0,4.0,6.0,6.0,6.0,4.0,4.0,4.0,4.0,6.0,6.0,6.0,6.0,6.0,6.0,8.0,8.0,8.0,8.0,8.0,8.0,8.0,8.0,8.0,8.0,8.0,8.0,8.0,8.0,8.0,4.0,4.0,6.0,6.0,6.0,4.0,6.0,6.0,6.0,6.0,6.0,6.0,6.0,6.0,6.0,6.0,6.0,6.0,6.0,6.0,8.0,8.0,8.0,8.0,8.0,6.0,8.0,8.0,8.0,8.0,8.0,8.0,8.0,8.0,8.0,8.0,8.0,8.0,8.0,8.0,8.0,8.0,8.0,8.0,8.0,6.0,6.0,6.0,6.0,8.0,8.0,6.0,6.0,8.0,8.0,8.0,8.0,8.0,6.0,6.0,6.0,6.0,8.0,8.0,8.0,8.0,8.0,4.0,4.0,4.0,4.0,4.0,4.0,4.0,4.0,4.0,4.0,4.0,4.0,4.0,6.0,6.0,6.0,4.0,4.0,4.0,4.0,6.0,6.0,6.0,6.0,6.0,6.0,8.0,8.0,8.0,8.0,8.0,8.0,8.0,8.0,8.0,8.0,8.0,8.0,6.0,6.0,8.0,8.0,4.0,4.0,4.0,4.0,6.0,6.0,6.0,6.0,6.0,6.0,6.0,6.0,8.0,6.0,6.0,6.0,6.0,8.0,4.0,4.0,4.0,4.0,4.0,4.0,4.0,4.0,4.0,4.0,4.0,4.0,4.0,4.0,4.0,4.0,6.0,6.0,6.0,8.0,4.0,4.0,4.0,4.0,6.0,6.0,6.0,4.0,4.0,4.0,4.0,6.0,6.0,6.0,4.0,4.0,4.0,4.0,4.0,8.0,8.0,4.0,4.0,4.0,6.0,6.0,6.0,6.0,4.0,4.0,4.0,4.0,6.0,4.0,4.0,4.0,4.0,4.0,5.0,5.0,6.0,6.0,4.0,4.0,4.0,4.0,5.0,5.0,4.0,4.0,4.0,4.0,6.0,6.0,6.0],\n'hwy':[29.0,29.0,31.0,30.0,26.0,26.0,27.0,26.0,25.0,28.0,27.0,25.0,25.0,25.0,25.0,24.0,25.0,23.0,20.0,15.0,20.0,17.0,17.0,26.0,23.0,26.0,25.0,24.0,19.0,14.0,15.0,17.0,27.0,30.0,26.0,29.0,26.0,24.0,24.0,22.0,22.0,24.0,24.0,17.0,22.0,21.0,23.0,23.0,19.0,18.0,17.0,17.0,19.0,19.0,12.0,17.0,15.0,17.0,17.0,12.0,17.0,16.0,18.0,15.0,16.0,12.0,17.0,17.0,16.0,12.0,15.0,16.0,17.0,15.0,17.0,17.0,18.0,17.0,19.0,17.0,19.0,19.0,17.0,17.0,17.0,16.0,16.0,17.0,15.0,17.0,26.0,25.0,26.0,24.0,21.0,22.0,23.0,22.0,20.0,33.0,32.0,32.0,29.0,32.0,34.0,36.0,36.0,29.0,26.0,27.0,30.0,31.0,26.0,26.0,28.0,26.0,29.0,28.0,27.0,24.0,24.0,24.0,22.0,19.0,20.0,17.0,12.0,19.0,18.0,14.0,15.0,18.0,18.0,15.0,17.0,16.0,18.0,17.0,19.0,19.0,17.0,29.0,27.0,31.0,32.0,27.0,26.0,26.0,25.0,25.0,17.0,17.0,20.0,18.0,26.0,26.0,27.0,28.0,25.0,25.0,24.0,27.0,25.0,26.0,23.0,26.0,26.0,26.0,26.0,25.0,27.0,25.0,27.0,20.0,20.0,19.0,17.0,20.0,17.0,29.0,27.0,31.0,31.0,26.0,26.0,28.0,27.0,29.0,31.0,31.0,26.0,26.0,27.0,30.0,33.0,35.0,37.0,35.0,15.0,18.0,20.0,20.0,22.0,17.0,19.0,18.0,20.0,29.0,26.0,29.0,29.0,24.0,44.0,29.0,26.0,29.0,29.0,29.0,29.0,23.0,24.0,44.0,41.0,29.0,26.0,28.0,29.0,29.0,29.0,28.0,29.0,26.0,26.0,26.0]\n},\n'kind':\"plot\",\n'scales':[{\n'aesthetic':\"color\",\n'scale_mapper_kind':\"color_brewer\"\n}],\n'layers':[{\n'geom':\"point\",\n'mapping':{\n'x':\"displ\",\n'y':\"hwy\",\n'color':\"cyl\"\n},\n'position':\"nudge\",\n'data':{\n}\n}]\n};\n                    var plotContainer = document.getElementById(\"plot_output_RW5lOo\");\n                    window.letsPlotCall(function() {{\n                        LetsPlot.buildPlotFromProcessedSpecs(plotSpec, -1, -1, plotContainer);\n                    }});\n                })();    \n            </script>\n        "
     },
     "metadata": {},
     "output_type": "execute_result",
     "execution_count": 88
    }
   ],
   "source": [
    "p + geom_point(aes('displ', 'hwy', color='cyl'), position='nudge') + scale_color_brewer()"
   ],
   "metadata": {
    "collapsed": false,
    "pycharm": {
     "name": "#%%\n",
     "is_executing": false
    }
   }
  },
  {
   "cell_type": "code",
   "execution_count": 89,
   "outputs": [
    {
     "data": {
      "text/plain": "<lets_plot.plot.core.PlotSpec at 0x11a198b80>",
      "text/html": "\n            <div id=\"plot_output_EbfaSu\"></div>\n            <script type=\"text/javascript\">\n                (function() {\n                    var plotSpec={\n'data':{\n},\n'kind':\"plot\",\n'scales':[],\n'layers':[{\n'geom':\"point\",\n'sampling':{\n'name':\"pick\",\n'n':10\n},\n'mapping':{\n'x':\"Unnamed: 0\",\n'y':\"cty\"\n},\n'data':{\n'Unnamed: 0':[1.0,2.0,3.0,4.0,5.0,6.0,7.0,8.0,9.0,10.0],\n'cty':[18.0,21.0,20.0,21.0,16.0,18.0,18.0,18.0,16.0,20.0]\n}\n}],\n'computation_messages':[\"sampling_pick(n=10) was applied to [point/identity stat] layer\"]\n};\n                    var plotContainer = document.getElementById(\"plot_output_EbfaSu\");\n                    window.letsPlotCall(function() {{\n                        LetsPlot.buildPlotFromProcessedSpecs(plotSpec, -1, -1, plotContainer);\n                    }});\n                })();    \n            </script>\n        "
     },
     "metadata": {},
     "output_type": "execute_result",
     "execution_count": 89
    }
   ],
   "source": [
    "p + geom_point(sampling=sampling_pick(10))\n"
   ],
   "metadata": {
    "collapsed": false,
    "pycharm": {
     "name": "#%%\n",
     "is_executing": false
    }
   }
  }
 ],
 "metadata": {
  "kernelspec": {
   "display_name": "Python 3",
   "language": "python",
   "name": "python3"
  },
  "language_info": {
   "codemirror_mode": {
    "name": "ipython",
    "version": 2
   },
   "file_extension": ".py",
   "mimetype": "text/x-python",
   "name": "python",
   "nbconvert_exporter": "python",
   "pygments_lexer": "ipython2",
   "version": "2.7.6"
  },
  "pycharm": {
   "stem_cell": {
    "cell_type": "raw",
    "source": [],
    "metadata": {
     "collapsed": false
    }
   }
  }
 },
 "nbformat": 4,
 "nbformat_minor": 0
}